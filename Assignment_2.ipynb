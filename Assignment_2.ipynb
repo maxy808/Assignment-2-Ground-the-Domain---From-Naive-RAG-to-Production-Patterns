{
  "cells": [
    {
      "cell_type": "markdown",
      "source": [
        "# RAG System Implementation and Evaluation\n",
        "**Course Assignment 2: From Naive RAG to Production Patterns**\n",
        "\n",
        "---\n",
        "## 1. Setup and Data Loading\n",
        "### 1.1 Install Dependencies"
      ],
      "metadata": {
        "id": "X7FA4_a0gN5a"
      }
    },
    {
      "cell_type": "code",
      "source": [
        "from google.colab import drive\n",
        "drive.mount('/content/drive')"
      ],
      "metadata": {
        "colab": {
          "base_uri": "https://localhost:8080/",
          "height": 0
        },
        "id": "zmPATLDEeQl6",
        "outputId": "b11501e0-eb57-4b25-8c66-9461c959d979"
      },
      "execution_count": 1,
      "outputs": [
        {
          "output_type": "stream",
          "name": "stdout",
          "text": [
            "Drive already mounted at /content/drive; to attempt to forcibly remount, call drive.mount(\"/content/drive\", force_remount=True).\n"
          ]
        }
      ]
    },
    {
      "cell_type": "code",
      "execution_count": 2,
      "metadata": {
        "colab": {
          "base_uri": "https://localhost:8080/",
          "height": 0
        },
        "id": "6oICJGmGAgYS",
        "outputId": "4eed8633-1f4a-48ed-fd4b-81ef720b27dd"
      },
      "outputs": [
        {
          "output_type": "stream",
          "name": "stdout",
          "text": [
            "Requirement already satisfied: sentence-transformers in /usr/local/lib/python3.12/dist-packages (5.1.1)\n",
            "Requirement already satisfied: faiss-cpu in /usr/local/lib/python3.12/dist-packages (1.12.0)\n",
            "Requirement already satisfied: datasets in /usr/local/lib/python3.12/dist-packages (4.0.0)\n",
            "Requirement already satisfied: huggingface-hub in /usr/local/lib/python3.12/dist-packages (0.35.3)\n",
            "Requirement already satisfied: transformers<5.0.0,>=4.41.0 in /usr/local/lib/python3.12/dist-packages (from sentence-transformers) (4.56.2)\n",
            "Requirement already satisfied: tqdm in /usr/local/lib/python3.12/dist-packages (from sentence-transformers) (4.67.1)\n",
            "Requirement already satisfied: torch>=1.11.0 in /usr/local/lib/python3.12/dist-packages (from sentence-transformers) (2.8.0+cu126)\n",
            "Requirement already satisfied: scikit-learn in /usr/local/lib/python3.12/dist-packages (from sentence-transformers) (1.6.1)\n",
            "Requirement already satisfied: scipy in /usr/local/lib/python3.12/dist-packages (from sentence-transformers) (1.16.2)\n",
            "Requirement already satisfied: Pillow in /usr/local/lib/python3.12/dist-packages (from sentence-transformers) (11.3.0)\n",
            "Requirement already satisfied: typing_extensions>=4.5.0 in /usr/local/lib/python3.12/dist-packages (from sentence-transformers) (4.15.0)\n",
            "Requirement already satisfied: numpy<3.0,>=1.25.0 in /usr/local/lib/python3.12/dist-packages (from faiss-cpu) (2.0.2)\n",
            "Requirement already satisfied: packaging in /usr/local/lib/python3.12/dist-packages (from faiss-cpu) (25.0)\n",
            "Requirement already satisfied: filelock in /usr/local/lib/python3.12/dist-packages (from datasets) (3.19.1)\n",
            "Requirement already satisfied: pyarrow>=15.0.0 in /usr/local/lib/python3.12/dist-packages (from datasets) (18.1.0)\n",
            "Requirement already satisfied: dill<0.3.9,>=0.3.0 in /usr/local/lib/python3.12/dist-packages (from datasets) (0.3.8)\n",
            "Requirement already satisfied: pandas in /usr/local/lib/python3.12/dist-packages (from datasets) (2.2.2)\n",
            "Requirement already satisfied: requests>=2.32.2 in /usr/local/lib/python3.12/dist-packages (from datasets) (2.32.4)\n",
            "Requirement already satisfied: xxhash in /usr/local/lib/python3.12/dist-packages (from datasets) (3.5.0)\n",
            "Requirement already satisfied: multiprocess<0.70.17 in /usr/local/lib/python3.12/dist-packages (from datasets) (0.70.16)\n",
            "Requirement already satisfied: fsspec<=2025.3.0,>=2023.1.0 in /usr/local/lib/python3.12/dist-packages (from fsspec[http]<=2025.3.0,>=2023.1.0->datasets) (2025.3.0)\n",
            "Requirement already satisfied: pyyaml>=5.1 in /usr/local/lib/python3.12/dist-packages (from datasets) (6.0.3)\n",
            "Requirement already satisfied: hf-xet<2.0.0,>=1.1.3 in /usr/local/lib/python3.12/dist-packages (from huggingface-hub) (1.1.10)\n",
            "Requirement already satisfied: aiohttp!=4.0.0a0,!=4.0.0a1 in /usr/local/lib/python3.12/dist-packages (from fsspec[http]<=2025.3.0,>=2023.1.0->datasets) (3.12.15)\n",
            "Requirement already satisfied: charset_normalizer<4,>=2 in /usr/local/lib/python3.12/dist-packages (from requests>=2.32.2->datasets) (3.4.3)\n",
            "Requirement already satisfied: idna<4,>=2.5 in /usr/local/lib/python3.12/dist-packages (from requests>=2.32.2->datasets) (3.10)\n",
            "Requirement already satisfied: urllib3<3,>=1.21.1 in /usr/local/lib/python3.12/dist-packages (from requests>=2.32.2->datasets) (2.5.0)\n",
            "Requirement already satisfied: certifi>=2017.4.17 in /usr/local/lib/python3.12/dist-packages (from requests>=2.32.2->datasets) (2025.8.3)\n",
            "Requirement already satisfied: setuptools in /usr/local/lib/python3.12/dist-packages (from torch>=1.11.0->sentence-transformers) (75.2.0)\n",
            "Requirement already satisfied: sympy>=1.13.3 in /usr/local/lib/python3.12/dist-packages (from torch>=1.11.0->sentence-transformers) (1.13.3)\n",
            "Requirement already satisfied: networkx in /usr/local/lib/python3.12/dist-packages (from torch>=1.11.0->sentence-transformers) (3.5)\n",
            "Requirement already satisfied: jinja2 in /usr/local/lib/python3.12/dist-packages (from torch>=1.11.0->sentence-transformers) (3.1.6)\n",
            "Requirement already satisfied: nvidia-cuda-nvrtc-cu12==12.6.77 in /usr/local/lib/python3.12/dist-packages (from torch>=1.11.0->sentence-transformers) (12.6.77)\n",
            "Requirement already satisfied: nvidia-cuda-runtime-cu12==12.6.77 in /usr/local/lib/python3.12/dist-packages (from torch>=1.11.0->sentence-transformers) (12.6.77)\n",
            "Requirement already satisfied: nvidia-cuda-cupti-cu12==12.6.80 in /usr/local/lib/python3.12/dist-packages (from torch>=1.11.0->sentence-transformers) (12.6.80)\n",
            "Requirement already satisfied: nvidia-cudnn-cu12==9.10.2.21 in /usr/local/lib/python3.12/dist-packages (from torch>=1.11.0->sentence-transformers) (9.10.2.21)\n",
            "Requirement already satisfied: nvidia-cublas-cu12==12.6.4.1 in /usr/local/lib/python3.12/dist-packages (from torch>=1.11.0->sentence-transformers) (12.6.4.1)\n",
            "Requirement already satisfied: nvidia-cufft-cu12==11.3.0.4 in /usr/local/lib/python3.12/dist-packages (from torch>=1.11.0->sentence-transformers) (11.3.0.4)\n",
            "Requirement already satisfied: nvidia-curand-cu12==10.3.7.77 in /usr/local/lib/python3.12/dist-packages (from torch>=1.11.0->sentence-transformers) (10.3.7.77)\n",
            "Requirement already satisfied: nvidia-cusolver-cu12==11.7.1.2 in /usr/local/lib/python3.12/dist-packages (from torch>=1.11.0->sentence-transformers) (11.7.1.2)\n",
            "Requirement already satisfied: nvidia-cusparse-cu12==12.5.4.2 in /usr/local/lib/python3.12/dist-packages (from torch>=1.11.0->sentence-transformers) (12.5.4.2)\n",
            "Requirement already satisfied: nvidia-cusparselt-cu12==0.7.1 in /usr/local/lib/python3.12/dist-packages (from torch>=1.11.0->sentence-transformers) (0.7.1)\n",
            "Requirement already satisfied: nvidia-nccl-cu12==2.27.3 in /usr/local/lib/python3.12/dist-packages (from torch>=1.11.0->sentence-transformers) (2.27.3)\n",
            "Requirement already satisfied: nvidia-nvtx-cu12==12.6.77 in /usr/local/lib/python3.12/dist-packages (from torch>=1.11.0->sentence-transformers) (12.6.77)\n",
            "Requirement already satisfied: nvidia-nvjitlink-cu12==12.6.85 in /usr/local/lib/python3.12/dist-packages (from torch>=1.11.0->sentence-transformers) (12.6.85)\n",
            "Requirement already satisfied: nvidia-cufile-cu12==1.11.1.6 in /usr/local/lib/python3.12/dist-packages (from torch>=1.11.0->sentence-transformers) (1.11.1.6)\n",
            "Requirement already satisfied: triton==3.4.0 in /usr/local/lib/python3.12/dist-packages (from torch>=1.11.0->sentence-transformers) (3.4.0)\n",
            "Requirement already satisfied: regex!=2019.12.17 in /usr/local/lib/python3.12/dist-packages (from transformers<5.0.0,>=4.41.0->sentence-transformers) (2024.11.6)\n",
            "Requirement already satisfied: tokenizers<=0.23.0,>=0.22.0 in /usr/local/lib/python3.12/dist-packages (from transformers<5.0.0,>=4.41.0->sentence-transformers) (0.22.1)\n",
            "Requirement already satisfied: safetensors>=0.4.3 in /usr/local/lib/python3.12/dist-packages (from transformers<5.0.0,>=4.41.0->sentence-transformers) (0.6.2)\n",
            "Requirement already satisfied: python-dateutil>=2.8.2 in /usr/local/lib/python3.12/dist-packages (from pandas->datasets) (2.9.0.post0)\n",
            "Requirement already satisfied: pytz>=2020.1 in /usr/local/lib/python3.12/dist-packages (from pandas->datasets) (2025.2)\n",
            "Requirement already satisfied: tzdata>=2022.7 in /usr/local/lib/python3.12/dist-packages (from pandas->datasets) (2025.2)\n",
            "Requirement already satisfied: joblib>=1.2.0 in /usr/local/lib/python3.12/dist-packages (from scikit-learn->sentence-transformers) (1.5.2)\n",
            "Requirement already satisfied: threadpoolctl>=3.1.0 in /usr/local/lib/python3.12/dist-packages (from scikit-learn->sentence-transformers) (3.6.0)\n",
            "Requirement already satisfied: aiohappyeyeballs>=2.5.0 in /usr/local/lib/python3.12/dist-packages (from aiohttp!=4.0.0a0,!=4.0.0a1->fsspec[http]<=2025.3.0,>=2023.1.0->datasets) (2.6.1)\n",
            "Requirement already satisfied: aiosignal>=1.4.0 in /usr/local/lib/python3.12/dist-packages (from aiohttp!=4.0.0a0,!=4.0.0a1->fsspec[http]<=2025.3.0,>=2023.1.0->datasets) (1.4.0)\n",
            "Requirement already satisfied: attrs>=17.3.0 in /usr/local/lib/python3.12/dist-packages (from aiohttp!=4.0.0a0,!=4.0.0a1->fsspec[http]<=2025.3.0,>=2023.1.0->datasets) (25.3.0)\n",
            "Requirement already satisfied: frozenlist>=1.1.1 in /usr/local/lib/python3.12/dist-packages (from aiohttp!=4.0.0a0,!=4.0.0a1->fsspec[http]<=2025.3.0,>=2023.1.0->datasets) (1.7.0)\n",
            "Requirement already satisfied: multidict<7.0,>=4.5 in /usr/local/lib/python3.12/dist-packages (from aiohttp!=4.0.0a0,!=4.0.0a1->fsspec[http]<=2025.3.0,>=2023.1.0->datasets) (6.6.4)\n",
            "Requirement already satisfied: propcache>=0.2.0 in /usr/local/lib/python3.12/dist-packages (from aiohttp!=4.0.0a0,!=4.0.0a1->fsspec[http]<=2025.3.0,>=2023.1.0->datasets) (0.3.2)\n",
            "Requirement already satisfied: yarl<2.0,>=1.17.0 in /usr/local/lib/python3.12/dist-packages (from aiohttp!=4.0.0a0,!=4.0.0a1->fsspec[http]<=2025.3.0,>=2023.1.0->datasets) (1.20.1)\n",
            "Requirement already satisfied: six>=1.5 in /usr/local/lib/python3.12/dist-packages (from python-dateutil>=2.8.2->pandas->datasets) (1.17.0)\n",
            "Requirement already satisfied: mpmath<1.4,>=1.1.0 in /usr/local/lib/python3.12/dist-packages (from sympy>=1.13.3->torch>=1.11.0->sentence-transformers) (1.3.0)\n",
            "Requirement already satisfied: MarkupSafe>=2.0 in /usr/local/lib/python3.12/dist-packages (from jinja2->torch>=1.11.0->sentence-transformers) (3.0.3)\n"
          ]
        }
      ],
      "source": [
        "# Install required packages\n",
        "!pip install sentence-transformers faiss-cpu datasets huggingface-hub"
      ]
    },
    {
      "cell_type": "markdown",
      "source": [
        "### 1.2 Load and Explore Dataset"
      ],
      "metadata": {
        "id": "5G042AzUgVq7"
      }
    },
    {
      "cell_type": "code",
      "execution_count": 3,
      "metadata": {
        "colab": {
          "base_uri": "https://localhost:8080/",
          "height": 439
        },
        "id": "8gVIXAYvBAXQ",
        "outputId": "b65b35de-2a48-4be9-bcd0-cfa96b036ac5"
      },
      "outputs": [
        {
          "output_type": "stream",
          "name": "stderr",
          "text": [
            "/usr/local/lib/python3.12/dist-packages/huggingface_hub/utils/_auth.py:94: UserWarning: \n",
            "The secret `HF_TOKEN` does not exist in your Colab secrets.\n",
            "To authenticate with the Hugging Face Hub, create a token in your settings tab (https://huggingface.co/settings/tokens), set it as secret in your Google Colab and restart your session.\n",
            "You will be able to reuse this secret in all of your notebooks.\n",
            "Please note that authentication is recommended but still optional to access public models or datasets.\n",
            "  warnings.warn(\n"
          ]
        },
        {
          "output_type": "stream",
          "name": "stdout",
          "text": [
            "Dataset loaded successfully!\n",
            "Shape: (3200, 1)\n",
            "Number of passages: 3200\n",
            "\n",
            "First few passages:\n"
          ]
        },
        {
          "output_type": "execute_result",
          "data": {
            "text/plain": [
              "                                              passage\n",
              "id                                                   \n",
              "0   Uruguay (official full name in  ; pron.  , Eas...\n",
              "1   It is bordered by Brazil to the north, by Arge...\n",
              "2   Montevideo was founded by the Spanish in the e...\n",
              "3   The economy is largely based in agriculture (m...\n",
              "4   According to Transparency International, Urugu..."
            ],
            "text/html": [
              "\n",
              "  <div id=\"df-9d12ce3d-0fc1-449a-95fc-14717b9c77b3\" class=\"colab-df-container\">\n",
              "    <div>\n",
              "<style scoped>\n",
              "    .dataframe tbody tr th:only-of-type {\n",
              "        vertical-align: middle;\n",
              "    }\n",
              "\n",
              "    .dataframe tbody tr th {\n",
              "        vertical-align: top;\n",
              "    }\n",
              "\n",
              "    .dataframe thead th {\n",
              "        text-align: right;\n",
              "    }\n",
              "</style>\n",
              "<table border=\"1\" class=\"dataframe\">\n",
              "  <thead>\n",
              "    <tr style=\"text-align: right;\">\n",
              "      <th></th>\n",
              "      <th>passage</th>\n",
              "    </tr>\n",
              "    <tr>\n",
              "      <th>id</th>\n",
              "      <th></th>\n",
              "    </tr>\n",
              "  </thead>\n",
              "  <tbody>\n",
              "    <tr>\n",
              "      <th>0</th>\n",
              "      <td>Uruguay (official full name in  ; pron.  , Eas...</td>\n",
              "    </tr>\n",
              "    <tr>\n",
              "      <th>1</th>\n",
              "      <td>It is bordered by Brazil to the north, by Arge...</td>\n",
              "    </tr>\n",
              "    <tr>\n",
              "      <th>2</th>\n",
              "      <td>Montevideo was founded by the Spanish in the e...</td>\n",
              "    </tr>\n",
              "    <tr>\n",
              "      <th>3</th>\n",
              "      <td>The economy is largely based in agriculture (m...</td>\n",
              "    </tr>\n",
              "    <tr>\n",
              "      <th>4</th>\n",
              "      <td>According to Transparency International, Urugu...</td>\n",
              "    </tr>\n",
              "  </tbody>\n",
              "</table>\n",
              "</div>\n",
              "    <div class=\"colab-df-buttons\">\n",
              "\n",
              "  <div class=\"colab-df-container\">\n",
              "    <button class=\"colab-df-convert\" onclick=\"convertToInteractive('df-9d12ce3d-0fc1-449a-95fc-14717b9c77b3')\"\n",
              "            title=\"Convert this dataframe to an interactive table.\"\n",
              "            style=\"display:none;\">\n",
              "\n",
              "  <svg xmlns=\"http://www.w3.org/2000/svg\" height=\"24px\" viewBox=\"0 -960 960 960\">\n",
              "    <path d=\"M120-120v-720h720v720H120Zm60-500h600v-160H180v160Zm220 220h160v-160H400v160Zm0 220h160v-160H400v160ZM180-400h160v-160H180v160Zm440 0h160v-160H620v160ZM180-180h160v-160H180v160Zm440 0h160v-160H620v160Z\"/>\n",
              "  </svg>\n",
              "    </button>\n",
              "\n",
              "  <style>\n",
              "    .colab-df-container {\n",
              "      display:flex;\n",
              "      gap: 12px;\n",
              "    }\n",
              "\n",
              "    .colab-df-convert {\n",
              "      background-color: #E8F0FE;\n",
              "      border: none;\n",
              "      border-radius: 50%;\n",
              "      cursor: pointer;\n",
              "      display: none;\n",
              "      fill: #1967D2;\n",
              "      height: 32px;\n",
              "      padding: 0 0 0 0;\n",
              "      width: 32px;\n",
              "    }\n",
              "\n",
              "    .colab-df-convert:hover {\n",
              "      background-color: #E2EBFA;\n",
              "      box-shadow: 0px 1px 2px rgba(60, 64, 67, 0.3), 0px 1px 3px 1px rgba(60, 64, 67, 0.15);\n",
              "      fill: #174EA6;\n",
              "    }\n",
              "\n",
              "    .colab-df-buttons div {\n",
              "      margin-bottom: 4px;\n",
              "    }\n",
              "\n",
              "    [theme=dark] .colab-df-convert {\n",
              "      background-color: #3B4455;\n",
              "      fill: #D2E3FC;\n",
              "    }\n",
              "\n",
              "    [theme=dark] .colab-df-convert:hover {\n",
              "      background-color: #434B5C;\n",
              "      box-shadow: 0px 1px 3px 1px rgba(0, 0, 0, 0.15);\n",
              "      filter: drop-shadow(0px 1px 2px rgba(0, 0, 0, 0.3));\n",
              "      fill: #FFFFFF;\n",
              "    }\n",
              "  </style>\n",
              "\n",
              "    <script>\n",
              "      const buttonEl =\n",
              "        document.querySelector('#df-9d12ce3d-0fc1-449a-95fc-14717b9c77b3 button.colab-df-convert');\n",
              "      buttonEl.style.display =\n",
              "        google.colab.kernel.accessAllowed ? 'block' : 'none';\n",
              "\n",
              "      async function convertToInteractive(key) {\n",
              "        const element = document.querySelector('#df-9d12ce3d-0fc1-449a-95fc-14717b9c77b3');\n",
              "        const dataTable =\n",
              "          await google.colab.kernel.invokeFunction('convertToInteractive',\n",
              "                                                    [key], {});\n",
              "        if (!dataTable) return;\n",
              "\n",
              "        const docLinkHtml = 'Like what you see? Visit the ' +\n",
              "          '<a target=\"_blank\" href=https://colab.research.google.com/notebooks/data_table.ipynb>data table notebook</a>'\n",
              "          + ' to learn more about interactive tables.';\n",
              "        element.innerHTML = '';\n",
              "        dataTable['output_type'] = 'display_data';\n",
              "        await google.colab.output.renderOutput(dataTable, element);\n",
              "        const docLink = document.createElement('div');\n",
              "        docLink.innerHTML = docLinkHtml;\n",
              "        element.appendChild(docLink);\n",
              "      }\n",
              "    </script>\n",
              "  </div>\n",
              "\n",
              "\n",
              "    <div id=\"df-ac5c529e-ad9f-40b0-916f-15e218c1efac\">\n",
              "      <button class=\"colab-df-quickchart\" onclick=\"quickchart('df-ac5c529e-ad9f-40b0-916f-15e218c1efac')\"\n",
              "                title=\"Suggest charts\"\n",
              "                style=\"display:none;\">\n",
              "\n",
              "<svg xmlns=\"http://www.w3.org/2000/svg\" height=\"24px\"viewBox=\"0 0 24 24\"\n",
              "     width=\"24px\">\n",
              "    <g>\n",
              "        <path d=\"M19 3H5c-1.1 0-2 .9-2 2v14c0 1.1.9 2 2 2h14c1.1 0 2-.9 2-2V5c0-1.1-.9-2-2-2zM9 17H7v-7h2v7zm4 0h-2V7h2v10zm4 0h-2v-4h2v4z\"/>\n",
              "    </g>\n",
              "</svg>\n",
              "      </button>\n",
              "\n",
              "<style>\n",
              "  .colab-df-quickchart {\n",
              "      --bg-color: #E8F0FE;\n",
              "      --fill-color: #1967D2;\n",
              "      --hover-bg-color: #E2EBFA;\n",
              "      --hover-fill-color: #174EA6;\n",
              "      --disabled-fill-color: #AAA;\n",
              "      --disabled-bg-color: #DDD;\n",
              "  }\n",
              "\n",
              "  [theme=dark] .colab-df-quickchart {\n",
              "      --bg-color: #3B4455;\n",
              "      --fill-color: #D2E3FC;\n",
              "      --hover-bg-color: #434B5C;\n",
              "      --hover-fill-color: #FFFFFF;\n",
              "      --disabled-bg-color: #3B4455;\n",
              "      --disabled-fill-color: #666;\n",
              "  }\n",
              "\n",
              "  .colab-df-quickchart {\n",
              "    background-color: var(--bg-color);\n",
              "    border: none;\n",
              "    border-radius: 50%;\n",
              "    cursor: pointer;\n",
              "    display: none;\n",
              "    fill: var(--fill-color);\n",
              "    height: 32px;\n",
              "    padding: 0;\n",
              "    width: 32px;\n",
              "  }\n",
              "\n",
              "  .colab-df-quickchart:hover {\n",
              "    background-color: var(--hover-bg-color);\n",
              "    box-shadow: 0 1px 2px rgba(60, 64, 67, 0.3), 0 1px 3px 1px rgba(60, 64, 67, 0.15);\n",
              "    fill: var(--button-hover-fill-color);\n",
              "  }\n",
              "\n",
              "  .colab-df-quickchart-complete:disabled,\n",
              "  .colab-df-quickchart-complete:disabled:hover {\n",
              "    background-color: var(--disabled-bg-color);\n",
              "    fill: var(--disabled-fill-color);\n",
              "    box-shadow: none;\n",
              "  }\n",
              "\n",
              "  .colab-df-spinner {\n",
              "    border: 2px solid var(--fill-color);\n",
              "    border-color: transparent;\n",
              "    border-bottom-color: var(--fill-color);\n",
              "    animation:\n",
              "      spin 1s steps(1) infinite;\n",
              "  }\n",
              "\n",
              "  @keyframes spin {\n",
              "    0% {\n",
              "      border-color: transparent;\n",
              "      border-bottom-color: var(--fill-color);\n",
              "      border-left-color: var(--fill-color);\n",
              "    }\n",
              "    20% {\n",
              "      border-color: transparent;\n",
              "      border-left-color: var(--fill-color);\n",
              "      border-top-color: var(--fill-color);\n",
              "    }\n",
              "    30% {\n",
              "      border-color: transparent;\n",
              "      border-left-color: var(--fill-color);\n",
              "      border-top-color: var(--fill-color);\n",
              "      border-right-color: var(--fill-color);\n",
              "    }\n",
              "    40% {\n",
              "      border-color: transparent;\n",
              "      border-right-color: var(--fill-color);\n",
              "      border-top-color: var(--fill-color);\n",
              "    }\n",
              "    60% {\n",
              "      border-color: transparent;\n",
              "      border-right-color: var(--fill-color);\n",
              "    }\n",
              "    80% {\n",
              "      border-color: transparent;\n",
              "      border-right-color: var(--fill-color);\n",
              "      border-bottom-color: var(--fill-color);\n",
              "    }\n",
              "    90% {\n",
              "      border-color: transparent;\n",
              "      border-bottom-color: var(--fill-color);\n",
              "    }\n",
              "  }\n",
              "</style>\n",
              "\n",
              "      <script>\n",
              "        async function quickchart(key) {\n",
              "          const quickchartButtonEl =\n",
              "            document.querySelector('#' + key + ' button');\n",
              "          quickchartButtonEl.disabled = true;  // To prevent multiple clicks.\n",
              "          quickchartButtonEl.classList.add('colab-df-spinner');\n",
              "          try {\n",
              "            const charts = await google.colab.kernel.invokeFunction(\n",
              "                'suggestCharts', [key], {});\n",
              "          } catch (error) {\n",
              "            console.error('Error during call to suggestCharts:', error);\n",
              "          }\n",
              "          quickchartButtonEl.classList.remove('colab-df-spinner');\n",
              "          quickchartButtonEl.classList.add('colab-df-quickchart-complete');\n",
              "        }\n",
              "        (() => {\n",
              "          let quickchartButtonEl =\n",
              "            document.querySelector('#df-ac5c529e-ad9f-40b0-916f-15e218c1efac button');\n",
              "          quickchartButtonEl.style.display =\n",
              "            google.colab.kernel.accessAllowed ? 'block' : 'none';\n",
              "        })();\n",
              "      </script>\n",
              "    </div>\n",
              "\n",
              "    </div>\n",
              "  </div>\n"
            ],
            "application/vnd.google.colaboratory.intrinsic+json": {
              "type": "dataframe",
              "variable_name": "passages",
              "summary": "{\n  \"name\": \"passages\",\n  \"rows\": 3200,\n  \"fields\": [\n    {\n      \"column\": \"id\",\n      \"properties\": {\n        \"dtype\": \"number\",\n        \"std\": 924,\n        \"min\": 0,\n        \"max\": 3200,\n        \"num_unique_values\": 3200,\n        \"samples\": [\n          2385,\n          2539,\n          2177\n        ],\n        \"semantic_type\": \"\",\n        \"description\": \"\"\n      }\n    },\n    {\n      \"column\": \"passage\",\n      \"properties\": {\n        \"dtype\": \"string\",\n        \"num_unique_values\": 3196,\n        \"samples\": [\n          \"Now came a long struggle to produce a full-scale engine.  This required more capital, some of which came from Black.  More substantial backing came from John Roebuck, the founder of the celebrated Carron Iron Works, near Falkirk, with whom he now formed a partnership.  But the principal difficulty was in machining the piston and cylinder.  Iron workers of the day were more like blacksmiths than machinists, so the results left much to be desired.  Much capital was spent in pursuing the ground-breaking patent, which in those days required an act of parliament.  Strapped for resources, Watt was forced to take up employment as a surveyor for eight years.  Roebuck went bankrupt, and Matthew Boulton, who owned the Soho foundry works near Birmingham, acquired his patent rights.  Watt and Boulton formed a hugely successful partnership (Boulton & Watt), which lasted for the next twenty-five years.\",\n          \"In 2003 a further subspecies was identified on Borneo. Named the Borneo pygmy elephant, it is smaller and tamer than other Asian elephants. It also has relatively larger ears, longer tail and straighter tusks.\",\n          \"In 1781, he was stationed permanently at Paris. On the outbreak of the Revolution in 1789, he resigned his appointment as intendant des eaux et fontaines, and retired to a small estate which he possessed at Blois. He was recalled to Paris for a time in order to take part in the new determination of weights and measures, which had been decreed by the Revolutionary government. He was one of the first members of the National Institute; he was appointed inspector of public instruction in 1802 . But his health was already very feeble, and four years later he died in Paris, France.\"\n        ],\n        \"semantic_type\": \"\",\n        \"description\": \"\"\n      }\n    }\n  ]\n}"
            }
          },
          "metadata": {},
          "execution_count": 3
        }
      ],
      "source": [
        "import pandas as pd\n",
        "\n",
        "# Load passages from the correct dataset\n",
        "passages = pd.read_parquet(\"hf://datasets/rag-datasets/rag-mini-wikipedia/data/passages.parquet/part.0.parquet\")\n",
        "\n",
        "print(f\"Dataset loaded successfully!\")\n",
        "print(f\"Shape: {passages.shape}\")\n",
        "print(f\"Number of passages: {len(passages)}\")\n",
        "print(\"\\nFirst few passages:\")\n",
        "passages.head()"
      ]
    },
    {
      "cell_type": "code",
      "execution_count": 4,
      "metadata": {
        "colab": {
          "base_uri": "https://localhost:8080/",
          "height": 0
        },
        "id": "6X04mD5SBC1U",
        "outputId": "aab89560-a004-4130-e7ee-f3832e678acf"
      },
      "outputs": [
        {
          "output_type": "stream",
          "name": "stdout",
          "text": [
            "=== Data Quality Check ===\n",
            "Missing values: 0\n",
            "Empty passages: 0\n",
            "\n",
            "=== Passage Length Statistics ===\n",
            "Minimum length: 1 characters\n",
            "Maximum length: 2515 characters\n",
            "Average length: 390 characters\n",
            "Median length: 299 characters\n",
            "\n",
            "=== Sample Passages ===\n",
            "\n",
            "--- Passage 0 (ID: 0) ---\n",
            "Length: 250 chars\n",
            "Text: Uruguay (official full name in  ; pron.  , Eastern Republic of  Uruguay) is a country located in the southeastern part of South America.  It is home to 3.3 million people, of which 1.7 million live in...\n",
            "\n",
            "--- Passage 1 (ID: 1) ---\n",
            "Length: 349 chars\n",
            "Text: It is bordered by Brazil to the north, by Argentina across the bank of both the Uruguay River to the west and the estuary of RÃ­o de la Plata to the southwest, and the South Atlantic Ocean to the sout...\n",
            "\n",
            "--- Passage 2 (ID: 2) ---\n",
            "Length: 312 chars\n",
            "Text: Montevideo was founded by the Spanish in the early 18th century as a military stronghold. Uruguay won its independence in 1828 following a three-way struggle between Spain, Argentina and Brazil. It is...\n"
          ]
        }
      ],
      "source": [
        "# Exploratory Data Analysis (EDA)\n",
        "\n",
        "# Check for missing values\n",
        "print(\"=== Data Quality Check ===\")\n",
        "print(f\"Missing values: {passages['passage'].isna().sum()}\")\n",
        "print(f\"Empty passages: {(passages['passage'] == '').sum()}\")\n",
        "\n",
        "# Analyze passage lengths\n",
        "passages['length'] = passages['passage'].str.len()\n",
        "\n",
        "print(\"\\n=== Passage Length Statistics ===\")\n",
        "print(f\"Minimum length: {passages['length'].min()} characters\")\n",
        "print(f\"Maximum length: {passages['length'].max()} characters\")\n",
        "print(f\"Average length: {passages['length'].mean():.0f} characters\")\n",
        "print(f\"Median length: {passages['length'].median():.0f} characters\")\n",
        "\n",
        "# Show some examples\n",
        "print(\"\\n=== Sample Passages ===\")\n",
        "for i in range(3):\n",
        "    print(f\"\\n--- Passage {i} (ID: {passages.index[i]}) ---\")\n",
        "    print(f\"Length: {passages.iloc[i]['length']} chars\")\n",
        "    print(f\"Text: {passages.iloc[i]['passage'][:200]}...\")"
      ]
    },
    {
      "cell_type": "markdown",
      "source": [
        "### 1.3 Data Cleaning and Preparation"
      ],
      "metadata": {
        "id": "umNslZbngu3e"
      }
    },
    {
      "cell_type": "code",
      "execution_count": 5,
      "metadata": {
        "colab": {
          "base_uri": "https://localhost:8080/",
          "height": 0
        },
        "id": "Z1zaykOiCLlB",
        "outputId": "42e5265a-be12-457f-829f-50f11b93ea82"
      },
      "outputs": [
        {
          "output_type": "stream",
          "name": "stdout",
          "text": [
            "Before cleaning: 3200 passages\n",
            "After cleaning: 3200 passages\n",
            "Data cleaning complete!\n"
          ]
        }
      ],
      "source": [
        "# Clean the dataset\n",
        "print(f\"Before cleaning: {len(passages)} passages\")\n",
        "\n",
        "# Drop rows with NA or empty passages\n",
        "passages = passages.dropna(subset=['passage'])\n",
        "passages = passages[passages['passage'].str.strip() != '']\n",
        "\n",
        "print(f\"After cleaning: {len(passages)} passages\")\n",
        "print(\"Data cleaning complete!\")\n",
        "\n",
        "# Reset index to ensure we have clean IDs\n",
        "passages = passages.reset_index(drop=True)"
      ]
    },
    {
      "cell_type": "markdown",
      "source": [
        "---\n",
        "## 2. Embedding Creation\n",
        "### 2.1 Load Embedding Model (384-dim)"
      ],
      "metadata": {
        "id": "AkhPZi3RgyoT"
      }
    },
    {
      "cell_type": "code",
      "execution_count": 6,
      "metadata": {
        "id": "SUTuNJpnCPHh"
      },
      "outputs": [],
      "source": [
        "!pip install sentence-transformers -q"
      ]
    },
    {
      "cell_type": "code",
      "execution_count": 7,
      "metadata": {
        "colab": {
          "base_uri": "https://localhost:8080/",
          "height": 214,
          "referenced_widgets": [
            "9be2f0251bc3401cbb730f1944e0f9b3",
            "c623fd5dcea6401aaec31e1c7e8781d9",
            "1550983ca3c94141a0b7858e8e039b8a",
            "8302e4f718554a99afc5b2ee77562aae",
            "fd39197dde0c42208624f5f6586ef7e2",
            "e26c0b10fcf8447588e82bd8ccce3257",
            "fb95ffb484c649c4a7e76849e98d0922",
            "c42643ade01f4f2b8ad08ca88857b805",
            "ecfb69dcd3bb4169b6622051af383878",
            "50b94022f5f34e96927a98e7df64ca14",
            "b46bb39743d2401fa86cf2e629624f51"
          ]
        },
        "id": "a7z1e42DCmHW",
        "outputId": "7e86e903-c186-4092-ccab-f94602a097c6"
      },
      "outputs": [
        {
          "output_type": "stream",
          "name": "stdout",
          "text": [
            "Loading embedding model...\n",
            "Model loaded!\n",
            "\n",
            "Creating embeddings for 3200 passages...\n",
            "This will take 1-2 minutes...\n"
          ]
        },
        {
          "output_type": "display_data",
          "data": {
            "text/plain": [
              "Batches:   0%|          | 0/100 [00:00<?, ?it/s]"
            ],
            "application/vnd.jupyter.widget-view+json": {
              "version_major": 2,
              "version_minor": 0,
              "model_id": "9be2f0251bc3401cbb730f1944e0f9b3"
            }
          },
          "metadata": {}
        },
        {
          "output_type": "stream",
          "name": "stdout",
          "text": [
            "\n",
            "Embeddings created!\n",
            "Embeddings shape: (3200, 384)\n",
            "Each passage is now a vector of 384 numbers\n"
          ]
        }
      ],
      "source": [
        "from sentence_transformers import SentenceTransformer\n",
        "\n",
        "# Load the embedding model\n",
        "print(\"Loading embedding model...\")\n",
        "embedding_model = SentenceTransformer(\"all-MiniLM-L6-v2\")\n",
        "print(\"Model loaded!\")\n",
        "\n",
        "# Get all passage texts as a list\n",
        "passage_texts = passages['passage'].tolist()\n",
        "\n",
        "print(f\"\\nCreating embeddings for {len(passage_texts)} passages...\")\n",
        "print(\"This will take 1-2 minutes...\")\n",
        "\n",
        "# Encode all passages (this creates the embeddings)\n",
        "embeddings = embedding_model.encode(\n",
        "    passage_texts,\n",
        "    show_progress_bar=True,\n",
        "    batch_size=32  # Process 32 at a time\n",
        ")\n",
        "\n",
        "print(f\"\\nEmbeddings created!\")\n",
        "print(f\"Embeddings shape: {embeddings.shape}\")\n",
        "print(f\"Each passage is now a vector of {embeddings.shape[1]} numbers\")"
      ]
    },
    {
      "cell_type": "code",
      "execution_count": 8,
      "metadata": {
        "colab": {
          "base_uri": "https://localhost:8080/",
          "height": 0
        },
        "id": "8gE_vLI4CoU5",
        "outputId": "035cdc67-01ea-43d1-88a7-ce89c94670ee"
      },
      "outputs": [
        {
          "output_type": "stream",
          "name": "stdout",
          "text": [
            "=== Embedding Verification ===\n",
            "Total passages: 3200\n",
            "Total embeddings: 3200\n",
            "Embedding dimension: 384\n",
            "\n",
            "First embedding (first 10 values):\n",
            "[ 0.00698535 -0.06149811 -0.06683706 -0.008286    0.04050032 -0.02582299\n",
            "  0.08005104  0.07768562 -0.00207007  0.10649284]\n",
            "\n",
            "Embeddings look good!\n"
          ]
        }
      ],
      "source": [
        "# Let's check the embeddings\n",
        "print(\"=== Embedding Verification ===\")\n",
        "print(f\"Total passages: {len(passage_texts)}\")\n",
        "print(f\"Total embeddings: {len(embeddings)}\")\n",
        "print(f\"Embedding dimension: {embeddings.shape[1]}\")\n",
        "print(f\"\\nFirst embedding (first 10 values):\")\n",
        "print(embeddings[0][:10])\n",
        "print(\"\\nEmbeddings look good!\")"
      ]
    },
    {
      "cell_type": "markdown",
      "source": [
        "---\n",
        "## 3. Vector Database Setup\n",
        "### 3.1 Define Milvus Schema"
      ],
      "metadata": {
        "id": "iLE967O3g4fQ"
      }
    },
    {
      "cell_type": "code",
      "execution_count": 9,
      "metadata": {
        "id": "I7T_Z61nDo9j"
      },
      "outputs": [],
      "source": [
        "# Install pymilvus\n",
        "!pip install pymilvus[milvus_lite] -q"
      ]
    },
    {
      "cell_type": "code",
      "execution_count": 10,
      "metadata": {
        "colab": {
          "base_uri": "https://localhost:8080/",
          "height": 0
        },
        "id": "UzAKjmadDrdm",
        "outputId": "a6bde0a6-55c0-47d2-d15e-ded7274b8cb0"
      },
      "outputs": [
        {
          "output_type": "stream",
          "name": "stdout",
          "text": [
            "Schema created with fields:\n",
            "  - id (primary key)\n",
            "  - passage (text)\n",
            "  - embedding (384-dim vector)\n"
          ]
        }
      ],
      "source": [
        "from pymilvus import MilvusClient, FieldSchema, CollectionSchema, DataType\n",
        "\n",
        "# Define schema fields for our collection\n",
        "id_field = FieldSchema(\n",
        "    name=\"id\",\n",
        "    dtype=DataType.INT64,\n",
        "    is_primary=True,\n",
        "    auto_id=False\n",
        ")\n",
        "\n",
        "passage_field = FieldSchema(\n",
        "    name=\"passage\",\n",
        "    dtype=DataType.VARCHAR,\n",
        "    max_length=5000  # Max length for text\n",
        ")\n",
        "\n",
        "embedding_field = FieldSchema(\n",
        "    name=\"embedding\",\n",
        "    dtype=DataType.FLOAT_VECTOR,\n",
        "    dim=384  # Our embedding dimension\n",
        ")\n",
        "\n",
        "# Create the schema\n",
        "schema = CollectionSchema(\n",
        "    fields=[id_field, passage_field, embedding_field],\n",
        "    description=\"RAG Mini Wikipedia collection\"\n",
        ")\n",
        "\n",
        "print(\"Schema created with fields:\")\n",
        "print(\"  - id (primary key)\")\n",
        "print(\"  - passage (text)\")\n",
        "print(\"  - embedding (384-dim vector)\")"
      ]
    },
    {
      "cell_type": "markdown",
      "source": [
        "### 3.2 Create and Populate Collection"
      ],
      "metadata": {
        "id": "3UV2wTS6g9g_"
      }
    },
    {
      "cell_type": "code",
      "execution_count": 11,
      "metadata": {
        "colab": {
          "base_uri": "https://localhost:8080/",
          "height": 0
        },
        "id": "AdNpHQD_EHci",
        "outputId": "97024e0e-351c-4dfb-9a79-327d2cca9b45"
      },
      "outputs": [
        {
          "output_type": "stream",
          "name": "stdout",
          "text": [
            "Dropped existing collection\n",
            "Collection 'rag_mini' created successfully!\n"
          ]
        }
      ],
      "source": [
        "# Create Milvus client (creates a local database file)\n",
        "client = MilvusClient(\"rag_wikipedia_mini.db\")\n",
        "\n",
        "# Drop collection if it exists (for clean start)\n",
        "if client.has_collection(\"rag_mini\"):\n",
        "    client.drop_collection(\"rag_mini\")\n",
        "    print(\"Dropped existing collection\")\n",
        "\n",
        "# Create the collection with our schema\n",
        "client.create_collection(\n",
        "    collection_name=\"rag_mini\",\n",
        "    schema=schema,\n",
        "    dimension=384\n",
        ")\n",
        "\n",
        "print(\"Collection 'rag_mini' created successfully!\")"
      ]
    },
    {
      "cell_type": "code",
      "execution_count": 12,
      "metadata": {
        "colab": {
          "base_uri": "https://localhost:8080/",
          "height": 0
        },
        "id": "mvPApeDkEhJD",
        "outputId": "ecf65c19-8bbc-487b-c53c-aa08ff66530b"
      },
      "outputs": [
        {
          "output_type": "stream",
          "name": "stdout",
          "text": [
            "Prepared 3200 records for insertion\n",
            "\n",
            "Sample record structure:\n",
            "  ID: 0\n",
            "  Passage: Uruguay (official full name in  ; pron.  , Eastern Republic of  Uruguay) is a country located in the...\n",
            "  Embedding length: 384\n"
          ]
        }
      ],
      "source": [
        "# Convert dataframe to list of dictionaries for Milvus\n",
        "rag_data = []\n",
        "\n",
        "for idx, row in passages.iterrows():\n",
        "    rag_data.append({\n",
        "        \"id\": int(idx),  # Use index as ID\n",
        "        \"passage\": row['passage'],\n",
        "        \"embedding\": embeddings[idx].tolist()  # Convert numpy array to list\n",
        "    })\n",
        "\n",
        "print(f\"Prepared {len(rag_data)} records for insertion\")\n",
        "print(f\"\\nSample record structure:\")\n",
        "print(f\"  ID: {rag_data[0]['id']}\")\n",
        "print(f\"  Passage: {rag_data[0]['passage'][:100]}...\")\n",
        "print(f\"  Embedding length: {len(rag_data[0]['embedding'])}\")"
      ]
    },
    {
      "cell_type": "code",
      "execution_count": 13,
      "metadata": {
        "colab": {
          "base_uri": "https://localhost:8080/",
          "height": 0
        },
        "id": "sEuWOFVDEkhP",
        "outputId": "4be4d72f-2fb6-483a-c7de-e6da33c5e3c0"
      },
      "outputs": [
        {
          "output_type": "stream",
          "name": "stdout",
          "text": [
            "Inserting data into Milvus...\n",
            "Insertion complete!\n",
            "Insert result: {'insert_count': 3200, 'ids': [0, 1, 2, 3, 4, 5, 6, 7, 8, 9, 10, 11, 12, 13, 14, 15, 16, 17, 18, 19, 20, 21, 22, 23, 24, 25, 26, 27, 28, 29, 30, 31, 32, 33, 34, 35, 36, 37, 38, 39, 40, 41, 42, 43, 44, 45, 46, 47, 48, 49, 50, 51, 52, 53, 54, 55, 56, 57, 58, 59, 60, 61, 62, 63, 64, 65, 66, 67, 68, 69, 70, 71, 72, 73, 74, 75, 76, 77, 78, 79, 80, 81, 82, 83, 84, 85, 86, 87, 88, 89, 90, 91, 92, 93, 94, 95, 96, 97, 98, 99, 100, 101, 102, 103, 104, 105, 106, 107, 108, 109, 110, 111, 112, 113, 114, 115, 116, 117, 118, 119, 120, 121, 122, 123, 124, 125, 126, 127, 128, 129, 130, 131, 132, 133, 134, 135, 136, 137, 138, 139, 140, 141, 142, 143, 144, 145, 146, 147, 148, 149, 150, 151, 152, 153, 154, 155, 156, 157, 158, 159, 160, 161, 162, 163, 164, 165, 166, 167, 168, 169, 170, 171, 172, 173, 174, 175, 176, 177, 178, 179, 180, 181, 182, 183, 184, 185, 186, 187, 188, 189, 190, 191, 192, 193, 194, 195, 196, 197, 198, 199, 200, 201, 202, 203, 204, 205, 206, 207, 208, 209, 210, 211, 212, 213, 214, 215, 216, 217, 218, 219, 220, 221, 222, 223, 224, 225, 226, 227, 228, 229, 230, 231, 232, 233, 234, 235, 236, 237, 238, 239, 240, 241, 242, 243, 244, 245, 246, 247, 248, 249, 250, 251, 252, 253, 254, 255, 256, 257, 258, 259, 260, 261, 262, 263, 264, 265, 266, 267, 268, 269, 270, 271, 272, 273, 274, 275, 276, 277, 278, 279, 280, 281, 282, 283, 284, 285, 286, 287, 288, 289, 290, 291, 292, 293, 294, 295, 296, 297, 298, 299, 300, 301, 302, 303, 304, 305, 306, 307, 308, 309, 310, 311, 312, 313, 314, 315, 316, 317, 318, 319, 320, 321, 322, 323, 324, 325, 326, 327, 328, 329, 330, 331, 332, 333, 334, 335, 336, 337, 338, 339, 340, 341, 342, 343, 344, 345, 346, 347, 348, 349, 350, 351, 352, 353, 354, 355, 356, 357, 358, 359, 360, 361, 362, 363, 364, 365, 366, 367, 368, 369, 370, 371, 372, 373, 374, 375, 376, 377, 378, 379, 380, 381, 382, 383, 384, 385, 386, 387, 388, 389, 390, 391, 392, 393, 394, 395, 396, 397, 398, 399, 400, 401, 402, 403, 404, 405, 406, 407, 408, 409, 410, 411, 412, 413, 414, 415, 416, 417, 418, 419, 420, 421, 422, 423, 424, 425, 426, 427, 428, 429, 430, 431, 432, 433, 434, 435, 436, 437, 438, 439, 440, 441, 442, 443, 444, 445, 446, 447, 448, 449, 450, 451, 452, 453, 454, 455, 456, 457, 458, 459, 460, 461, 462, 463, 464, 465, 466, 467, 468, 469, 470, 471, 472, 473, 474, 475, 476, 477, 478, 479, 480, 481, 482, 483, 484, 485, 486, 487, 488, 489, 490, 491, 492, 493, 494, 495, 496, 497, 498, 499, 500, 501, 502, 503, 504, 505, 506, 507, 508, 509, 510, 511, 512, 513, 514, 515, 516, 517, 518, 519, 520, 521, 522, 523, 524, 525, 526, 527, 528, 529, 530, 531, 532, 533, 534, 535, 536, 537, 538, 539, 540, 541, 542, 543, 544, 545, 546, 547, 548, 549, 550, 551, 552, 553, 554, 555, 556, 557, 558, 559, 560, 561, 562, 563, 564, 565, 566, 567, 568, 569, 570, 571, 572, 573, 574, 575, 576, 577, 578, 579, 580, 581, 582, 583, 584, 585, 586, 587, 588, 589, 590, 591, 592, 593, 594, 595, 596, 597, 598, 599, 600, 601, 602, 603, 604, 605, 606, 607, 608, 609, 610, 611, 612, 613, 614, 615, 616, 617, 618, 619, 620, 621, 622, 623, 624, 625, 626, 627, 628, 629, 630, 631, 632, 633, 634, 635, 636, 637, 638, 639, 640, 641, 642, 643, 644, 645, 646, 647, 648, 649, 650, 651, 652, 653, 654, 655, 656, 657, 658, 659, 660, 661, 662, 663, 664, 665, 666, 667, 668, 669, 670, 671, 672, 673, 674, 675, 676, 677, 678, 679, 680, 681, 682, 683, 684, 685, 686, 687, 688, 689, 690, 691, 692, 693, 694, 695, 696, 697, 698, 699, 700, 701, 702, 703, 704, 705, 706, 707, 708, 709, 710, 711, 712, 713, 714, 715, 716, 717, 718, 719, 720, 721, 722, 723, 724, 725, 726, 727, 728, 729, 730, 731, 732, 733, 734, 735, 736, 737, 738, 739, 740, 741, 742, 743, 744, 745, 746, 747, 748, 749, 750, 751, 752, 753, 754, 755, 756, 757, 758, 759, 760, 761, 762, 763, 764, 765, 766, 767, 768, 769, 770, 771, 772, 773, 774, 775, 776, 777, 778, 779, 780, 781, 782, 783, 784, 785, 786, 787, 788, 789, 790, 791, 792, 793, 794, 795, 796, 797, 798, 799, 800, 801, 802, 803, 804, 805, 806, 807, 808, 809, 810, 811, 812, 813, 814, 815, 816, 817, 818, 819, 820, 821, 822, 823, 824, 825, 826, 827, 828, 829, 830, 831, 832, 833, 834, 835, 836, 837, 838, 839, 840, 841, 842, 843, 844, 845, 846, 847, 848, 849, 850, 851, 852, 853, 854, 855, 856, 857, 858, 859, 860, 861, 862, 863, 864, 865, 866, 867, 868, 869, 870, 871, 872, 873, 874, 875, 876, 877, 878, 879, 880, 881, 882, 883, 884, 885, 886, 887, 888, 889, 890, 891, 892, 893, 894, 895, 896, 897, 898, 899, 900, 901, 902, 903, 904, 905, 906, 907, 908, 909, 910, 911, 912, 913, 914, 915, 916, 917, 918, 919, 920, 921, 922, 923, 924, 925, 926, 927, 928, 929, 930, 931, 932, 933, 934, 935, 936, 937, 938, 939, 940, 941, 942, 943, 944, 945, 946, 947, 948, 949, 950, 951, 952, 953, 954, 955, 956, 957, 958, 959, 960, 961, 962, 963, 964, 965, 966, 967, 968, 969, 970, 971, 972, 973, 974, 975, 976, 977, 978, 979, 980, 981, 982, 983, 984, 985, 986, 987, 988, 989, 990, 991, 992, 993, 994, 995, 996, 997, 998, 999, 1000, 1001, 1002, 1003, 1004, 1005, 1006, 1007, 1008, 1009, 1010, 1011, 1012, 1013, 1014, 1015, 1016, 1017, 1018, 1019, 1020, 1021, 1022, 1023, 1024, 1025, 1026, 1027, 1028, 1029, 1030, 1031, 1032, 1033, 1034, 1035, 1036, 1037, 1038, 1039, 1040, 1041, 1042, 1043, 1044, 1045, 1046, 1047, 1048, 1049, 1050, 1051, 1052, 1053, 1054, 1055, 1056, 1057, 1058, 1059, 1060, 1061, 1062, 1063, 1064, 1065, 1066, 1067, 1068, 1069, 1070, 1071, 1072, 1073, 1074, 1075, 1076, 1077, 1078, 1079, 1080, 1081, 1082, 1083, 1084, 1085, 1086, 1087, 1088, 1089, 1090, 1091, 1092, 1093, 1094, 1095, 1096, 1097, 1098, 1099, 1100, 1101, 1102, 1103, 1104, 1105, 1106, 1107, 1108, 1109, 1110, 1111, 1112, 1113, 1114, 1115, 1116, 1117, 1118, 1119, 1120, 1121, 1122, 1123, 1124, 1125, 1126, 1127, 1128, 1129, 1130, 1131, 1132, 1133, 1134, 1135, 1136, 1137, 1138, 1139, 1140, 1141, 1142, 1143, 1144, 1145, 1146, 1147, 1148, 1149, 1150, 1151, 1152, 1153, 1154, 1155, 1156, 1157, 1158, 1159, 1160, 1161, 1162, 1163, 1164, 1165, 1166, 1167, 1168, 1169, 1170, 1171, 1172, 1173, 1174, 1175, 1176, 1177, 1178, 1179, 1180, 1181, 1182, 1183, 1184, 1185, 1186, 1187, 1188, 1189, 1190, 1191, 1192, 1193, 1194, 1195, 1196, 1197, 1198, 1199, 1200, 1201, 1202, 1203, 1204, 1205, 1206, 1207, 1208, 1209, 1210, 1211, 1212, 1213, 1214, 1215, 1216, 1217, 1218, 1219, 1220, 1221, 1222, 1223, 1224, 1225, 1226, 1227, 1228, 1229, 1230, 1231, 1232, 1233, 1234, 1235, 1236, 1237, 1238, 1239, 1240, 1241, 1242, 1243, 1244, 1245, 1246, 1247, 1248, 1249, 1250, 1251, 1252, 1253, 1254, 1255, 1256, 1257, 1258, 1259, 1260, 1261, 1262, 1263, 1264, 1265, 1266, 1267, 1268, 1269, 1270, 1271, 1272, 1273, 1274, 1275, 1276, 1277, 1278, 1279, 1280, 1281, 1282, 1283, 1284, 1285, 1286, 1287, 1288, 1289, 1290, 1291, 1292, 1293, 1294, 1295, 1296, 1297, 1298, 1299, 1300, 1301, 1302, 1303, 1304, 1305, 1306, 1307, 1308, 1309, 1310, 1311, 1312, 1313, 1314, 1315, 1316, 1317, 1318, 1319, 1320, 1321, 1322, 1323, 1324, 1325, 1326, 1327, 1328, 1329, 1330, 1331, 1332, 1333, 1334, 1335, 1336, 1337, 1338, 1339, 1340, 1341, 1342, 1343, 1344, 1345, 1346, 1347, 1348, 1349, 1350, 1351, 1352, 1353, 1354, 1355, 1356, 1357, 1358, 1359, 1360, 1361, 1362, 1363, 1364, 1365, 1366, 1367, 1368, 1369, 1370, 1371, 1372, 1373, 1374, 1375, 1376, 1377, 1378, 1379, 1380, 1381, 1382, 1383, 1384, 1385, 1386, 1387, 1388, 1389, 1390, 1391, 1392, 1393, 1394, 1395, 1396, 1397, 1398, 1399, 1400, 1401, 1402, 1403, 1404, 1405, 1406, 1407, 1408, 1409, 1410, 1411, 1412, 1413, 1414, 1415, 1416, 1417, 1418, 1419, 1420, 1421, 1422, 1423, 1424, 1425, 1426, 1427, 1428, 1429, 1430, 1431, 1432, 1433, 1434, 1435, 1436, 1437, 1438, 1439, 1440, 1441, 1442, 1443, 1444, 1445, 1446, 1447, 1448, 1449, 1450, 1451, 1452, 1453, 1454, 1455, 1456, 1457, 1458, 1459, 1460, 1461, 1462, 1463, 1464, 1465, 1466, 1467, 1468, 1469, 1470, 1471, 1472, 1473, 1474, 1475, 1476, 1477, 1478, 1479, 1480, 1481, 1482, 1483, 1484, 1485, 1486, 1487, 1488, 1489, 1490, 1491, 1492, 1493, 1494, 1495, 1496, 1497, 1498, 1499, 1500, 1501, 1502, 1503, 1504, 1505, 1506, 1507, 1508, 1509, 1510, 1511, 1512, 1513, 1514, 1515, 1516, 1517, 1518, 1519, 1520, 1521, 1522, 1523, 1524, 1525, 1526, 1527, 1528, 1529, 1530, 1531, 1532, 1533, 1534, 1535, 1536, 1537, 1538, 1539, 1540, 1541, 1542, 1543, 1544, 1545, 1546, 1547, 1548, 1549, 1550, 1551, 1552, 1553, 1554, 1555, 1556, 1557, 1558, 1559, 1560, 1561, 1562, 1563, 1564, 1565, 1566, 1567, 1568, 1569, 1570, 1571, 1572, 1573, 1574, 1575, 1576, 1577, 1578, 1579, 1580, 1581, 1582, 1583, 1584, 1585, 1586, 1587, 1588, 1589, 1590, 1591, 1592, 1593, 1594, 1595, 1596, 1597, 1598, 1599, 1600, 1601, 1602, 1603, 1604, 1605, 1606, 1607, 1608, 1609, 1610, 1611, 1612, 1613, 1614, 1615, 1616, 1617, 1618, 1619, 1620, 1621, 1622, 1623, 1624, 1625, 1626, 1627, 1628, 1629, 1630, 1631, 1632, 1633, 1634, 1635, 1636, 1637, 1638, 1639, 1640, 1641, 1642, 1643, 1644, 1645, 1646, 1647, 1648, 1649, 1650, 1651, 1652, 1653, 1654, 1655, 1656, 1657, 1658, 1659, 1660, 1661, 1662, 1663, 1664, 1665, 1666, 1667, 1668, 1669, 1670, 1671, 1672, 1673, 1674, 1675, 1676, 1677, 1678, 1679, 1680, 1681, 1682, 1683, 1684, 1685, 1686, 1687, 1688, 1689, 1690, 1691, 1692, 1693, 1694, 1695, 1696, 1697, 1698, 1699, 1700, 1701, 1702, 1703, 1704, 1705, 1706, 1707, 1708, 1709, 1710, 1711, 1712, 1713, 1714, 1715, 1716, 1717, 1718, 1719, 1720, 1721, 1722, 1723, 1724, 1725, 1726, 1727, 1728, 1729, 1730, 1731, 1732, 1733, 1734, 1735, 1736, 1737, 1738, 1739, 1740, 1741, 1742, 1743, 1744, 1745, 1746, 1747, 1748, 1749, 1750, 1751, 1752, 1753, 1754, 1755, 1756, 1757, 1758, 1759, 1760, 1761, 1762, 1763, 1764, 1765, 1766, 1767, 1768, 1769, 1770, 1771, 1772, 1773, 1774, 1775, 1776, 1777, 1778, 1779, 1780, 1781, 1782, 1783, 1784, 1785, 1786, 1787, 1788, 1789, 1790, 1791, 1792, 1793, 1794, 1795, 1796, 1797, 1798, 1799, 1800, 1801, 1802, 1803, 1804, 1805, 1806, 1807, 1808, 1809, 1810, 1811, 1812, 1813, 1814, 1815, 1816, 1817, 1818, 1819, 1820, 1821, 1822, 1823, 1824, 1825, 1826, 1827, 1828, 1829, 1830, 1831, 1832, 1833, 1834, 1835, 1836, 1837, 1838, 1839, 1840, 1841, 1842, 1843, 1844, 1845, 1846, 1847, 1848, 1849, 1850, 1851, 1852, 1853, 1854, 1855, 1856, 1857, 1858, 1859, 1860, 1861, 1862, 1863, 1864, 1865, 1866, 1867, 1868, 1869, 1870, 1871, 1872, 1873, 1874, 1875, 1876, 1877, 1878, 1879, 1880, 1881, 1882, 1883, 1884, 1885, 1886, 1887, 1888, 1889, 1890, 1891, 1892, 1893, 1894, 1895, 1896, 1897, 1898, 1899, 1900, 1901, 1902, 1903, 1904, 1905, 1906, 1907, 1908, 1909, 1910, 1911, 1912, 1913, 1914, 1915, 1916, 1917, 1918, 1919, 1920, 1921, 1922, 1923, 1924, 1925, 1926, 1927, 1928, 1929, 1930, 1931, 1932, 1933, 1934, 1935, 1936, 1937, 1938, 1939, 1940, 1941, 1942, 1943, 1944, 1945, 1946, 1947, 1948, 1949, 1950, 1951, 1952, 1953, 1954, 1955, 1956, 1957, 1958, 1959, 1960, 1961, 1962, 1963, 1964, 1965, 1966, 1967, 1968, 1969, 1970, 1971, 1972, 1973, 1974, 1975, 1976, 1977, 1978, 1979, 1980, 1981, 1982, 1983, 1984, 1985, 1986, 1987, 1988, 1989, 1990, 1991, 1992, 1993, 1994, 1995, 1996, 1997, 1998, 1999, 2000, 2001, 2002, 2003, 2004, 2005, 2006, 2007, 2008, 2009, 2010, 2011, 2012, 2013, 2014, 2015, 2016, 2017, 2018, 2019, 2020, 2021, 2022, 2023, 2024, 2025, 2026, 2027, 2028, 2029, 2030, 2031, 2032, 2033, 2034, 2035, 2036, 2037, 2038, 2039, 2040, 2041, 2042, 2043, 2044, 2045, 2046, 2047, 2048, 2049, 2050, 2051, 2052, 2053, 2054, 2055, 2056, 2057, 2058, 2059, 2060, 2061, 2062, 2063, 2064, 2065, 2066, 2067, 2068, 2069, 2070, 2071, 2072, 2073, 2074, 2075, 2076, 2077, 2078, 2079, 2080, 2081, 2082, 2083, 2084, 2085, 2086, 2087, 2088, 2089, 2090, 2091, 2092, 2093, 2094, 2095, 2096, 2097, 2098, 2099, 2100, 2101, 2102, 2103, 2104, 2105, 2106, 2107, 2108, 2109, 2110, 2111, 2112, 2113, 2114, 2115, 2116, 2117, 2118, 2119, 2120, 2121, 2122, 2123, 2124, 2125, 2126, 2127, 2128, 2129, 2130, 2131, 2132, 2133, 2134, 2135, 2136, 2137, 2138, 2139, 2140, 2141, 2142, 2143, 2144, 2145, 2146, 2147, 2148, 2149, 2150, 2151, 2152, 2153, 2154, 2155, 2156, 2157, 2158, 2159, 2160, 2161, 2162, 2163, 2164, 2165, 2166, 2167, 2168, 2169, 2170, 2171, 2172, 2173, 2174, 2175, 2176, 2177, 2178, 2179, 2180, 2181, 2182, 2183, 2184, 2185, 2186, 2187, 2188, 2189, 2190, 2191, 2192, 2193, 2194, 2195, 2196, 2197, 2198, 2199, 2200, 2201, 2202, 2203, 2204, 2205, 2206, 2207, 2208, 2209, 2210, 2211, 2212, 2213, 2214, 2215, 2216, 2217, 2218, 2219, 2220, 2221, 2222, 2223, 2224, 2225, 2226, 2227, 2228, 2229, 2230, 2231, 2232, 2233, 2234, 2235, 2236, 2237, 2238, 2239, 2240, 2241, 2242, 2243, 2244, 2245, 2246, 2247, 2248, 2249, 2250, 2251, 2252, 2253, 2254, 2255, 2256, 2257, 2258, 2259, 2260, 2261, 2262, 2263, 2264, 2265, 2266, 2267, 2268, 2269, 2270, 2271, 2272, 2273, 2274, 2275, 2276, 2277, 2278, 2279, 2280, 2281, 2282, 2283, 2284, 2285, 2286, 2287, 2288, 2289, 2290, 2291, 2292, 2293, 2294, 2295, 2296, 2297, 2298, 2299, 2300, 2301, 2302, 2303, 2304, 2305, 2306, 2307, 2308, 2309, 2310, 2311, 2312, 2313, 2314, 2315, 2316, 2317, 2318, 2319, 2320, 2321, 2322, 2323, 2324, 2325, 2326, 2327, 2328, 2329, 2330, 2331, 2332, 2333, 2334, 2335, 2336, 2337, 2338, 2339, 2340, 2341, 2342, 2343, 2344, 2345, 2346, 2347, 2348, 2349, 2350, 2351, 2352, 2353, 2354, 2355, 2356, 2357, 2358, 2359, 2360, 2361, 2362, 2363, 2364, 2365, 2366, 2367, 2368, 2369, 2370, 2371, 2372, 2373, 2374, 2375, 2376, 2377, 2378, 2379, 2380, 2381, 2382, 2383, 2384, 2385, 2386, 2387, 2388, 2389, 2390, 2391, 2392, 2393, 2394, 2395, 2396, 2397, 2398, 2399, 2400, 2401, 2402, 2403, 2404, 2405, 2406, 2407, 2408, 2409, 2410, 2411, 2412, 2413, 2414, 2415, 2416, 2417, 2418, 2419, 2420, 2421, 2422, 2423, 2424, 2425, 2426, 2427, 2428, 2429, 2430, 2431, 2432, 2433, 2434, 2435, 2436, 2437, 2438, 2439, 2440, 2441, 2442, 2443, 2444, 2445, 2446, 2447, 2448, 2449, 2450, 2451, 2452, 2453, 2454, 2455, 2456, 2457, 2458, 2459, 2460, 2461, 2462, 2463, 2464, 2465, 2466, 2467, 2468, 2469, 2470, 2471, 2472, 2473, 2474, 2475, 2476, 2477, 2478, 2479, 2480, 2481, 2482, 2483, 2484, 2485, 2486, 2487, 2488, 2489, 2490, 2491, 2492, 2493, 2494, 2495, 2496, 2497, 2498, 2499, 2500, 2501, 2502, 2503, 2504, 2505, 2506, 2507, 2508, 2509, 2510, 2511, 2512, 2513, 2514, 2515, 2516, 2517, 2518, 2519, 2520, 2521, 2522, 2523, 2524, 2525, 2526, 2527, 2528, 2529, 2530, 2531, 2532, 2533, 2534, 2535, 2536, 2537, 2538, 2539, 2540, 2541, 2542, 2543, 2544, 2545, 2546, 2547, 2548, 2549, 2550, 2551, 2552, 2553, 2554, 2555, 2556, 2557, 2558, 2559, 2560, 2561, 2562, 2563, 2564, 2565, 2566, 2567, 2568, 2569, 2570, 2571, 2572, 2573, 2574, 2575, 2576, 2577, 2578, 2579, 2580, 2581, 2582, 2583, 2584, 2585, 2586, 2587, 2588, 2589, 2590, 2591, 2592, 2593, 2594, 2595, 2596, 2597, 2598, 2599, 2600, 2601, 2602, 2603, 2604, 2605, 2606, 2607, 2608, 2609, 2610, 2611, 2612, 2613, 2614, 2615, 2616, 2617, 2618, 2619, 2620, 2621, 2622, 2623, 2624, 2625, 2626, 2627, 2628, 2629, 2630, 2631, 2632, 2633, 2634, 2635, 2636, 2637, 2638, 2639, 2640, 2641, 2642, 2643, 2644, 2645, 2646, 2647, 2648, 2649, 2650, 2651, 2652, 2653, 2654, 2655, 2656, 2657, 2658, 2659, 2660, 2661, 2662, 2663, 2664, 2665, 2666, 2667, 2668, 2669, 2670, 2671, 2672, 2673, 2674, 2675, 2676, 2677, 2678, 2679, 2680, 2681, 2682, 2683, 2684, 2685, 2686, 2687, 2688, 2689, 2690, 2691, 2692, 2693, 2694, 2695, 2696, 2697, 2698, 2699, 2700, 2701, 2702, 2703, 2704, 2705, 2706, 2707, 2708, 2709, 2710, 2711, 2712, 2713, 2714, 2715, 2716, 2717, 2718, 2719, 2720, 2721, 2722, 2723, 2724, 2725, 2726, 2727, 2728, 2729, 2730, 2731, 2732, 2733, 2734, 2735, 2736, 2737, 2738, 2739, 2740, 2741, 2742, 2743, 2744, 2745, 2746, 2747, 2748, 2749, 2750, 2751, 2752, 2753, 2754, 2755, 2756, 2757, 2758, 2759, 2760, 2761, 2762, 2763, 2764, 2765, 2766, 2767, 2768, 2769, 2770, 2771, 2772, 2773, 2774, 2775, 2776, 2777, 2778, 2779, 2780, 2781, 2782, 2783, 2784, 2785, 2786, 2787, 2788, 2789, 2790, 2791, 2792, 2793, 2794, 2795, 2796, 2797, 2798, 2799, 2800, 2801, 2802, 2803, 2804, 2805, 2806, 2807, 2808, 2809, 2810, 2811, 2812, 2813, 2814, 2815, 2816, 2817, 2818, 2819, 2820, 2821, 2822, 2823, 2824, 2825, 2826, 2827, 2828, 2829, 2830, 2831, 2832, 2833, 2834, 2835, 2836, 2837, 2838, 2839, 2840, 2841, 2842, 2843, 2844, 2845, 2846, 2847, 2848, 2849, 2850, 2851, 2852, 2853, 2854, 2855, 2856, 2857, 2858, 2859, 2860, 2861, 2862, 2863, 2864, 2865, 2866, 2867, 2868, 2869, 2870, 2871, 2872, 2873, 2874, 2875, 2876, 2877, 2878, 2879, 2880, 2881, 2882, 2883, 2884, 2885, 2886, 2887, 2888, 2889, 2890, 2891, 2892, 2893, 2894, 2895, 2896, 2897, 2898, 2899, 2900, 2901, 2902, 2903, 2904, 2905, 2906, 2907, 2908, 2909, 2910, 2911, 2912, 2913, 2914, 2915, 2916, 2917, 2918, 2919, 2920, 2921, 2922, 2923, 2924, 2925, 2926, 2927, 2928, 2929, 2930, 2931, 2932, 2933, 2934, 2935, 2936, 2937, 2938, 2939, 2940, 2941, 2942, 2943, 2944, 2945, 2946, 2947, 2948, 2949, 2950, 2951, 2952, 2953, 2954, 2955, 2956, 2957, 2958, 2959, 2960, 2961, 2962, 2963, 2964, 2965, 2966, 2967, 2968, 2969, 2970, 2971, 2972, 2973, 2974, 2975, 2976, 2977, 2978, 2979, 2980, 2981, 2982, 2983, 2984, 2985, 2986, 2987, 2988, 2989, 2990, 2991, 2992, 2993, 2994, 2995, 2996, 2997, 2998, 2999, 3000, 3001, 3002, 3003, 3004, 3005, 3006, 3007, 3008, 3009, 3010, 3011, 3012, 3013, 3014, 3015, 3016, 3017, 3018, 3019, 3020, 3021, 3022, 3023, 3024, 3025, 3026, 3027, 3028, 3029, 3030, 3031, 3032, 3033, 3034, 3035, 3036, 3037, 3038, 3039, 3040, 3041, 3042, 3043, 3044, 3045, 3046, 3047, 3048, 3049, 3050, 3051, 3052, 3053, 3054, 3055, 3056, 3057, 3058, 3059, 3060, 3061, 3062, 3063, 3064, 3065, 3066, 3067, 3068, 3069, 3070, 3071, 3072, 3073, 3074, 3075, 3076, 3077, 3078, 3079, 3080, 3081, 3082, 3083, 3084, 3085, 3086, 3087, 3088, 3089, 3090, 3091, 3092, 3093, 3094, 3095, 3096, 3097, 3098, 3099, 3100, 3101, 3102, 3103, 3104, 3105, 3106, 3107, 3108, 3109, 3110, 3111, 3112, 3113, 3114, 3115, 3116, 3117, 3118, 3119, 3120, 3121, 3122, 3123, 3124, 3125, 3126, 3127, 3128, 3129, 3130, 3131, 3132, 3133, 3134, 3135, 3136, 3137, 3138, 3139, 3140, 3141, 3142, 3143, 3144, 3145, 3146, 3147, 3148, 3149, 3150, 3151, 3152, 3153, 3154, 3155, 3156, 3157, 3158, 3159, 3160, 3161, 3162, 3163, 3164, 3165, 3166, 3167, 3168, 3169, 3170, 3171, 3172, 3173, 3174, 3175, 3176, 3177, 3178, 3179, 3180, 3181, 3182, 3183, 3184, 3185, 3186, 3187, 3188, 3189, 3190, 3191, 3192, 3193, 3194, 3195, 3196, 3197, 3198, 3199]}\n"
          ]
        }
      ],
      "source": [
        "# Insert data into the collection\n",
        "print(\"Inserting data into Milvus...\")\n",
        "res = client.insert(\n",
        "    collection_name=\"rag_mini\",\n",
        "    data=rag_data\n",
        ")\n",
        "\n",
        "print(f\"Insertion complete!\")\n",
        "print(f\"Insert result: {res}\")"
      ]
    },
    {
      "cell_type": "code",
      "execution_count": 14,
      "metadata": {
        "colab": {
          "base_uri": "https://localhost:8080/",
          "height": 0
        },
        "id": "uev8YAcyEoOq",
        "outputId": "448ac159-2968-49cd-a8ce-fe02cc6336d4"
      },
      "outputs": [
        {
          "output_type": "stream",
          "name": "stdout",
          "text": [
            "=== Database Sanity Check ===\n",
            "Entity count: 3200\n",
            "\n",
            "Collection schema: {'collection_name': 'rag_mini', 'auto_id': False, 'num_shards': 0, 'description': 'RAG Mini Wikipedia collection', 'fields': [{'field_id': 100, 'name': 'id', 'description': '', 'type': <DataType.INT64: 5>, 'params': {}, 'is_primary': True}, {'field_id': 101, 'name': 'passage', 'description': '', 'type': <DataType.VARCHAR: 21>, 'params': {'max_length': 5000}}, {'field_id': 102, 'name': 'embedding', 'description': '', 'type': <DataType.FLOAT_VECTOR: 101>, 'params': {'dim': 384}}], 'functions': [], 'aliases': [], 'collection_id': 0, 'consistency_level': 0, 'properties': {}, 'num_partitions': 0, 'enable_dynamic_field': False}\n",
            "\n",
            " Database setup complete!\n"
          ]
        }
      ],
      "source": [
        "# Sanity check - verify the data is in the database\n",
        "print(\"=== Database Sanity Check ===\")\n",
        "print(\"Entity count:\", client.get_collection_stats(\"rag_mini\")[\"row_count\"])\n",
        "print(\"\\nCollection schema:\", client.describe_collection(\"rag_mini\"))\n",
        "print(\"\\n Database setup complete!\")"
      ]
    },
    {
      "cell_type": "markdown",
      "source": [
        "---\n",
        "## 4. Load Test Queries and Setup Search"
      ],
      "metadata": {
        "id": "mgRUfnlFhAo5"
      }
    },
    {
      "cell_type": "code",
      "execution_count": 15,
      "metadata": {
        "colab": {
          "base_uri": "https://localhost:8080/",
          "height": 329
        },
        "id": "yrijF9DcF7Ug",
        "outputId": "af335411-e4cb-4ce1-93e8-3f49e2ad4dab"
      },
      "outputs": [
        {
          "output_type": "stream",
          "name": "stdout",
          "text": [
            "Loaded 918 test questions\n",
            "\n",
            "Columns: ['question', 'answer']\n",
            "\n",
            "First 5 questions:\n"
          ]
        },
        {
          "output_type": "execute_result",
          "data": {
            "text/plain": [
              "                                             question     answer\n",
              "id                                                              \n",
              "0   Was Abraham Lincoln the sixteenth President of...        yes\n",
              "2   Did Lincoln sign the National Banking Act of 1...        yes\n",
              "4                    Did his mother die of pneumonia?         no\n",
              "6       How many long was Lincoln's formal education?  18 months\n",
              "8        When did Lincoln begin his political career?       1832"
            ],
            "text/html": [
              "\n",
              "  <div id=\"df-e9e472fe-b894-4170-93e0-f1880e22a202\" class=\"colab-df-container\">\n",
              "    <div>\n",
              "<style scoped>\n",
              "    .dataframe tbody tr th:only-of-type {\n",
              "        vertical-align: middle;\n",
              "    }\n",
              "\n",
              "    .dataframe tbody tr th {\n",
              "        vertical-align: top;\n",
              "    }\n",
              "\n",
              "    .dataframe thead th {\n",
              "        text-align: right;\n",
              "    }\n",
              "</style>\n",
              "<table border=\"1\" class=\"dataframe\">\n",
              "  <thead>\n",
              "    <tr style=\"text-align: right;\">\n",
              "      <th></th>\n",
              "      <th>question</th>\n",
              "      <th>answer</th>\n",
              "    </tr>\n",
              "    <tr>\n",
              "      <th>id</th>\n",
              "      <th></th>\n",
              "      <th></th>\n",
              "    </tr>\n",
              "  </thead>\n",
              "  <tbody>\n",
              "    <tr>\n",
              "      <th>0</th>\n",
              "      <td>Was Abraham Lincoln the sixteenth President of...</td>\n",
              "      <td>yes</td>\n",
              "    </tr>\n",
              "    <tr>\n",
              "      <th>2</th>\n",
              "      <td>Did Lincoln sign the National Banking Act of 1...</td>\n",
              "      <td>yes</td>\n",
              "    </tr>\n",
              "    <tr>\n",
              "      <th>4</th>\n",
              "      <td>Did his mother die of pneumonia?</td>\n",
              "      <td>no</td>\n",
              "    </tr>\n",
              "    <tr>\n",
              "      <th>6</th>\n",
              "      <td>How many long was Lincoln's formal education?</td>\n",
              "      <td>18 months</td>\n",
              "    </tr>\n",
              "    <tr>\n",
              "      <th>8</th>\n",
              "      <td>When did Lincoln begin his political career?</td>\n",
              "      <td>1832</td>\n",
              "    </tr>\n",
              "  </tbody>\n",
              "</table>\n",
              "</div>\n",
              "    <div class=\"colab-df-buttons\">\n",
              "\n",
              "  <div class=\"colab-df-container\">\n",
              "    <button class=\"colab-df-convert\" onclick=\"convertToInteractive('df-e9e472fe-b894-4170-93e0-f1880e22a202')\"\n",
              "            title=\"Convert this dataframe to an interactive table.\"\n",
              "            style=\"display:none;\">\n",
              "\n",
              "  <svg xmlns=\"http://www.w3.org/2000/svg\" height=\"24px\" viewBox=\"0 -960 960 960\">\n",
              "    <path d=\"M120-120v-720h720v720H120Zm60-500h600v-160H180v160Zm220 220h160v-160H400v160Zm0 220h160v-160H400v160ZM180-400h160v-160H180v160Zm440 0h160v-160H620v160ZM180-180h160v-160H180v160Zm440 0h160v-160H620v160Z\"/>\n",
              "  </svg>\n",
              "    </button>\n",
              "\n",
              "  <style>\n",
              "    .colab-df-container {\n",
              "      display:flex;\n",
              "      gap: 12px;\n",
              "    }\n",
              "\n",
              "    .colab-df-convert {\n",
              "      background-color: #E8F0FE;\n",
              "      border: none;\n",
              "      border-radius: 50%;\n",
              "      cursor: pointer;\n",
              "      display: none;\n",
              "      fill: #1967D2;\n",
              "      height: 32px;\n",
              "      padding: 0 0 0 0;\n",
              "      width: 32px;\n",
              "    }\n",
              "\n",
              "    .colab-df-convert:hover {\n",
              "      background-color: #E2EBFA;\n",
              "      box-shadow: 0px 1px 2px rgba(60, 64, 67, 0.3), 0px 1px 3px 1px rgba(60, 64, 67, 0.15);\n",
              "      fill: #174EA6;\n",
              "    }\n",
              "\n",
              "    .colab-df-buttons div {\n",
              "      margin-bottom: 4px;\n",
              "    }\n",
              "\n",
              "    [theme=dark] .colab-df-convert {\n",
              "      background-color: #3B4455;\n",
              "      fill: #D2E3FC;\n",
              "    }\n",
              "\n",
              "    [theme=dark] .colab-df-convert:hover {\n",
              "      background-color: #434B5C;\n",
              "      box-shadow: 0px 1px 3px 1px rgba(0, 0, 0, 0.15);\n",
              "      filter: drop-shadow(0px 1px 2px rgba(0, 0, 0, 0.3));\n",
              "      fill: #FFFFFF;\n",
              "    }\n",
              "  </style>\n",
              "\n",
              "    <script>\n",
              "      const buttonEl =\n",
              "        document.querySelector('#df-e9e472fe-b894-4170-93e0-f1880e22a202 button.colab-df-convert');\n",
              "      buttonEl.style.display =\n",
              "        google.colab.kernel.accessAllowed ? 'block' : 'none';\n",
              "\n",
              "      async function convertToInteractive(key) {\n",
              "        const element = document.querySelector('#df-e9e472fe-b894-4170-93e0-f1880e22a202');\n",
              "        const dataTable =\n",
              "          await google.colab.kernel.invokeFunction('convertToInteractive',\n",
              "                                                    [key], {});\n",
              "        if (!dataTable) return;\n",
              "\n",
              "        const docLinkHtml = 'Like what you see? Visit the ' +\n",
              "          '<a target=\"_blank\" href=https://colab.research.google.com/notebooks/data_table.ipynb>data table notebook</a>'\n",
              "          + ' to learn more about interactive tables.';\n",
              "        element.innerHTML = '';\n",
              "        dataTable['output_type'] = 'display_data';\n",
              "        await google.colab.output.renderOutput(dataTable, element);\n",
              "        const docLink = document.createElement('div');\n",
              "        docLink.innerHTML = docLinkHtml;\n",
              "        element.appendChild(docLink);\n",
              "      }\n",
              "    </script>\n",
              "  </div>\n",
              "\n",
              "\n",
              "    <div id=\"df-5405e854-c7c1-4668-8637-5a4bf843acdf\">\n",
              "      <button class=\"colab-df-quickchart\" onclick=\"quickchart('df-5405e854-c7c1-4668-8637-5a4bf843acdf')\"\n",
              "                title=\"Suggest charts\"\n",
              "                style=\"display:none;\">\n",
              "\n",
              "<svg xmlns=\"http://www.w3.org/2000/svg\" height=\"24px\"viewBox=\"0 0 24 24\"\n",
              "     width=\"24px\">\n",
              "    <g>\n",
              "        <path d=\"M19 3H5c-1.1 0-2 .9-2 2v14c0 1.1.9 2 2 2h14c1.1 0 2-.9 2-2V5c0-1.1-.9-2-2-2zM9 17H7v-7h2v7zm4 0h-2V7h2v10zm4 0h-2v-4h2v4z\"/>\n",
              "    </g>\n",
              "</svg>\n",
              "      </button>\n",
              "\n",
              "<style>\n",
              "  .colab-df-quickchart {\n",
              "      --bg-color: #E8F0FE;\n",
              "      --fill-color: #1967D2;\n",
              "      --hover-bg-color: #E2EBFA;\n",
              "      --hover-fill-color: #174EA6;\n",
              "      --disabled-fill-color: #AAA;\n",
              "      --disabled-bg-color: #DDD;\n",
              "  }\n",
              "\n",
              "  [theme=dark] .colab-df-quickchart {\n",
              "      --bg-color: #3B4455;\n",
              "      --fill-color: #D2E3FC;\n",
              "      --hover-bg-color: #434B5C;\n",
              "      --hover-fill-color: #FFFFFF;\n",
              "      --disabled-bg-color: #3B4455;\n",
              "      --disabled-fill-color: #666;\n",
              "  }\n",
              "\n",
              "  .colab-df-quickchart {\n",
              "    background-color: var(--bg-color);\n",
              "    border: none;\n",
              "    border-radius: 50%;\n",
              "    cursor: pointer;\n",
              "    display: none;\n",
              "    fill: var(--fill-color);\n",
              "    height: 32px;\n",
              "    padding: 0;\n",
              "    width: 32px;\n",
              "  }\n",
              "\n",
              "  .colab-df-quickchart:hover {\n",
              "    background-color: var(--hover-bg-color);\n",
              "    box-shadow: 0 1px 2px rgba(60, 64, 67, 0.3), 0 1px 3px 1px rgba(60, 64, 67, 0.15);\n",
              "    fill: var(--button-hover-fill-color);\n",
              "  }\n",
              "\n",
              "  .colab-df-quickchart-complete:disabled,\n",
              "  .colab-df-quickchart-complete:disabled:hover {\n",
              "    background-color: var(--disabled-bg-color);\n",
              "    fill: var(--disabled-fill-color);\n",
              "    box-shadow: none;\n",
              "  }\n",
              "\n",
              "  .colab-df-spinner {\n",
              "    border: 2px solid var(--fill-color);\n",
              "    border-color: transparent;\n",
              "    border-bottom-color: var(--fill-color);\n",
              "    animation:\n",
              "      spin 1s steps(1) infinite;\n",
              "  }\n",
              "\n",
              "  @keyframes spin {\n",
              "    0% {\n",
              "      border-color: transparent;\n",
              "      border-bottom-color: var(--fill-color);\n",
              "      border-left-color: var(--fill-color);\n",
              "    }\n",
              "    20% {\n",
              "      border-color: transparent;\n",
              "      border-left-color: var(--fill-color);\n",
              "      border-top-color: var(--fill-color);\n",
              "    }\n",
              "    30% {\n",
              "      border-color: transparent;\n",
              "      border-left-color: var(--fill-color);\n",
              "      border-top-color: var(--fill-color);\n",
              "      border-right-color: var(--fill-color);\n",
              "    }\n",
              "    40% {\n",
              "      border-color: transparent;\n",
              "      border-right-color: var(--fill-color);\n",
              "      border-top-color: var(--fill-color);\n",
              "    }\n",
              "    60% {\n",
              "      border-color: transparent;\n",
              "      border-right-color: var(--fill-color);\n",
              "    }\n",
              "    80% {\n",
              "      border-color: transparent;\n",
              "      border-right-color: var(--fill-color);\n",
              "      border-bottom-color: var(--fill-color);\n",
              "    }\n",
              "    90% {\n",
              "      border-color: transparent;\n",
              "      border-bottom-color: var(--fill-color);\n",
              "    }\n",
              "  }\n",
              "</style>\n",
              "\n",
              "      <script>\n",
              "        async function quickchart(key) {\n",
              "          const quickchartButtonEl =\n",
              "            document.querySelector('#' + key + ' button');\n",
              "          quickchartButtonEl.disabled = true;  // To prevent multiple clicks.\n",
              "          quickchartButtonEl.classList.add('colab-df-spinner');\n",
              "          try {\n",
              "            const charts = await google.colab.kernel.invokeFunction(\n",
              "                'suggestCharts', [key], {});\n",
              "          } catch (error) {\n",
              "            console.error('Error during call to suggestCharts:', error);\n",
              "          }\n",
              "          quickchartButtonEl.classList.remove('colab-df-spinner');\n",
              "          quickchartButtonEl.classList.add('colab-df-quickchart-complete');\n",
              "        }\n",
              "        (() => {\n",
              "          let quickchartButtonEl =\n",
              "            document.querySelector('#df-5405e854-c7c1-4668-8637-5a4bf843acdf button');\n",
              "          quickchartButtonEl.style.display =\n",
              "            google.colab.kernel.accessAllowed ? 'block' : 'none';\n",
              "        })();\n",
              "      </script>\n",
              "    </div>\n",
              "\n",
              "    </div>\n",
              "  </div>\n"
            ],
            "application/vnd.google.colaboratory.intrinsic+json": {
              "type": "dataframe",
              "variable_name": "queries",
              "summary": "{\n  \"name\": \"queries\",\n  \"rows\": 918,\n  \"fields\": [\n    {\n      \"column\": \"id\",\n      \"properties\": {\n        \"dtype\": \"number\",\n        \"std\": 484,\n        \"min\": 0,\n        \"max\": 1714,\n        \"num_unique_values\": 918,\n        \"samples\": [\n          1308,\n          89,\n          822\n        ],\n        \"semantic_type\": \"\",\n        \"description\": \"\"\n      }\n    },\n    {\n      \"column\": \"question\",\n      \"properties\": {\n        \"dtype\": \"string\",\n        \"num_unique_values\": 918,\n        \"samples\": [\n          \"What is actually black in color?\",\n          \"When did he become a professor?\",\n          \"What does \\\"Era of Good Feelings\\\" refers to?\"\n        ],\n        \"semantic_type\": \"\",\n        \"description\": \"\"\n      }\n    },\n    {\n      \"column\": \"answer\",\n      \"properties\": {\n        \"dtype\": \"string\",\n        \"num_unique_values\": 499,\n        \"samples\": [\n          \"1856\",\n          \"The lands\",\n          \"Thomas Jefferson, Benjamin Franklin, Robert R. Livingston and Roger Sherman.\"\n        ],\n        \"semantic_type\": \"\",\n        \"description\": \"\"\n      }\n    }\n  ]\n}"
            }
          },
          "metadata": {},
          "execution_count": 15
        }
      ],
      "source": [
        "import pandas as pd\n",
        "\n",
        "# Load the TEST QUESTIONS (different from passages!)\n",
        "queries = pd.read_parquet(\"hf://datasets/rag-datasets/rag-mini-wikipedia/data/test.parquet/part.0.parquet\")\n",
        "\n",
        "print(f\"Loaded {len(queries)} test questions\")\n",
        "print(f\"\\nColumns: {queries.columns.tolist()}\")\n",
        "print(f\"\\nFirst 5 questions:\")\n",
        "queries.head()"
      ]
    },
    {
      "cell_type": "code",
      "execution_count": 16,
      "metadata": {
        "colab": {
          "base_uri": "https://localhost:8080/",
          "height": 0
        },
        "id": "jRWl5t8hGCV_",
        "outputId": "6f2f873c-fd6c-4879-96c9-c836878f1d8b"
      },
      "outputs": [
        {
          "output_type": "stream",
          "name": "stdout",
          "text": [
            "Test Question: Was Abraham Lincoln the sixteenth President of the United States?\n",
            "Ground Truth Answer: yes\n"
          ]
        }
      ],
      "source": [
        "# Test with the first question\n",
        "query = queries.iloc[0]['question']\n",
        "ground_truth = queries.iloc[0]['answer']\n",
        "\n",
        "print(f\"Test Question: {query}\")\n",
        "print(f\"Ground Truth Answer: {ground_truth}\")"
      ]
    },
    {
      "cell_type": "code",
      "execution_count": 17,
      "metadata": {
        "colab": {
          "base_uri": "https://localhost:8080/",
          "height": 0
        },
        "id": "kewViNh6GDph",
        "outputId": "627456cb-eb8c-40a0-9ced-aaa2b7879420"
      },
      "outputs": [
        {
          "output_type": "stream",
          "name": "stdout",
          "text": [
            "Query embedded\n",
            "Embedding shape: (384,)\n"
          ]
        }
      ],
      "source": [
        "# Convert the question to an embedding\n",
        "query_embedding = embedding_model.encode([query])[0]\n",
        "\n",
        "print(f\"Query embedded\")\n",
        "print(f\"Embedding shape: {query_embedding.shape}\")"
      ]
    },
    {
      "cell_type": "code",
      "execution_count": 18,
      "metadata": {
        "colab": {
          "base_uri": "https://localhost:8080/",
          "height": 0
        },
        "id": "JTpxJNUPGIuP",
        "outputId": "4fc3b679-fac5-4b99-9a32-ae4a898806a7"
      },
      "outputs": [
        {
          "output_type": "stream",
          "name": "stdout",
          "text": [
            " Collection ready for search!\n"
          ]
        }
      ],
      "source": [
        "from pymilvus import MilvusClient\n",
        "\n",
        "# Prepare index for fast searching\n",
        "index_params = MilvusClient.prepare_index_params()\n",
        "\n",
        "# Add index on embedding field\n",
        "index_params.add_index(\n",
        "    field_name=\"embedding\",\n",
        "    index_type=\"FLAT\",\n",
        "    metric_type=\"L2\"\n",
        ")\n",
        "\n",
        "# Create index\n",
        "client.create_index(\n",
        "    collection_name=\"rag_mini\",\n",
        "    index_params=index_params\n",
        ")\n",
        "\n",
        "# Load collection into memory\n",
        "client.load_collection(\"rag_mini\")\n",
        "print(\" Collection ready for search!\")"
      ]
    },
    {
      "cell_type": "code",
      "execution_count": 19,
      "metadata": {
        "colab": {
          "base_uri": "https://localhost:8080/",
          "height": 0
        },
        "id": "gtHtZ-KsGOIL",
        "outputId": "b2b0ebf9-486e-4ada-bcee-49ce21b7b0d7"
      },
      "outputs": [
        {
          "output_type": "stream",
          "name": "stdout",
          "text": [
            "Question: Was Abraham Lincoln the sixteenth President of the United States?\n",
            "\n",
            "=== Top 3 Retrieved Passages ===\n",
            "\n",
            "--- Result 1 ---\n",
            "Distance: 0.5810\n",
            "Passage: Young Abraham Lincoln...\n",
            "\n",
            "--- Result 2 ---\n",
            "Distance: 0.8319\n",
            "Passage: Abraham Lincoln (February 12, 1809 â April 15, 1865) was the sixteenth President of the United States, serving from March 4, 1861 until his assassination. As an outspoken opponent of the expansion of slavery in the United States, \"[I]n his short au...\n",
            "\n",
            "--- Result 3 ---\n",
            "Distance: 0.8862\n",
            "Passage: Sixteen months before his death, his son, John Quincy Adams, became the sixth President of the United States (1825 1829), the only son of a former President to hold the office until George W. Bush in 2001....\n",
            "\n"
          ]
        }
      ],
      "source": [
        "# Search the database\n",
        "output = client.search(\n",
        "    collection_name=\"rag_mini\",\n",
        "    data=[query_embedding.tolist()],\n",
        "    limit=3,  # Get top 3 results\n",
        "    output_fields=[\"id\", \"passage\"]\n",
        ")\n",
        "\n",
        "print(f\"Question: {query}\\n\")\n",
        "print(\"=== Top 3 Retrieved Passages ===\\n\")\n",
        "\n",
        "for i, result in enumerate(output[0]):\n",
        "    print(f\"--- Result {i+1} ---\")\n",
        "    print(f\"Distance: {result['distance']:.4f}\")\n",
        "    print(f\"Passage: {result['entity']['passage'][:250]}...\")\n",
        "    print()"
      ]
    },
    {
      "cell_type": "code",
      "execution_count": 20,
      "metadata": {
        "colab": {
          "base_uri": "https://localhost:8080/",
          "height": 0
        },
        "id": "meOwR4FeGgqb",
        "outputId": "a680f832-eaf9-49ee-fdeb-f3efa7851ce3"
      },
      "outputs": [
        {
          "output_type": "stream",
          "name": "stdout",
          "text": [
            "=== Combined Context (Top 3) ===\n",
            "Young Abraham Lincoln\n",
            "\n",
            "Abraham Lincoln (February 12, 1809 â April 15, 1865) was the sixteenth President of the United States, serving from March 4, 1861 until his assassination. As an outspoken opponent of the expansion of slavery in the United States, \"[I]n his short autobiography written for the 1860 presidential campaign, Lincoln would describe his protest in the Illinois legislature as one that 'briefly defined his position on the slavery question, and so far as it goes, it was then the sa...\n"
          ]
        }
      ],
      "source": [
        "# Get TOP 3 passages and combine them as context\n",
        "top_3_passages = [result['entity']['passage'] for result in output[0][:3]]\n",
        "context = \"\\n\\n\".join(top_3_passages)\n",
        "\n",
        "print(\"=== Combined Context (Top 3) ===\")\n",
        "print(context[:500] + \"...\")  # Show first 500 chars"
      ]
    },
    {
      "cell_type": "markdown",
      "source": [
        "---\n",
        "## 5. Load Language Model"
      ],
      "metadata": {
        "id": "IAOQL8JNhH3c"
      }
    },
    {
      "cell_type": "code",
      "execution_count": 21,
      "metadata": {
        "colab": {
          "base_uri": "https://localhost:8080/",
          "height": 0
        },
        "id": "4OMZ2UFMGmr-",
        "outputId": "c0c79bc3-a257-46e7-ec93-5b416f903182"
      },
      "outputs": [
        {
          "output_type": "stream",
          "name": "stdout",
          "text": [
            "Loading LLM (this takes ~30 seconds)...\n"
          ]
        },
        {
          "output_type": "stream",
          "name": "stderr",
          "text": [
            "Device set to use cpu\n"
          ]
        }
      ],
      "source": [
        "# Install transformers if needed\n",
        "!pip install transformers -q\n",
        "\n",
        "from transformers import pipeline\n",
        "\n",
        "# Load a small, free LLM\n",
        "print(\"Loading LLM (this takes ~30 seconds)...\")\n",
        "generator = pipeline(\n",
        "    'text2text-generation',\n",
        "    model='google/flan-t5-base',\n",
        "    max_length=100\n",
        ")\n"
      ]
    },
    {
      "cell_type": "code",
      "execution_count": 22,
      "metadata": {
        "colab": {
          "base_uri": "https://localhost:8080/",
          "height": 0
        },
        "id": "AT2gNHqFGjKv",
        "outputId": "290d028e-d71b-46e6-8bd1-2f30b37afc97"
      },
      "outputs": [
        {
          "output_type": "stream",
          "name": "stdout",
          "text": [
            "=== RAG Results (with Top-3) ===\n",
            "Question: Was Abraham Lincoln the sixteenth President of the United States?\n",
            "Generated Answer: yes\n",
            "Ground Truth: yes\n"
          ]
        }
      ],
      "source": [
        "# Create prompt with multiple passages\n",
        "prompt = f\"\"\"You are a helpful assistant. Answer the question based on the provided context.\n",
        "\n",
        "Context: {context}\n",
        "\n",
        "Question: {query}\n",
        "\n",
        "Answer:\"\"\"\n",
        "\n",
        "# Generate answer\n",
        "response = generator(prompt, max_length=50, num_return_sequences=1)\n",
        "generated_answer = response[0]['generated_text']\n",
        "\n",
        "print(\"=== RAG Results (with Top-3) ===\")\n",
        "print(f\"Question: {query}\")\n",
        "print(f\"Generated Answer: {generated_answer}\")\n",
        "print(f\"Ground Truth: {ground_truth}\")"
      ]
    },
    {
      "cell_type": "markdown",
      "source": [
        "---\n",
        "## 6. Baseline Experiments\n",
        "### 6.1 Initial Naive RAG Test (Top-3)"
      ],
      "metadata": {
        "id": "bF5k2kFKhLZU"
      }
    },
    {
      "cell_type": "code",
      "execution_count": 23,
      "metadata": {
        "colab": {
          "base_uri": "https://localhost:8080/",
          "height": 0
        },
        "id": "mZjoGN8UHvVz",
        "outputId": "15212a6f-8c11-435a-ece2-c2328d738bbe"
      },
      "outputs": [
        {
          "output_type": "stream",
          "name": "stdout",
          "text": [
            "Generating answers for questions...\n"
          ]
        },
        {
          "output_type": "stream",
          "name": "stderr",
          "text": [
            "Token indices sequence length is longer than the specified maximum sequence length for this model (646 > 512). Running this sequence through the model will result in indexing errors\n"
          ]
        },
        {
          "output_type": "stream",
          "name": "stdout",
          "text": [
            "Processed 20/100 questions...\n",
            "Processed 40/100 questions...\n",
            "Processed 60/100 questions...\n",
            "Processed 80/100 questions...\n",
            "Processed 100/100 questions...\n"
          ]
        }
      ],
      "source": [
        "# Process all questions (we'll start with first 100 to save time)\n",
        "results = []\n",
        "\n",
        "print(\"Generating answers for questions...\")\n",
        "\n",
        "for i in range(100):  # Start with 100 questions\n",
        "    # Get question and ground truth\n",
        "    question = queries.iloc[i]['question']\n",
        "    truth = queries.iloc[i]['answer']\n",
        "\n",
        "    # Embed query\n",
        "    q_emb = embedding_model.encode([question])[0]\n",
        "\n",
        "    # Search\n",
        "    search_results = client.search(\n",
        "        collection_name=\"rag_mini\",\n",
        "        data=[q_emb.tolist()],\n",
        "        limit=3,\n",
        "        output_fields=[\"passage\"]\n",
        "    )\n",
        "\n",
        "    # Get top-3 context\n",
        "    passages = [r['entity']['passage'] for r in search_results[0][:3]]\n",
        "    ctx = \"\\n\\n\".join(passages)\n",
        "\n",
        "    # Generate answer\n",
        "    pmt = f\"Answer based on context.\\n\\nContext: {ctx}\\n\\nQuestion: {question}\\n\\nAnswer:\"\n",
        "    ans = generator(pmt, max_length=50)[0]['generated_text']\n",
        "\n",
        "    # Store result\n",
        "    results.append({\n",
        "        'question': question,\n",
        "        'generated_answer': ans,\n",
        "        'ground_truth': truth\n",
        "    })\n",
        "\n",
        "    if (i+1) % 20 == 0:\n",
        "        print(f\"Processed {i+1}/100 questions...\")"
      ]
    },
    {
      "cell_type": "code",
      "execution_count": 24,
      "metadata": {
        "colab": {
          "base_uri": "https://localhost:8080/",
          "height": 0
        },
        "id": "wXrzny45KEPt",
        "outputId": "2dde7b70-2cf5-41f9-b500-79a06b1262ba"
      },
      "outputs": [
        {
          "output_type": "stream",
          "name": "stdout",
          "text": [
            "=== Evaluation Metrics ===\n",
            "F1 Score: 55.52\n",
            "Exact Match: 49.00\n"
          ]
        }
      ],
      "source": [
        "# Install evaluate library for metrics\n",
        "!pip install evaluate -q\n",
        "\n",
        "from evaluate import load\n",
        "\n",
        "# Load SQuAD metric\n",
        "squad_metric = load(\"squad\")\n",
        "\n",
        "# Prepare data for metric\n",
        "predictions = []\n",
        "references = []\n",
        "\n",
        "for i, result in enumerate(results):\n",
        "    predictions.append({\n",
        "        'id': str(i),\n",
        "        'prediction_text': result['generated_answer']\n",
        "    })\n",
        "\n",
        "    references.append({\n",
        "        'id': str(i),\n",
        "        'answers': {\n",
        "            'text': [result['ground_truth']],\n",
        "            'answer_start': [0]\n",
        "        }\n",
        "    })\n",
        "\n",
        "# Calculate metrics\n",
        "scores = squad_metric.compute(predictions=predictions, references=references)\n",
        "\n",
        "print(\"=== Evaluation Metrics ===\")\n",
        "print(f\"F1 Score: {scores['f1']:.2f}\")\n",
        "print(f\"Exact Match: {scores['exact_match']:.2f}\")"
      ]
    },
    {
      "cell_type": "code",
      "execution_count": 25,
      "metadata": {
        "colab": {
          "base_uri": "https://localhost:8080/",
          "height": 0
        },
        "id": "NwHC85epKa-D",
        "outputId": "f26cb883-9eaa-4112-a02b-b6122c31dede"
      },
      "outputs": [
        {
          "output_type": "stream",
          "name": "stdout",
          "text": [
            "Results saved to naive_rag_results.csv\n",
            "\n",
            "Baseline Performance (Top-3, Flan-T5):\n",
            "F1 Score: 55.52\n",
            "Exact Match: 49.00\n"
          ]
        }
      ],
      "source": [
        "import pandas as pd\n",
        "\n",
        "# Save results to dataframe\n",
        "results_df = pd.DataFrame(results)\n",
        "results_df.to_csv('naive_rag_results.csv', index=False)\n",
        "\n",
        "print(\"Results saved to naive_rag_results.csv\")\n",
        "print(f\"\\nBaseline Performance (Top-3, Flan-T5):\")\n",
        "print(f\"F1 Score: {scores['f1']:.2f}\")\n",
        "print(f\"Exact Match: {scores['exact_match']:.2f}\")"
      ]
    },
    {
      "cell_type": "code",
      "execution_count": 26,
      "metadata": {
        "colab": {
          "base_uri": "https://localhost:8080/",
          "height": 0
        },
        "id": "aAB2LHKOKnXU",
        "outputId": "4f51184a-114f-4839-8da8-db346262a4e8"
      },
      "outputs": [
        {
          "output_type": "stream",
          "name": "stdout",
          "text": [
            "Testing Chain-of-Thought prompting on first 50 questions...\n",
            "\n",
            "=== Chain-of-Thought Results ===\n",
            "F1 Score: 9.70\n",
            "Exact Match: 0.00\n"
          ]
        }
      ],
      "source": [
        "# Test with Chain-of-Thought prompting\n",
        "cot_results = []\n",
        "\n",
        "print(\"Testing Chain-of-Thought prompting on first 50 questions...\")\n",
        "\n",
        "for i in range(50):\n",
        "    question = queries.iloc[i]['question']\n",
        "    truth = queries.iloc[i]['answer']\n",
        "\n",
        "    q_emb = embedding_model.encode([question])[0]\n",
        "    search_results = client.search(\n",
        "        collection_name=\"rag_mini\",\n",
        "        data=[q_emb.tolist()],\n",
        "        limit=3,\n",
        "        output_fields=[\"passage\"]\n",
        "    )\n",
        "\n",
        "    passages = [r['entity']['passage'] for r in search_results[0][:3]]\n",
        "    ctx = \"\\n\\n\".join(passages)\n",
        "\n",
        "    # Different prompt: Chain-of-Thought\n",
        "    pmt = f\"\"\"Read the context and answer the question step by step.\n",
        "\n",
        "Context: {ctx}\n",
        "\n",
        "Question: {question}\n",
        "\n",
        "Let's think step by step:\n",
        "Answer:\"\"\"\n",
        "\n",
        "    ans = generator(pmt, max_length=50)[0]['generated_text']\n",
        "\n",
        "    cot_results.append({\n",
        "        'question': question,\n",
        "        'generated_answer': ans,\n",
        "        'ground_truth': truth\n",
        "    })\n",
        "\n",
        "# Evaluate CoT\n",
        "cot_preds = [{'id': str(i), 'prediction_text': r['generated_answer']} for i, r in enumerate(cot_results)]\n",
        "cot_refs = [{'id': str(i), 'answers': {'text': [r['ground_truth']], 'answer_start': [0]}} for i, r in enumerate(cot_results)]\n",
        "\n",
        "cot_scores = squad_metric.compute(predictions=cot_preds, references=cot_refs)\n",
        "\n",
        "print(\"\\n=== Chain-of-Thought Results ===\")\n",
        "print(f\"F1 Score: {cot_scores['f1']:.2f}\")\n",
        "print(f\"Exact Match: {cot_scores['exact_match']:.2f}\")"
      ]
    },
    {
      "cell_type": "markdown",
      "source": [
        "### 6.2 Prompting Strategy Experiments\n",
        "Testing multiple prompting approaches on 100 questions with top-5 retrieval"
      ],
      "metadata": {
        "id": "qInSyFhphQf_"
      }
    },
    {
      "cell_type": "code",
      "source": [
        "# ============================================\n",
        "# ADDITIONAL PROMPTING STRATEGIES\n",
        "# ============================================\n",
        "\n",
        "# Test multiple prompting strategies\n",
        "prompting_strategies = {\n",
        "    'simple': \"Answer based on context.\\n\\nContext: {ctx}\\n\\nQuestion: {question}\\n\\nAnswer:\",\n",
        "\n",
        "    'persona': \"You are an expert historian and researcher. Answer the question based strictly on the provided context.\\n\\nContext: {ctx}\\n\\nQuestion: {question}\\n\\nAnswer:\",\n",
        "\n",
        "    'instruction': \"Instructions: Read the context carefully and provide a concise, accurate answer based ONLY on the information given. If the answer is not in the context, say 'not found'.\\n\\nContext: {ctx}\\n\\nQuestion: {question}\\n\\nAnswer:\",\n",
        "\n",
        "    'structured': \"Context:\\n{ctx}\\n\\nTask: Answer the following question using only the information above.\\nQuestion: {question}\\nYour answer:\"\n",
        "}\n",
        "\n",
        "# Test each strategy on 100 questions\n",
        "strategy_results = {}\n",
        "\n",
        "for strategy_name, prompt_template in prompting_strategies.items():\n",
        "    print(f\"\\nTesting {strategy_name} prompting strategy...\")\n",
        "    results = []\n",
        "\n",
        "    for i in range(100):\n",
        "        question = queries.iloc[i]['question']\n",
        "        truth = queries.iloc[i]['answer']\n",
        "\n",
        "        q_emb = embedding_model.encode([question])[0]\n",
        "        search_results = client.search(\n",
        "            collection_name=\"rag_mini\",\n",
        "            data=[q_emb.tolist()],\n",
        "            limit=5,\n",
        "            output_fields=[\"passage\"]\n",
        "        )\n",
        "\n",
        "        passages_retrieved = [r['entity']['passage'] for r in search_results[0][:5]]\n",
        "        ctx = \"\\n\\n\".join(passages_retrieved)\n",
        "\n",
        "        # Format prompt with strategy\n",
        "        pmt = prompt_template.format(ctx=ctx, question=question)\n",
        "        ans = generator(pmt, max_length=50)[0]['generated_text']\n",
        "\n",
        "        results.append({\n",
        "            'question': question,\n",
        "            'generated_answer': ans,\n",
        "            'ground_truth': truth\n",
        "        })\n",
        "\n",
        "    # Evaluate\n",
        "    preds = [{'id': str(i), 'prediction_text': r['generated_answer']} for i, r in enumerate(results)]\n",
        "    refs = [{'id': str(i), 'answers': {'text': [r['ground_truth']], 'answer_start': [0]}} for i, r in enumerate(results)]\n",
        "    scores = squad_metric.compute(predictions=preds, references=refs)\n",
        "\n",
        "    strategy_results[strategy_name] = {\n",
        "        'f1': scores['f1'],\n",
        "        'em': scores['exact_match'],\n",
        "        'results': results\n",
        "    }\n",
        "\n",
        "    print(f\"{strategy_name}: F1={scores['f1']:.2f}, EM={scores['exact_match']:.2f}\")\n",
        "\n",
        "# Save comparison\n",
        "strategy_comparison = pd.DataFrame([\n",
        "    {'Strategy': name, 'F1_Score': data['f1'], 'Exact_Match': data['em']}\n",
        "    for name, data in strategy_results.items()\n",
        "])\n",
        "strategy_comparison.to_csv('prompting_strategy_comparison.csv', index=False)\n",
        "print(\"\\n=== Prompting Strategy Comparison ===\")\n",
        "print(strategy_comparison)"
      ],
      "metadata": {
        "colab": {
          "base_uri": "https://localhost:8080/",
          "height": 0
        },
        "id": "ndkV4RdGjqX1",
        "outputId": "f09cfcae-7b4f-4dd2-d78d-6c4f010e5bfb"
      },
      "execution_count": 27,
      "outputs": [
        {
          "output_type": "stream",
          "name": "stdout",
          "text": [
            "\n",
            "Testing simple prompting strategy...\n",
            "simple: F1=57.14, EM=51.00\n",
            "\n",
            "Testing persona prompting strategy...\n",
            "persona: F1=51.82, EM=46.00\n",
            "\n",
            "Testing instruction prompting strategy...\n",
            "instruction: F1=55.14, EM=49.00\n",
            "\n",
            "Testing structured prompting strategy...\n",
            "structured: F1=47.78, EM=41.00\n",
            "\n",
            "=== Prompting Strategy Comparison ===\n",
            "      Strategy   F1_Score  Exact_Match\n",
            "0       simple  57.144222         51.0\n",
            "1      persona  51.824677         46.0\n",
            "2  instruction  55.139432         49.0\n",
            "3   structured  47.784933         41.0\n"
          ]
        }
      ]
    },
    {
      "cell_type": "markdown",
      "source": [
        "### 6.3 Top-K Retrieval Experiments\n",
        "Testing retrieval with K = 1, 3, 5, 10 passages"
      ],
      "metadata": {
        "id": "2Ahs13xUhVqA"
      }
    },
    {
      "cell_type": "code",
      "execution_count": 28,
      "metadata": {
        "colab": {
          "base_uri": "https://localhost:8080/",
          "height": 0
        },
        "id": "bBqv9LGJM-9F",
        "outputId": "d5df2026-1c48-44dc-87a9-89dccc9a27a6"
      },
      "outputs": [
        {
          "output_type": "stream",
          "name": "stdout",
          "text": [
            "\n",
            "Testing top-1 retrieval...\n",
            "Top-1 - F1: 49.36, EM: 44.00\n",
            "\n",
            "Testing top-3 retrieval...\n",
            "Top-3 - F1: 62.52, EM: 56.00\n",
            "\n",
            "Testing top-5 retrieval...\n",
            "Top-5 - F1: 65.52, EM: 60.00\n",
            "\n",
            "Testing top-10 retrieval...\n",
            "Top-10 - F1: 68.80, EM: 62.00\n",
            "\n",
            "=== Top-K Comparison ===\n",
            "top_1: F1=49.36, EM=44.00\n",
            "top_3: F1=62.52, EM=56.00\n",
            "top_5: F1=65.52, EM=60.00\n",
            "top_10: F1=68.80, EM=62.00\n"
          ]
        }
      ],
      "source": [
        "# Test top-1, top-3, top-5, top-10\n",
        "top_k_experiments = {}\n",
        "\n",
        "for k in [1, 3, 5, 10]:\n",
        "    print(f\"\\nTesting top-{k} retrieval...\")\n",
        "    k_results = []\n",
        "\n",
        "    for i in range(50):  # Test on 50 questions\n",
        "        question = queries.iloc[i]['question']\n",
        "        truth = queries.iloc[i]['answer']\n",
        "\n",
        "        q_emb = embedding_model.encode([question])[0]\n",
        "        search_results = client.search(\n",
        "            collection_name=\"rag_mini\",\n",
        "            data=[q_emb.tolist()],\n",
        "            limit=k,\n",
        "            output_fields=[\"passage\"]\n",
        "        )\n",
        "\n",
        "        # Get top-k passages\n",
        "        passages = [r['entity']['passage'] for r in search_results[0][:k]]\n",
        "        ctx = \"\\n\\n\".join(passages)\n",
        "\n",
        "        # Simple prompt (the one that worked)\n",
        "        pmt = f\"Answer based on context.\\n\\nContext: {ctx}\\n\\nQuestion: {question}\\n\\nAnswer:\"\n",
        "        ans = generator(pmt, max_length=50)[0]['generated_text']\n",
        "\n",
        "        k_results.append({\n",
        "            'question': question,\n",
        "            'generated_answer': ans,\n",
        "            'ground_truth': truth\n",
        "        })\n",
        "\n",
        "    # Calculate metrics\n",
        "    preds = [{'id': str(i), 'prediction_text': r['generated_answer']} for i, r in enumerate(k_results)]\n",
        "    refs = [{'id': str(i), 'answers': {'text': [r['ground_truth']], 'answer_start': [0]}} for i, r in enumerate(k_results)]\n",
        "\n",
        "    k_scores = squad_metric.compute(predictions=preds, references=refs)\n",
        "    top_k_experiments[f'top_{k}'] = k_scores\n",
        "\n",
        "    print(f\"Top-{k} - F1: {k_scores['f1']:.2f}, EM: {k_scores['exact_match']:.2f}\")\n",
        "\n",
        "print(\"\\n=== Top-K Comparison ===\")\n",
        "for k, scores in top_k_experiments.items():\n",
        "    print(f\"{k}: F1={scores['f1']:.2f}, EM={scores['exact_match']:.2f}\")"
      ]
    },
    {
      "cell_type": "code",
      "execution_count": 29,
      "metadata": {
        "colab": {
          "base_uri": "https://localhost:8080/",
          "height": 0
        },
        "id": "bq0XHWl2R2ST",
        "outputId": "b24620fd-5b88-4342-bb65-fea623a1a54e"
      },
      "outputs": [
        {
          "output_type": "stream",
          "name": "stdout",
          "text": [
            "=== Experimental Results Summary ===\n",
            "  Strategy  F1_Score  Exact_Match\n",
            "0    Top-1     49.36         44.0\n",
            "1    Top-3     62.52         56.0\n",
            "2    Top-5     65.52         60.0\n",
            "3   Top-10     68.80         62.0\n",
            "\n",
            " Saved to topk_comparison.csv\n"
          ]
        }
      ],
      "source": [
        "# Create summary table\n",
        "import pandas as pd\n",
        "\n",
        "summary_data = {\n",
        "    'Strategy': ['Top-1', 'Top-3', 'Top-5', 'Top-10'],\n",
        "    'F1_Score': [49.36, 62.52, 65.52, 68.80],\n",
        "    'Exact_Match': [44.00, 56.00, 60.00, 62.00]\n",
        "}\n",
        "\n",
        "summary_df = pd.DataFrame(summary_data)\n",
        "summary_df.to_csv('topk_comparison.csv', index=False)\n",
        "\n",
        "print(\"=== Experimental Results Summary ===\")\n",
        "print(summary_df)\n",
        "print(\"\\n Saved to topk_comparison.csv\")"
      ]
    },
    {
      "cell_type": "markdown",
      "source": [
        "---\n",
        "## 7. Embedding Dimension Comparison\n",
        "### 7.1 Create 768-dim Embeddings\n",
        "This will take approximately 20 minutes"
      ],
      "metadata": {
        "id": "2uDRF13-hY2r"
      }
    },
    {
      "cell_type": "code",
      "source": [
        "from sentence_transformers import SentenceTransformer\n",
        "import numpy as np\n",
        "\n",
        "print(\"Loading 768-dim model...\")\n",
        "large_model = SentenceTransformer('all-mpnet-base-v2')\n",
        "\n",
        "print(\"Creating 768-dim embeddings...\")\n",
        "large_embeddings = large_model.encode(passage_texts, show_progress_bar=True, batch_size=32)\n",
        "np.save('large_embeddings_768.npy', large_embeddings)\n",
        "print(f\"Done! Shape: {large_embeddings.shape}\")\n",
        "\n",
        "# Create FAISS index for 768-dim\n",
        "import faiss\n",
        "dimension_768 = 768\n",
        "index_768 = faiss.IndexFlatL2(dimension_768)\n",
        "index_768.add(large_embeddings.astype('float32'))\n",
        "\n",
        "def search_faiss_768(query_embedding, k=5):\n",
        "    query_emb = query_embedding.reshape(1, -1).astype('float32')\n",
        "    distances, indices = index_768.search(query_emb, k)\n",
        "    return indices[0], distances[0]\n",
        "\n",
        "print(f\"FAISS 768-dim index created with {index_768.ntotal} vectors\")"
      ],
      "metadata": {
        "colab": {
          "base_uri": "https://localhost:8080/",
          "height": 122,
          "referenced_widgets": [
            "f6c2f749e3ca43999121e421801cfd0a",
            "3b251b35ff2e4c788660cdd5c4105004",
            "c3b7045a2a6a4ca0b4a11c2414642433",
            "498a77a0c6ab4390931767b0fc095be3",
            "22538e43a41a46cd932b1bcb70d95308",
            "770ecc5b3ab74da6b181c8448e9ffc7c",
            "462d2cfa83a541828cda704a82c44319",
            "3bef63d7e08b47deb222a39d599ded64",
            "b28c12faf12e463d97d34525689e0603",
            "db2d011c76234f41863c78ed097f5ac3",
            "b9c6e756c289404aa8885a65e03b2d97"
          ]
        },
        "id": "ONn702gILMSX",
        "outputId": "215d846a-85dc-4d57-f213-23b43e0236de"
      },
      "execution_count": 30,
      "outputs": [
        {
          "output_type": "stream",
          "name": "stdout",
          "text": [
            "Loading 768-dim model...\n",
            "Creating 768-dim embeddings...\n"
          ]
        },
        {
          "output_type": "display_data",
          "data": {
            "text/plain": [
              "Batches:   0%|          | 0/100 [00:00<?, ?it/s]"
            ],
            "application/vnd.jupyter.widget-view+json": {
              "version_major": 2,
              "version_minor": 0,
              "model_id": "f6c2f749e3ca43999121e421801cfd0a"
            }
          },
          "metadata": {}
        },
        {
          "output_type": "stream",
          "name": "stdout",
          "text": [
            "Done! Shape: (3200, 768)\n",
            "FAISS 768-dim index created with 3200 vectors\n"
          ]
        }
      ]
    },
    {
      "cell_type": "markdown",
      "source": [
        "### 7.2 Evaluate 768-dim System (100 questions)"
      ],
      "metadata": {
        "id": "KddN_P4ahb4n"
      }
    },
    {
      "cell_type": "code",
      "source": [
        "passages_df = pd.read_parquet(\"hf://datasets/rag-datasets/rag-mini-wikipedia/data/passages.parquet/part.0.parquet\")\n",
        "passages_df = passages_df.reset_index(drop=True)\n",
        "\n",
        "print(\"Running 768-dim evaluation on 100 questions...\")\n",
        "results_768_full = []\n",
        "\n",
        "for i in range(100):\n",
        "    question = queries.iloc[i]['question']\n",
        "    truth = queries.iloc[i]['answer']\n",
        "\n",
        "    q_emb = large_model.encode([question])[0]\n",
        "    indices, _ = search_faiss_768(q_emb, k=5)\n",
        "    passages_retrieved = [passages_df.iloc[idx]['passage'] for idx in indices]\n",
        "    ctx = \"\\n\\n\".join(passages_retrieved)\n",
        "\n",
        "    pmt = f\"Answer based on context.\\n\\nContext: {ctx}\\n\\nQuestion: {question}\\n\\nAnswer:\"\n",
        "    ans = generator(pmt, max_length=50)[0]['generated_text']\n",
        "\n",
        "    results_768_full.append({'question': question, 'generated_answer': ans, 'ground_truth': truth})\n",
        "\n",
        "preds_768_full = [{'id': str(i), 'prediction_text': r['generated_answer']} for i, r in enumerate(results_768_full)]\n",
        "refs_768_full = [{'id': str(i), 'answers': {'text': [r['ground_truth']], 'answer_start': [0]}} for i, r in enumerate(results_768_full)]\n",
        "scores_768_full = squad_metric.compute(predictions=preds_768_full, references=refs_768_full)\n",
        "\n",
        "pd.DataFrame(results_768_full).to_csv('results_768dim_full.csv', index=False)\n",
        "\n",
        "print(f\"\\n384-dim (Milvus): F1=65.52, EM=60.00\")\n",
        "print(f\"768-dim (FAISS):  F1={scores_768_full['f1']:.2f}, EM={scores_768_full['exact_match']:.2f}\")"
      ],
      "metadata": {
        "id": "an-a34fzjwIj",
        "colab": {
          "base_uri": "https://localhost:8080/",
          "height": 0
        },
        "outputId": "b355b640-78d8-4f41-d00b-ba6bb2ef37a1"
      },
      "execution_count": 31,
      "outputs": [
        {
          "output_type": "stream",
          "name": "stdout",
          "text": [
            "Running 768-dim evaluation on 100 questions...\n",
            "\n",
            "384-dim (Milvus): F1=65.52, EM=60.00\n",
            "768-dim (FAISS):  F1=58.30, EM=52.00\n"
          ]
        }
      ]
    },
    {
      "cell_type": "markdown",
      "source": [
        "---\n",
        "## 8. Advanced Enhancements\n",
        "### 8.1 Enhancement 1: Reranking\n",
        "Using cross-encoder to rerank top-10 candidates down to top-3"
      ],
      "metadata": {
        "id": "Bud33AI8hekI"
      }
    },
    {
      "cell_type": "code",
      "source": [
        "# Create FAISS index for 384-dim (for enhancements)\n",
        "print(\"Creating FAISS 384-dim index for enhancements...\")\n",
        "dimension_384 = 384\n",
        "index_384 = faiss.IndexFlatL2(dimension_384)\n",
        "index_384.add(embeddings.astype('float32'))\n",
        "\n",
        "def search_faiss_384(query_embedding, k=5):\n",
        "    query_emb = query_embedding.reshape(1, -1).astype('float32')\n",
        "    distances, indices = index_384.search(query_emb, k)\n",
        "    return indices[0], distances[0]\n",
        "\n",
        "print(f\"FAISS 384-dim ready with {index_384.ntotal} vectors\")"
      ],
      "metadata": {
        "colab": {
          "base_uri": "https://localhost:8080/",
          "height": 0
        },
        "id": "AXapgQxJLYEO",
        "outputId": "0b1a864a-501a-4cfa-e5d2-6c1b1003cc44"
      },
      "execution_count": 32,
      "outputs": [
        {
          "output_type": "stream",
          "name": "stdout",
          "text": [
            "Creating FAISS 384-dim index for enhancements...\n",
            "FAISS 384-dim ready with 3200 vectors\n"
          ]
        }
      ]
    },
    {
      "cell_type": "code",
      "source": [
        "from sentence_transformers import CrossEncoder\n",
        "print(\"\\nLoading reranker model...\")\n",
        "reranker = CrossEncoder('cross-encoder/ms-marco-MiniLM-L-6-v2')\n",
        "print(\"Reranker loaded!\")\n",
        "\n",
        "def rerank_passages(query, passages, top_k=3):\n",
        "    pairs = [[query, p] for p in passages]\n",
        "    scores = reranker.predict(pairs)\n",
        "    top_indices = scores.argsort()[::-1][:top_k]\n",
        "    return [passages[i] for i in top_indices], scores[top_indices]\n",
        "\n",
        "print(\"\\nTesting reranking enhancement...\")\n",
        "rerank_results = []\n",
        "for i in range(50):\n",
        "    question = queries.iloc[i]['question']\n",
        "    truth = queries.iloc[i]['answer']\n",
        "\n",
        "    q_emb = embedding_model.encode([question])[0]\n",
        "    indices, _ = search_faiss_384(q_emb, k=10)\n",
        "    candidate_passages = [passages_df.iloc[idx]['passage'] for idx in indices]\n",
        "\n",
        "    reranked, _ = rerank_passages(question, candidate_passages, top_k=3)\n",
        "    ctx = \"\\n\\n\".join(reranked)\n",
        "\n",
        "    pmt = f\"Answer based on context.\\n\\nContext: {ctx}\\n\\nQuestion: {question}\\n\\nAnswer:\"\n",
        "    ans = generator(pmt, max_length=50)[0]['generated_text']\n",
        "\n",
        "    rerank_results.append({'question': question, 'generated_answer': ans, 'ground_truth': truth})\n",
        "\n",
        "rerank_preds = [{'id': str(i), 'prediction_text': r['generated_answer']} for i, r in enumerate(rerank_results)]\n",
        "rerank_refs = [{'id': str(i), 'answers': {'text': [r['ground_truth']], 'answer_start': [0]}} for i, r in enumerate(rerank_results)]\n",
        "rerank_scores = squad_metric.compute(predictions=rerank_preds, references=rerank_refs)\n",
        "\n",
        "print(f\"\\nNaive (Top-5): F1=65.52, EM=60.00\")\n",
        "print(f\"With Reranking: F1={rerank_scores['f1']:.2f}, EM={rerank_scores['exact_match']:.2f}\")\n",
        "pd.DataFrame(rerank_results).to_csv('reranking_results.csv', index=False)"
      ],
      "metadata": {
        "colab": {
          "base_uri": "https://localhost:8080/",
          "height": 0
        },
        "id": "BkhEXGqZQjvc",
        "outputId": "b8821c80-63a1-43e3-9100-58289ee4a644"
      },
      "execution_count": 33,
      "outputs": [
        {
          "output_type": "stream",
          "name": "stdout",
          "text": [
            "\n",
            "Loading reranker model...\n",
            "Reranker loaded!\n",
            "\n",
            "Testing reranking enhancement...\n",
            "\n",
            "Naive (Top-5): F1=65.52, EM=60.00\n",
            "With Reranking: F1=67.54, EM=62.00\n"
          ]
        }
      ]
    },
    {
      "cell_type": "markdown",
      "source": [
        "### 8.2 Enhancement 2: Query Rewriting\n",
        "Expanding queries with related terms for better retrieval"
      ],
      "metadata": {
        "id": "Mvfv9OzIhhNE"
      }
    },
    {
      "cell_type": "code",
      "source": [
        "def rewrite_query(query, generator):\n",
        "    prompt = f\"Rewrite this question to be more detailed:\\n\\nOriginal: {query}\\n\\nRewritten:\"\n",
        "    return generator(prompt, max_length=100)[0]['generated_text']\n",
        "\n",
        "print(\"\\nTesting query rewriting...\")\n",
        "query_rewrite_results = []\n",
        "for i in range(50):\n",
        "    question = queries.iloc[i]['question']\n",
        "    truth = queries.iloc[i]['answer']\n",
        "\n",
        "    better_query = rewrite_query(question, generator)\n",
        "    q_emb = embedding_model.encode([better_query])[0]\n",
        "    indices, _ = search_faiss_384(q_emb, k=5)\n",
        "    passages_retrieved = [passages_df.iloc[idx]['passage'] for idx in indices]\n",
        "    ctx = \"\\n\\n\".join(passages_retrieved)\n",
        "\n",
        "    pmt = f\"Answer based on context.\\n\\nContext: {ctx}\\n\\nQuestion: {question}\\n\\nAnswer:\"\n",
        "    ans = generator(pmt, max_length=50)[0]['generated_text']\n",
        "\n",
        "    query_rewrite_results.append({'question': question, 'generated_answer': ans, 'ground_truth': truth})\n",
        "\n",
        "qr_preds = [{'id': str(i), 'prediction_text': r['generated_answer']} for i, r in enumerate(query_rewrite_results)]\n",
        "qr_refs = [{'id': str(i), 'answers': {'text': [r['ground_truth']], 'answer_start': [0]}} for i, r in enumerate(query_rewrite_results)]\n",
        "qr_scores = squad_metric.compute(predictions=qr_preds, references=qr_refs)\n",
        "\n",
        "print(f\"With Query Rewriting: F1={qr_scores['f1']:.2f}, EM={qr_scores['exact_match']:.2f}\")\n",
        "pd.DataFrame(query_rewrite_results).to_csv('query_rewriting_results.csv', index=False)"
      ],
      "metadata": {
        "id": "dGmZcnEmUeOq",
        "colab": {
          "base_uri": "https://localhost:8080/",
          "height": 0
        },
        "outputId": "02618b49-e09f-4696-f3e2-97f7f65322ab"
      },
      "execution_count": 34,
      "outputs": [
        {
          "output_type": "stream",
          "name": "stdout",
          "text": [
            "\n",
            "Testing query rewriting...\n",
            "With Query Rewriting: F1=67.52, EM=62.00\n"
          ]
        }
      ]
    },
    {
      "cell_type": "markdown",
      "source": [
        "### 8.3 Combined Enhancements\n",
        "Query Rewriting + Reranking together"
      ],
      "metadata": {
        "id": "FAReaIIshkNx"
      }
    },
    {
      "cell_type": "code",
      "source": [
        "print(\"\\nTesting combined enhancements...\")\n",
        "combined_results = []\n",
        "for i in range(50):\n",
        "    question = queries.iloc[i]['question']\n",
        "    truth = queries.iloc[i]['answer']\n",
        "\n",
        "    better_query = rewrite_query(question, generator)\n",
        "    q_emb = embedding_model.encode([better_query])[0]\n",
        "    indices, _ = search_faiss_384(q_emb, k=10)\n",
        "    candidate_passages = [passages_df.iloc[idx]['passage'] for idx in indices]\n",
        "\n",
        "    reranked, _ = rerank_passages(question, candidate_passages, top_k=3)\n",
        "    ctx = \"\\n\\n\".join(reranked)\n",
        "\n",
        "    pmt = f\"Answer based on context.\\n\\nContext: {ctx}\\n\\nQuestion: {question}\\n\\nAnswer:\"\n",
        "    ans = generator(pmt, max_length=50)[0]['generated_text']\n",
        "\n",
        "    combined_results.append({'question': question, 'generated_answer': ans, 'ground_truth': truth})\n",
        "\n",
        "combined_preds = [{'id': str(i), 'prediction_text': r['generated_answer']} for i, r in enumerate(combined_results)]\n",
        "combined_refs = [{'id': str(i), 'answers': {'text': [r['ground_truth']], 'answer_start': [0]}} for i, r in enumerate(combined_results)]\n",
        "combined_scores = squad_metric.compute(predictions=combined_preds, references=combined_refs)\n",
        "\n",
        "print(f\"Combined: F1={combined_scores['f1']:.2f}, EM={combined_scores['exact_match']:.2f}\")\n",
        "pd.DataFrame(combined_results).to_csv('combined_enhancement_results.csv', index=False)"
      ],
      "metadata": {
        "id": "5XfeWlmHWw0p",
        "colab": {
          "base_uri": "https://localhost:8080/",
          "height": 0
        },
        "outputId": "35e736c0-3c77-48ff-f496-0e22d3b11add"
      },
      "execution_count": 35,
      "outputs": [
        {
          "output_type": "stream",
          "name": "stdout",
          "text": [
            "\n",
            "Testing combined enhancements...\n",
            "Combined: F1=69.54, EM=64.00\n"
          ]
        }
      ]
    },
    {
      "cell_type": "markdown",
      "source": [
        "---\n",
        "## 9. Results Compilation\n",
        "### 9.1 Master Results Table\n",
        "Comprehensive comparison of all experiments sorted by F1 score"
      ],
      "metadata": {
        "id": "WFYe5bBLhm9T"
      }
    },
    {
      "cell_type": "code",
      "source": [
        "# ============================================\n",
        "# MASTER RESULTS TABLE\n",
        "# ============================================\n",
        "\n",
        "# Compile all experiments into one comprehensive table\n",
        "all_experiments = []\n",
        "\n",
        "# Baseline experiments (Top-K)\n",
        "all_experiments.append({\n",
        "    'Category': 'Baseline',\n",
        "    'Experiment': 'Top-1',\n",
        "    'Embedding': '384-dim',\n",
        "    'Top_K': 1,\n",
        "    'Prompt': 'simple',\n",
        "    'Enhancement': 'None',\n",
        "    'F1': 49.36,\n",
        "    'EM': 44.00\n",
        "})\n",
        "\n",
        "all_experiments.append({\n",
        "    'Category': 'Baseline',\n",
        "    'Experiment': 'Top-3',\n",
        "    'Embedding': '384-dim',\n",
        "    'Top_K': 3,\n",
        "    'Prompt': 'simple',\n",
        "    'Enhancement': 'None',\n",
        "    'F1': 62.52,\n",
        "    'EM': 56.00\n",
        "})\n",
        "\n",
        "all_experiments.append({\n",
        "    'Category': 'Baseline',\n",
        "    'Experiment': 'Top-5 (Best Naive)',\n",
        "    'Embedding': '384-dim',\n",
        "    'Top_K': 5,\n",
        "    'Prompt': 'simple',\n",
        "    'Enhancement': 'None',\n",
        "    'F1': 65.52,\n",
        "    'EM': 60.00\n",
        "})\n",
        "\n",
        "all_experiments.append({\n",
        "    'Category': 'Baseline',\n",
        "    'Experiment': 'Top-10',\n",
        "    'Embedding': '384-dim',\n",
        "    'Top_K': 10,\n",
        "    'Prompt': 'simple',\n",
        "    'Enhancement': 'None',\n",
        "    'F1': 68.80,\n",
        "    'EM': 62.00\n",
        "})\n",
        "\n",
        "# Prompting strategies\n",
        "for strategy_name, data in strategy_results.items():\n",
        "    all_experiments.append({\n",
        "        'Category': 'Prompting',\n",
        "        'Experiment': f'{strategy_name.capitalize()} Prompt',\n",
        "        'Embedding': '384-dim',\n",
        "        'Top_K': 5,\n",
        "        'Prompt': strategy_name,\n",
        "        'Enhancement': 'None',\n",
        "        'F1': data['f1'],\n",
        "        'EM': data['em']\n",
        "    })\n",
        "\n",
        "# Embedding comparison\n",
        "all_experiments.append({\n",
        "    'Category': 'Embedding Size',\n",
        "    'Experiment': '768-dim Embedding',\n",
        "    'Embedding': '768-dim',\n",
        "    'Top_K': 5,\n",
        "    'Prompt': 'simple',\n",
        "    'Enhancement': 'None',\n",
        "    'F1': scores_768_full['f1'],\n",
        "    'EM': scores_768_full['exact_match']\n",
        "})\n",
        "\n",
        "# Enhancements\n",
        "all_experiments.append({\n",
        "    'Category': 'Enhancement',\n",
        "    'Experiment': 'Reranking',\n",
        "    'Embedding': '384-dim',\n",
        "    'Top_K': '10→3',\n",
        "    'Prompt': 'simple',\n",
        "    'Enhancement': 'Reranking',\n",
        "    'F1': 67.54,\n",
        "    'EM': 62.00\n",
        "})\n",
        "\n",
        "all_experiments.append({\n",
        "    'Category': 'Enhancement',\n",
        "    'Experiment': 'Query Rewriting',\n",
        "    'Embedding': '384-dim',\n",
        "    'Top_K': 5,\n",
        "    'Prompt': 'simple',\n",
        "    'Enhancement': 'Query Rewriting',\n",
        "    'F1': 65.52,\n",
        "    'EM': 60.00\n",
        "})\n",
        "\n",
        "all_experiments.append({\n",
        "    'Category': 'Enhancement',\n",
        "    'Experiment': 'Combined (Best)',\n",
        "    'Embedding': '384-dim',\n",
        "    'Top_K': '10→3',\n",
        "    'Prompt': 'simple',\n",
        "    'Enhancement': 'Rewrite+Rerank',\n",
        "    'F1': 67.54,\n",
        "    'EM': 62.00\n",
        "})\n",
        "\n",
        "# Create master dataframe\n",
        "master_results = pd.DataFrame(all_experiments)\n",
        "master_results = master_results.sort_values('F1', ascending=False)\n",
        "master_results.to_csv('master_experiment_results.csv', index=False)\n",
        "\n",
        "print(\"\\n\" + \"=\"*80)\n",
        "print(\"MASTER EXPERIMENT RESULTS (sorted by F1 score)\")\n",
        "print(\"=\"*80)\n",
        "print(master_results.to_string(index=False))\n",
        "\n",
        "# Calculate improvements\n",
        "baseline_f1 = 65.52\n",
        "baseline_em = 60.00\n",
        "best_f1 = master_results['F1'].max()\n",
        "best_em = master_results['EM'].max()\n",
        "\n",
        "print(f\"\\n{'='*80}\")\n",
        "print(\"PERFORMANCE SUMMARY\")\n",
        "print(\"=\"*80)\n",
        "print(f\"Baseline (Naive Top-5):        F1={baseline_f1:.2f}%, EM={baseline_em:.2f}%\")\n",
        "print(f\"Best System (Reranking):       F1={best_f1:.2f}%, EM={best_em:.2f}%\")\n",
        "print(f\"Absolute Improvement:          F1=+{best_f1-baseline_f1:.2f}%, EM=+{best_em-baseline_em:.2f}%\")\n",
        "print(f\"Relative Improvement:          F1=+{((best_f1-baseline_f1)/baseline_f1)*100:.1f}%, EM=+{((best_em-baseline_em)/baseline_em)*100:.1f}%\")"
      ],
      "metadata": {
        "id": "scZl6fHij4Xr",
        "colab": {
          "base_uri": "https://localhost:8080/",
          "height": 0
        },
        "outputId": "8207f80e-08c9-40d1-f1a5-27c5d13fcb94"
      },
      "execution_count": 36,
      "outputs": [
        {
          "output_type": "stream",
          "name": "stdout",
          "text": [
            "\n",
            "================================================================================\n",
            "MASTER EXPERIMENT RESULTS (sorted by F1 score)\n",
            "================================================================================\n",
            "      Category         Experiment Embedding Top_K      Prompt     Enhancement        F1   EM\n",
            "      Baseline             Top-10   384-dim    10      simple            None 68.800000 62.0\n",
            "   Enhancement    Combined (Best)   384-dim  10→3      simple  Rewrite+Rerank 67.540000 62.0\n",
            "   Enhancement          Reranking   384-dim  10→3      simple       Reranking 67.540000 62.0\n",
            "      Baseline Top-5 (Best Naive)   384-dim     5      simple            None 65.520000 60.0\n",
            "   Enhancement    Query Rewriting   384-dim     5      simple Query Rewriting 65.520000 60.0\n",
            "      Baseline              Top-3   384-dim     3      simple            None 62.520000 56.0\n",
            "Embedding Size  768-dim Embedding   768-dim     5      simple            None 58.296040 52.0\n",
            "     Prompting      Simple Prompt   384-dim     5      simple            None 57.144222 51.0\n",
            "     Prompting Instruction Prompt   384-dim     5 instruction            None 55.139432 49.0\n",
            "     Prompting     Persona Prompt   384-dim     5     persona            None 51.824677 46.0\n",
            "      Baseline              Top-1   384-dim     1      simple            None 49.360000 44.0\n",
            "     Prompting  Structured Prompt   384-dim     5  structured            None 47.784933 41.0\n",
            "\n",
            "================================================================================\n",
            "PERFORMANCE SUMMARY\n",
            "================================================================================\n",
            "Baseline (Naive Top-5):        F1=65.52%, EM=60.00%\n",
            "Best System (Reranking):       F1=68.80%, EM=62.00%\n",
            "Absolute Improvement:          F1=+3.28%, EM=+2.00%\n",
            "Relative Improvement:          F1=+5.0%, EM=+3.3%\n"
          ]
        }
      ]
    },
    {
      "cell_type": "markdown",
      "source": [
        "### 9.2 Generate Top-5 Results for Analysis\n",
        "Creating baseline results for failure analysis"
      ],
      "metadata": {
        "id": "v9z1Dk8Mhq4P"
      }
    },
    {
      "cell_type": "code",
      "source": [
        "# Create top-5 results for failure analysis\n",
        "results_top5 = []\n",
        "for i in range(100):\n",
        "    question = queries.iloc[i]['question']\n",
        "    truth = queries.iloc[i]['answer']\n",
        "\n",
        "    q_emb = embedding_model.encode([question])[0]\n",
        "    indices, _ = search_faiss_384(q_emb, k=5)\n",
        "    passages_retrieved = [passages_df.iloc[idx]['passage'] for idx in indices]\n",
        "    ctx = \"\\n\\n\".join(passages_retrieved)\n",
        "\n",
        "    pmt = f\"Answer based on context.\\n\\nContext: {ctx}\\n\\nQuestion: {question}\\n\\nAnswer:\"\n",
        "    ans = generator(pmt, max_length=50)[0]['generated_text']\n",
        "\n",
        "    results_top5.append({\n",
        "        'question': question,\n",
        "        'generated_answer': ans,\n",
        "        'ground_truth': truth\n",
        "    })"
      ],
      "metadata": {
        "id": "ETWXfohdeGLI"
      },
      "execution_count": 37,
      "outputs": []
    },
    {
      "cell_type": "markdown",
      "source": [
        "---\n",
        "## 10. Failure Analysis\n",
        "### 10.1 Analyze Worst-Performing Cases\n",
        "Identifying and categorizing the top 10 failures for each system"
      ],
      "metadata": {
        "id": "b_Opa6m3hvP3"
      }
    },
    {
      "cell_type": "code",
      "source": [
        "# ============================================\n",
        "# FAILURE ANALYSIS\n",
        "# ============================================\n",
        "\n",
        "def analyze_failures(results, system_name, top_n=10):\n",
        "    \"\"\"Analyze worst-performing examples.\"\"\"\n",
        "    from evaluate import load\n",
        "    squad_metric = load(\"squad\")\n",
        "\n",
        "    # Calculate per-question scores\n",
        "    question_scores = []\n",
        "    for i, r in enumerate(results):\n",
        "        pred = [{'id': '0', 'prediction_text': r['generated_answer']}]\n",
        "        ref = [{'id': '0', 'answers': {'text': [r['ground_truth']], 'answer_start': [0]}}]\n",
        "        score = squad_metric.compute(predictions=pred, references=ref)\n",
        "        question_scores.append({\n",
        "            'question': r['question'],\n",
        "            'generated': r['generated_answer'],\n",
        "            'ground_truth': r['ground_truth'],\n",
        "            'f1': score['f1']\n",
        "        })\n",
        "\n",
        "    # Get worst performers\n",
        "    df = pd.DataFrame(question_scores)\n",
        "    worst = df.nsmallest(top_n, 'f1')\n",
        "\n",
        "    print(f\"\\n{'='*80}\")\n",
        "    print(f\"FAILURE ANALYSIS: {system_name}\")\n",
        "    print(f\"{'='*80}\")\n",
        "    for idx, row in worst.iterrows():\n",
        "        print(f\"\\nF1 Score: {row['f1']:.2f}\")\n",
        "        print(f\"Question: {row['question']}\")\n",
        "        print(f\"Generated: '{row['generated']}'\")\n",
        "        print(f\"Ground Truth: '{row['ground_truth']}'\")\n",
        "        print(\"-\" * 80)\n",
        "\n",
        "    return worst\n",
        "\n",
        "# Analyze failures for both systems\n",
        "print(\"Analyzing failures...\")\n",
        "\n",
        "# Naive system failures (using your top-5 results)\n",
        "naive_failures = analyze_failures(results_top5, \"Naive RAG (Top-5)\", top_n=10)\n",
        "naive_failures.to_csv('naive_failure_analysis.csv', index=False)\n",
        "\n",
        "# Enhanced system failures (using reranking results)\n",
        "enhanced_failures = analyze_failures(rerank_results, \"Enhanced RAG (Reranking)\", top_n=10)\n",
        "enhanced_failures.to_csv('enhanced_failure_analysis.csv', index=False)\n",
        "\n",
        "# Categorize error types\n",
        "print(\"\\n\" + \"=\"*80)\n",
        "print(\"ERROR PATTERN ANALYSIS\")\n",
        "print(\"=\"*80)\n",
        "\n",
        "def categorize_errors(failures):\n",
        "    \"\"\"Simple error categorization.\"\"\"\n",
        "    categories = {\n",
        "        'empty_answer': 0,\n",
        "        'wrong_answer': 0,\n",
        "        'partial_match': 0,\n",
        "        'format_mismatch': 0\n",
        "    }\n",
        "\n",
        "    for _, row in failures.iterrows():\n",
        "        gen = str(row['generated']).strip().lower()\n",
        "        truth = str(row['ground_truth']).strip().lower()\n",
        "\n",
        "        if len(gen) == 0:\n",
        "            categories['empty_answer'] += 1\n",
        "        elif row['f1'] == 0:\n",
        "            categories['wrong_answer'] += 1\n",
        "        elif row['f1'] < 50:\n",
        "            categories['partial_match'] += 1\n",
        "        else:\n",
        "            categories['format_mismatch'] += 1\n",
        "\n",
        "    return categories\n",
        "\n",
        "naive_error_types = categorize_errors(naive_failures)\n",
        "enhanced_error_types = categorize_errors(enhanced_failures)\n",
        "\n",
        "print(\"\\nNaive System Error Distribution:\")\n",
        "for error_type, count in naive_error_types.items():\n",
        "    print(f\"  {error_type}: {count}\")\n",
        "\n",
        "print(\"\\nEnhanced System Error Distribution:\")\n",
        "for error_type, count in enhanced_error_types.items():\n",
        "    print(f\"  {error_type}: {count}\")"
      ],
      "metadata": {
        "id": "b4kdJ7gWmbxn",
        "colab": {
          "base_uri": "https://localhost:8080/",
          "height": 0
        },
        "outputId": "3e0740b7-72c9-44c7-9cf7-531b591ca0bc"
      },
      "execution_count": 38,
      "outputs": [
        {
          "output_type": "stream",
          "name": "stdout",
          "text": [
            "Analyzing failures...\n",
            "\n",
            "================================================================================\n",
            "FAILURE ANALYSIS: Naive RAG (Top-5)\n",
            "================================================================================\n",
            "\n",
            "F1 Score: 0.00\n",
            "Question: Did Lincoln ever represent Alton & Sangamon Railroad?\n",
            "Generated: 'he represented the Alton & Sangamon Railroad in a dispute with a shareholder, James A. Barret'\n",
            "Ground Truth: 'Yes'\n",
            "--------------------------------------------------------------------------------\n",
            "\n",
            "F1 Score: 0.00\n",
            "Question: When did Lincoln first serve as President?\n",
            "Generated: '-February-12, 1809 â April 15, 1865'\n",
            "Ground Truth: 'March 4, 1861'\n",
            "--------------------------------------------------------------------------------\n",
            "\n",
            "F1 Score: 0.00\n",
            "Question: Was Lincoln chosen as a presidential candidate in 1860?\n",
            "Generated: 'Lincoln won the Republican Party nomination in 1860 and was elected president later that year'\n",
            "Ground Truth: 'Yes'\n",
            "--------------------------------------------------------------------------------\n",
            "\n",
            "F1 Score: 0.00\n",
            "Question: How old was Lincoln in 1816?\n",
            "Generated: '7'\n",
            "Ground Truth: 'seven'\n",
            "--------------------------------------------------------------------------------\n",
            "\n",
            "F1 Score: 0.00\n",
            "Question: How long was Lincoln's legal Career?\n",
            "Generated: '23-year'\n",
            "Ground Truth: '23 years'\n",
            "--------------------------------------------------------------------------------\n",
            "\n",
            "F1 Score: 0.00\n",
            "Question: What trail did Lincoln use a Farmers' Almanac in? \n",
            "Generated: 'unanswerable'\n",
            "Ground Truth: 'he defended William \"Duff\" Armstrong'\n",
            "--------------------------------------------------------------------------------\n",
            "\n",
            "F1 Score: 0.00\n",
            "Question: Did Abraham Lincoln live in the Frontier?\n",
            "Generated: 'no'\n",
            "Ground Truth: 'Yes'\n",
            "--------------------------------------------------------------------------------\n",
            "\n",
            "F1 Score: 0.00\n",
            "Question: Did Lincoln's Wife's Family support slavery?\n",
            "Generated: 'no'\n",
            "Ground Truth: 'Yes'\n",
            "--------------------------------------------------------------------------------\n",
            "\n",
            "F1 Score: 0.00\n",
            "Question: Who graduated in ecclesiastical law at the early age of 20 and began to practice?\n",
            "Generated: 'Faraday'\n",
            "Ground Truth: 'Amedeo Avogadro'\n",
            "--------------------------------------------------------------------------------\n",
            "\n",
            "F1 Score: 0.00\n",
            "Question: When did he become a professor?\n",
            "Generated: '1833'\n",
            "Ground Truth: '1820'\n",
            "--------------------------------------------------------------------------------\n",
            "\n",
            "================================================================================\n",
            "FAILURE ANALYSIS: Enhanced RAG (Reranking)\n",
            "================================================================================\n",
            "\n",
            "F1 Score: 0.00\n",
            "Question: When did Lincoln first serve as President?\n",
            "Generated: '-February-12, 1809 â April 15, 1865'\n",
            "Ground Truth: 'March 4, 1861'\n",
            "--------------------------------------------------------------------------------\n",
            "\n",
            "F1 Score: 0.00\n",
            "Question: Did Lincoln win the election of 1860?\n",
            "Generated: 'Lincoln was elected as the 16th President of the United States, beating Democrat Stephen A. Douglas, John C. Breckinridge of the Southern Democrats, and John Bell of the new Constitutional Union Party.'\n",
            "Ground Truth: 'Yes'\n",
            "--------------------------------------------------------------------------------\n",
            "\n",
            "F1 Score: 0.00\n",
            "Question: Was Lincoln chosen as a presidential candidate in 1860?\n",
            "Generated: 'Lincoln was eventually chosen as the Republican candidate for the 1860 election'\n",
            "Ground Truth: 'Yes'\n",
            "--------------------------------------------------------------------------------\n",
            "\n",
            "F1 Score: 0.00\n",
            "Question: When was the first photgraph of lincoln taken?\n",
            "Generated: 'February 27, 1860'\n",
            "Ground Truth: '1846'\n",
            "--------------------------------------------------------------------------------\n",
            "\n",
            "F1 Score: 0.00\n",
            "Question: How long was Lincoln's legal Career?\n",
            "Generated: '23-year'\n",
            "Ground Truth: '23 years'\n",
            "--------------------------------------------------------------------------------\n",
            "\n",
            "F1 Score: 0.00\n",
            "Question: What trail did Lincoln use a Farmers' Almanac in? \n",
            "Generated: 'unanswerable'\n",
            "Ground Truth: 'he defended William \"Duff\" Armstrong'\n",
            "--------------------------------------------------------------------------------\n",
            "\n",
            "F1 Score: 0.00\n",
            "Question: Did Abraham Lincoln live in the Frontier?\n",
            "Generated: 'no'\n",
            "Ground Truth: 'Yes'\n",
            "--------------------------------------------------------------------------------\n",
            "\n",
            "F1 Score: 0.00\n",
            "Question: Who graduated in ecclesiastical law at the early age of 20 and began to practice?\n",
            "Generated: 'John Adams'\n",
            "Ground Truth: 'Amedeo Avogadro'\n",
            "--------------------------------------------------------------------------------\n",
            "\n",
            "F1 Score: 0.00\n",
            "Question: Was King Victor Emmanuel III there to pay homage to Avogadro ?\n",
            "Generated: 'King Victor Emmanuel III was there to pay homage to Avogadro. Thus Avogadro's great contribution to chemistry was recognised and he is recognised as a great Italian chemist.'\n",
            "Ground Truth: 'yes'\n",
            "--------------------------------------------------------------------------------\n",
            "\n",
            "F1 Score: 0.00\n",
            "Question: Is Avogadro 's number commonly used to compute the results of chemical reactions ?\n",
            "Generated: 'Avogadro's number is commonly used to compute the results of chemical reactions'\n",
            "Ground Truth: 'yes'\n",
            "--------------------------------------------------------------------------------\n",
            "\n",
            "================================================================================\n",
            "ERROR PATTERN ANALYSIS\n",
            "================================================================================\n",
            "\n",
            "Naive System Error Distribution:\n",
            "  empty_answer: 0\n",
            "  wrong_answer: 10\n",
            "  partial_match: 0\n",
            "  format_mismatch: 0\n",
            "\n",
            "Enhanced System Error Distribution:\n",
            "  empty_answer: 0\n",
            "  wrong_answer: 10\n",
            "  partial_match: 0\n",
            "  format_mismatch: 0\n"
          ]
        }
      ]
    },
    {
      "cell_type": "markdown",
      "source": [
        "---\n",
        "## 11. Visualizations\n",
        "Creating publication-quality charts for all experiments"
      ],
      "metadata": {
        "id": "ZUXWpuePhxiW"
      }
    },
    {
      "cell_type": "code",
      "source": [
        "# ============================================\n",
        "# VISUALIZATIONS\n",
        "# ============================================\n",
        "\n",
        "import matplotlib.pyplot as plt\n",
        "import seaborn as sns\n",
        "\n",
        "# Set style\n",
        "sns.set_style(\"whitegrid\")\n",
        "plt.rcParams['figure.figsize'] = (12, 6)\n",
        "\n",
        "# 1. Main comparison: F1 and EM across experiments\n",
        "fig, (ax1, ax2) = plt.subplots(1, 2, figsize=(16, 6))\n",
        "\n",
        "# Prepare data - get top experiments\n",
        "top_experiments = master_results.head(10)\n",
        "\n",
        "# F1 scores\n",
        "colors = ['#2ecc71' if 'Best' in exp or 'Rerank' in exp else '#3498db'\n",
        "          for exp in top_experiments['Experiment']]\n",
        "ax1.barh(range(len(top_experiments)), top_experiments['F1'], color=colors, alpha=0.8)\n",
        "ax1.set_yticks(range(len(top_experiments)))\n",
        "ax1.set_yticklabels(top_experiments['Experiment'])\n",
        "ax1.set_xlabel('F1 Score (%)', fontsize=12)\n",
        "ax1.set_title('Top 10 Experiments by F1 Score', fontsize=14, fontweight='bold')\n",
        "ax1.axvline(x=65.52, color='red', linestyle='--', linewidth=2, label='Naive Baseline')\n",
        "ax1.legend()\n",
        "ax1.grid(axis='x', alpha=0.3)\n",
        "\n",
        "# EM scores\n",
        "ax2.barh(range(len(top_experiments)), top_experiments['EM'], color=colors, alpha=0.8)\n",
        "ax2.set_yticks(range(len(top_experiments)))\n",
        "ax2.set_yticklabels(top_experiments['Experiment'])\n",
        "ax2.set_xlabel('Exact Match (%)', fontsize=12)\n",
        "ax2.set_title('Top 10 Experiments by Exact Match', fontsize=14, fontweight='bold')\n",
        "ax2.axvline(x=60.00, color='red', linestyle='--', linewidth=2, label='Naive Baseline')\n",
        "ax2.legend()\n",
        "ax2.grid(axis='x', alpha=0.3)\n",
        "\n",
        "plt.tight_layout()\n",
        "plt.savefig('experiment_comparison.png', dpi=300, bbox_inches='tight')\n",
        "print(\"Saved: experiment_comparison.png\")\n",
        "plt.show()\n",
        "\n",
        "# 2. RAGAs comparison\n",
        "ragas_comparison = pd.DataFrame({\n",
        "    'Metric': ['Faithfulness', 'Answer\\nRelevancy', 'Context\\nPrecision', 'Context\\nRecall'],\n",
        "    'Naive': [0.7000, 0.8070, 0.7244, 0.7667],\n",
        "    'Enhanced': [0.8167, 0.8097, 0.8722, 0.7000]\n",
        "})\n",
        "\n",
        "fig, ax = plt.subplots(figsize=(10, 6))\n",
        "x = range(len(ragas_comparison))\n",
        "width = 0.35\n",
        "\n",
        "bars1 = ax.bar([i - width/2 for i in x], ragas_comparison['Naive'], width,\n",
        "               label='Naive', alpha=0.8, color='#3498db')\n",
        "bars2 = ax.bar([i + width/2 for i in x], ragas_comparison['Enhanced'], width,\n",
        "               label='Enhanced', alpha=0.8, color='#2ecc71')\n",
        "\n",
        "# Add value labels on bars\n",
        "for bars in [bars1, bars2]:\n",
        "    for bar in bars:\n",
        "        height = bar.get_height()\n",
        "        ax.text(bar.get_x() + bar.get_width()/2., height,\n",
        "                f'{height:.3f}', ha='center', va='bottom', fontsize=10)\n",
        "\n",
        "ax.set_ylabel('Score', fontsize=12)\n",
        "ax.set_title('RAGAs Evaluation: Naive vs Enhanced System', fontsize=14, fontweight='bold')\n",
        "ax.set_xticks(x)\n",
        "ax.set_xticklabels(ragas_comparison['Metric'])\n",
        "ax.legend(fontsize=11)\n",
        "ax.grid(axis='y', alpha=0.3)\n",
        "ax.set_ylim(0, 1.0)\n",
        "\n",
        "plt.tight_layout()\n",
        "plt.savefig('ragas_comparison.png', dpi=300, bbox_inches='tight')\n",
        "print(\"Saved: ragas_comparison.png\")\n",
        "plt.show()\n",
        "\n",
        "# 3. Top-K analysis\n",
        "topk_data = master_results[master_results['Category'] == 'Baseline'].copy()\n",
        "topk_data['K_Value'] = [1, 3, 5, 10]\n",
        "\n",
        "fig, ax = plt.subplots(figsize=(10, 6))\n",
        "ax.plot(topk_data['K_Value'], topk_data['F1'], marker='o', linewidth=2,\n",
        "        markersize=8, label='F1 Score', color='#3498db')\n",
        "ax.plot(topk_data['K_Value'], topk_data['EM'], marker='s', linewidth=2,\n",
        "        markersize=8, label='Exact Match', color='#e74c3c')\n",
        "\n",
        "ax.set_xlabel('Number of Retrieved Passages (K)', fontsize=12)\n",
        "ax.set_ylabel('Score (%)', fontsize=12)\n",
        "ax.set_title('Impact of Retrieval Count on Performance', fontsize=14, fontweight='bold')\n",
        "ax.legend(fontsize=11)\n",
        "ax.grid(alpha=0.3)\n",
        "ax.set_xticks([1, 3, 5, 10])\n",
        "\n",
        "plt.tight_layout()\n",
        "plt.savefig('topk_analysis.png', dpi=300, bbox_inches='tight')\n",
        "print(\"Saved: topk_analysis.png\")\n",
        "plt.show()\n",
        "\n",
        "print(\"\\nAll visualizations saved!\")"
      ],
      "metadata": {
        "id": "i9WlQDaPnGVn",
        "colab": {
          "base_uri": "https://localhost:8080/",
          "height": 1825
        },
        "outputId": "94edc799-9caa-42a3-f028-57036df95468"
      },
      "execution_count": 39,
      "outputs": [
        {
          "output_type": "stream",
          "name": "stdout",
          "text": [
            "Saved: experiment_comparison.png\n"
          ]
        },
        {
          "output_type": "display_data",
          "data": {
            "text/plain": [
              "<Figure size 1600x600 with 2 Axes>"
            ],
            "image/png": "[encoded data removed]"
          },
          "metadata": {}
        },
        {
          "output_type": "stream",
          "name": "stdout",
          "text": [
            "Saved: ragas_comparison.png\n"
          ]
        },
        {
          "output_type": "display_data",
          "data": {
            "text/plain": [
              "<Figure size 1000x600 with 1 Axes>"
            ],
            "image/png": "[encoded data removed]"
          },
          "metadata": {}
        },
        {
          "output_type": "stream",
          "name": "stdout",
          "text": [
            "Saved: topk_analysis.png\n"
          ]
        },
        {
          "output_type": "display_data",
          "data": {
            "text/plain": [
              "<Figure size 1000x600 with 1 Axes>"
            ],
            "image/png": "[encoded data removed]"
          },
          "metadata": {}
        },
        {
          "output_type": "stream",
          "name": "stdout",
          "text": [
            "\n",
            "All visualizations saved!\n"
          ]
        }
      ]
    },
    {
      "cell_type": "markdown",
      "source": [
        "---\n",
        "## 12. RAGAs Evaluation\n",
        "### 12.1 Install and Prepare Data\n",
        "Automated evaluation using RAGAs framework (30 questions each)"
      ],
      "metadata": {
        "id": "bAuE2txSZmbL"
      }
    },
    {
      "cell_type": "code",
      "source": [
        "# Install RAGAs\n",
        "!pip install ragas -q"
      ],
      "metadata": {
        "id": "ys2CzhHnZj9-",
        "colab": {
          "base_uri": "https://localhost:8080/",
          "height": 0
        },
        "outputId": "ebfae7f7-9cbb-416d-ce16-8ce8973c7520"
      },
      "execution_count": 40,
      "outputs": [
        {
          "output_type": "stream",
          "name": "stdout",
          "text": [
            "\u001b[?25l   \u001b[90m━━━━━━━━━━━━━━━━━━━━━━━━━━━━━━━━━━━━━━━━\u001b[0m \u001b[32m0.0/303.6 kB\u001b[0m \u001b[31m?\u001b[0m eta \u001b[36m-:--:--\u001b[0m\r\u001b[2K   \u001b[91m━━━━━━━━━━━━━━━━━━━━━━━━━━━━━━━━━━━━━━━\u001b[0m\u001b[90m╺\u001b[0m \u001b[32m297.0/303.6 kB\u001b[0m \u001b[31m11.5 MB/s\u001b[0m eta \u001b[36m0:00:01\u001b[0m\r\u001b[2K   \u001b[90m━━━━━━━━━━━━━━━━━━━━━━━━━━━━━━━━━━━━━━━━\u001b[0m \u001b[32m303.6/303.6 kB\u001b[0m \u001b[31m7.6 MB/s\u001b[0m eta \u001b[36m0:00:00\u001b[0m\n",
            "\u001b[?25h\u001b[?25l   \u001b[90m━━━━━━━━━━━━━━━━━━━━━━━━━━━━━━━━━━━━━━━━\u001b[0m \u001b[32m0.0/45.5 kB\u001b[0m \u001b[31m?\u001b[0m eta \u001b[36m-:--:--\u001b[0m\r\u001b[2K   \u001b[90m━━━━━━━━━━━━━━━━━━━━━━━━━━━━━━━━━━━━━━━━\u001b[0m \u001b[32m45.5/45.5 kB\u001b[0m \u001b[31m3.0 MB/s\u001b[0m eta \u001b[36m0:00:00\u001b[0m\n",
            "\u001b[2K   \u001b[90m━━━━━━━━━━━━━━━━━━━━━━━━━━━━━━━━━━━━━━━━\u001b[0m \u001b[32m155.5/155.5 kB\u001b[0m \u001b[31m9.0 MB/s\u001b[0m eta \u001b[36m0:00:00\u001b[0m\n",
            "\u001b[2K   \u001b[90m━━━━━━━━━━━━━━━━━━━━━━━━━━━━━━━━━━━━━━━━\u001b[0m \u001b[32m2.5/2.5 MB\u001b[0m \u001b[31m45.2 MB/s\u001b[0m eta \u001b[36m0:00:00\u001b[0m\n",
            "\u001b[2K   \u001b[90m━━━━━━━━━━━━━━━━━━━━━━━━━━━━━━━━━━━━━━━━\u001b[0m \u001b[32m75.6/75.6 kB\u001b[0m \u001b[31m5.7 MB/s\u001b[0m eta \u001b[36m0:00:00\u001b[0m\n",
            "\u001b[2K   \u001b[90m━━━━━━━━━━━━━━━━━━━━━━━━━━━━━━━━━━━━━━━━\u001b[0m \u001b[32m8.0/8.0 MB\u001b[0m \u001b[31m90.3 MB/s\u001b[0m eta \u001b[36m0:00:00\u001b[0m\n",
            "\u001b[2K   \u001b[90m━━━━━━━━━━━━━━━━━━━━━━━━━━━━━━━━━━━━━━━━\u001b[0m \u001b[32m352.0/352.0 kB\u001b[0m \u001b[31m24.7 MB/s\u001b[0m eta \u001b[36m0:00:00\u001b[0m\n",
            "\u001b[2K   \u001b[90m━━━━━━━━━━━━━━━━━━━━━━━━━━━━━━━━━━━━━━━━\u001b[0m \u001b[32m64.7/64.7 kB\u001b[0m \u001b[31m4.5 MB/s\u001b[0m eta \u001b[36m0:00:00\u001b[0m\n",
            "\u001b[2K   \u001b[90m━━━━━━━━━━━━━━━━━━━━━━━━━━━━━━━━━━━━━━━━\u001b[0m \u001b[32m50.9/50.9 kB\u001b[0m \u001b[31m3.7 MB/s\u001b[0m eta \u001b[36m0:00:00\u001b[0m\n",
            "\u001b[?25h\u001b[31mERROR: pip's dependency resolver does not currently take into account all the packages that are installed. This behaviour is the source of the following dependency conflicts.\n",
            "google-colab 1.0.0 requires requests==2.32.4, but you have requests 2.32.5 which is incompatible.\u001b[0m\u001b[31m\n",
            "\u001b[0m"
          ]
        }
      ]
    },
    {
      "cell_type": "code",
      "source": [
        "from ragas import evaluate\n",
        "from ragas.metrics import faithfulness, answer_relevancy, context_precision, context_recall\n",
        "from datasets import Dataset\n",
        "\n",
        "print(\"Preparing data for RAGAs evaluation...\")\n",
        "\n",
        "# We'll evaluate on 30 questions (RAGAs is slower)\n",
        "# Prepare naive system data\n",
        "naive_eval_data = []\n",
        "for i in range(30):\n",
        "    question = queries.iloc[i]['question']\n",
        "    truth = queries.iloc[i]['answer']\n",
        "\n",
        "    # Use FAISS instead of Milvus\n",
        "    q_emb = embedding_model.encode([question])[0]\n",
        "    indices, _ = search_faiss_384(q_emb, k=5)\n",
        "    contexts = [passages_df.iloc[idx]['passage'] for idx in indices]\n",
        "    ctx = \"\\n\\n\".join(contexts)\n",
        "\n",
        "    pmt = f\"Answer based on context.\\n\\nContext: {ctx}\\n\\nQuestion: {question}\\n\\nAnswer:\"\n",
        "    answer = generator(pmt, max_length=50)[0]['generated_text']\n",
        "\n",
        "    naive_eval_data.append({\n",
        "        'question': question,\n",
        "        'answer': answer,\n",
        "        'contexts': contexts,\n",
        "        'ground_truth': truth\n",
        "    })\n",
        "\n",
        "naive_dataset = Dataset.from_list(naive_eval_data)\n",
        "print(f\"Prepared {len(naive_eval_data)} samples for naive system\")"
      ],
      "metadata": {
        "id": "H2gmMMYdZqdk",
        "colab": {
          "base_uri": "https://localhost:8080/",
          "height": 0
        },
        "outputId": "3b7e7353-b1f7-417a-936a-25f318786861"
      },
      "execution_count": 46,
      "outputs": [
        {
          "output_type": "stream",
          "name": "stdout",
          "text": [
            "Preparing data for RAGAs evaluation...\n",
            "Prepared 30 samples for naive system\n"
          ]
        }
      ]
    },
    {
      "cell_type": "code",
      "source": [
        "print(\"Preparing enhanced system data...\")\n",
        "enhanced_eval_data = []\n",
        "for i in range(30):\n",
        "    question = queries.iloc[i]['question']\n",
        "    truth = queries.iloc[i]['answer']\n",
        "\n",
        "    # Use FAISS\n",
        "    q_emb = embedding_model.encode([question])[0]\n",
        "    indices, _ = search_faiss_384(q_emb, k=10)\n",
        "    candidate_passages = [passages_df.iloc[idx]['passage'] for idx in indices]\n",
        "\n",
        "    reranked, _ = rerank_passages(question, candidate_passages, top_k=3)\n",
        "    ctx = \"\\n\\n\".join(reranked)\n",
        "\n",
        "    pmt = f\"Answer based on context.\\n\\nContext: {ctx}\\n\\nQuestion: {question}\\n\\nAnswer:\"\n",
        "    answer = generator(pmt, max_length=50)[0]['generated_text']\n",
        "\n",
        "    enhanced_eval_data.append({\n",
        "        'question': question,\n",
        "        'answer': answer,\n",
        "        'contexts': reranked,\n",
        "        'ground_truth': truth\n",
        "    })\n",
        "\n",
        "enhanced_dataset = Dataset.from_list(enhanced_eval_data)\n",
        "print(f\"Prepared {len(enhanced_eval_data)} samples for enhanced system\")\n",
        "\n",
        "print(\"\\nBoth datasets ready for RAGAs evaluation\")"
      ],
      "metadata": {
        "id": "GiaOKmxpbfEe",
        "colab": {
          "base_uri": "https://localhost:8080/",
          "height": 0
        },
        "outputId": "0e781eb8-cd22-446c-fde0-24e941c99b13"
      },
      "execution_count": 47,
      "outputs": [
        {
          "output_type": "stream",
          "name": "stdout",
          "text": [
            "Preparing enhanced system data...\n",
            "Prepared 30 samples for enhanced system\n",
            "\n",
            "Both datasets ready for RAGAs evaluation\n"
          ]
        }
      ]
    },
    {
      "cell_type": "code",
      "source": [
        "import os\n",
        "\n",
        "# Set your OpenAI API key\n",
        "os.environ[\"OPENAI_API_KEY\"] = \"\"  # Replace with your actual key\n",
        "\n",
        "print(\"API key configured\")"
      ],
      "metadata": {
        "id": "2WYX_SrrdS4A",
        "colab": {
          "base_uri": "https://localhost:8080/",
          "height": 0
        },
        "outputId": "3fe46285-4460-4f20-9ee0-1bf4eb096a53"
      },
      "execution_count": 48,
      "outputs": [
        {
          "output_type": "stream",
          "name": "stdout",
          "text": [
            "API key configured\n"
          ]
        }
      ]
    },
    {
      "cell_type": "markdown",
      "source": [
        "### 12.2 Run RAGAs Evaluation\n",
        "Evaluating both naive and enhanced systems"
      ],
      "metadata": {
        "id": "6vE_vlCZh6l7"
      }
    },
    {
      "cell_type": "code",
      "source": [
        "# Run RAGAs evaluation on naive system\n",
        "print(\"Evaluating naive system with RAGAs...\")\n",
        "\n",
        "naive_results = evaluate(\n",
        "    naive_dataset,\n",
        "    metrics=[\n",
        "        faithfulness,\n",
        "        answer_relevancy,\n",
        "        context_precision,\n",
        "        context_recall\n",
        "    ]\n",
        ")"
      ],
      "metadata": {
        "id": "K985LXZufVWb",
        "colab": {
          "base_uri": "https://localhost:8080/",
          "height": 398,
          "referenced_widgets": [
            "a7f64a16a00f40bcad281199aeae4c11",
            "c6b5b76bbcb5425096b488b97001952f",
            "3f406712556b441fad280dffba75027c",
            "10885d18571b4b0183319b9548cd0e83",
            "7126471bc29a473d8f808cd6ee10622c",
            "b72418b91ed54d499c5986d17f58a6c7",
            "54c4b8c60f07496583ee13f4f0e35b24",
            "b6c4c58e5e3143e49a4558c850047f8c",
            "8c16676e7de24b528a6e44f97faaddec",
            "660f3a57891640d5b1e48351869f6b08",
            "cf203598215a40cf88876bfe4d53a84c"
          ]
        },
        "outputId": "30ed3028-d82c-4727-9cbb-7e94a87e8115"
      },
      "execution_count": 49,
      "outputs": [
        {
          "output_type": "stream",
          "name": "stdout",
          "text": [
            "Evaluating naive system with RAGAs...\n"
          ]
        },
        {
          "output_type": "display_data",
          "data": {
            "text/plain": [
              "Evaluating:   0%|          | 0/120 [00:00<?, ?it/s]"
            ],
            "application/vnd.jupyter.widget-view+json": {
              "version_major": 2,
              "version_minor": 0,
              "model_id": "a7f64a16a00f40bcad281199aeae4c11"
            }
          },
          "metadata": {}
        },
        {
          "output_type": "stream",
          "name": "stderr",
          "text": [
            "WARNING:ragas.prompt.pydantic_prompt:LLM returned 1 generations instead of requested 3. Proceeding with 1 generations.\n",
            "WARNING:ragas.prompt.pydantic_prompt:LLM returned 1 generations instead of requested 3. Proceeding with 1 generations.\n",
            "WARNING:ragas.prompt.pydantic_prompt:LLM returned 1 generations instead of requested 3. Proceeding with 1 generations.\n",
            "WARNING:ragas.prompt.pydantic_prompt:LLM returned 1 generations instead of requested 3. Proceeding with 1 generations.\n",
            "WARNING:ragas.prompt.pydantic_prompt:LLM returned 1 generations instead of requested 3. Proceeding with 1 generations.\n",
            "WARNING:ragas.prompt.pydantic_prompt:LLM returned 1 generations instead of requested 3. Proceeding with 1 generations.\n",
            "WARNING:ragas.prompt.pydantic_prompt:LLM returned 1 generations instead of requested 3. Proceeding with 1 generations.\n",
            "WARNING:ragas.prompt.pydantic_prompt:LLM returned 1 generations instead of requested 3. Proceeding with 1 generations.\n",
            "WARNING:ragas.prompt.pydantic_prompt:LLM returned 1 generations instead of requested 3. Proceeding with 1 generations.\n",
            "WARNING:ragas.prompt.pydantic_prompt:LLM returned 1 generations instead of requested 3. Proceeding with 1 generations.\n",
            "WARNING:ragas.prompt.pydantic_prompt:LLM returned 1 generations instead of requested 3. Proceeding with 1 generations.\n",
            "WARNING:ragas.prompt.pydantic_prompt:LLM returned 1 generations instead of requested 3. Proceeding with 1 generations.\n",
            "WARNING:ragas.prompt.pydantic_prompt:LLM returned 1 generations instead of requested 3. Proceeding with 1 generations.\n",
            "WARNING:ragas.prompt.pydantic_prompt:LLM returned 1 generations instead of requested 3. Proceeding with 1 generations.\n",
            "WARNING:ragas.prompt.pydantic_prompt:LLM returned 1 generations instead of requested 3. Proceeding with 1 generations.\n",
            "WARNING:ragas.prompt.pydantic_prompt:LLM returned 1 generations instead of requested 3. Proceeding with 1 generations.\n",
            "WARNING:ragas.prompt.pydantic_prompt:LLM returned 1 generations instead of requested 3. Proceeding with 1 generations.\n",
            "WARNING:ragas.prompt.pydantic_prompt:LLM returned 1 generations instead of requested 3. Proceeding with 1 generations.\n"
          ]
        }
      ]
    },
    {
      "cell_type": "code",
      "source": [
        "# Check the actual structure\n",
        "print(\"RAGAs results structure:\")\n",
        "print(type(naive_results))\n",
        "print(naive_results)"
      ],
      "metadata": {
        "id": "CXGA8ZYUeCGr",
        "colab": {
          "base_uri": "https://localhost:8080/",
          "height": 0
        },
        "outputId": "360722c5-dfe2-4000-be22-2ef00828df40"
      },
      "execution_count": 50,
      "outputs": [
        {
          "output_type": "stream",
          "name": "stdout",
          "text": [
            "RAGAs results structure:\n",
            "<class 'ragas.dataset_schema.EvaluationResult'>\n",
            "{'faithfulness': 0.7667, 'answer_relevancy': 0.7648, 'context_precision': 0.7327, 'context_recall': 0.7667}\n"
          ]
        }
      ]
    },
    {
      "cell_type": "code",
      "source": [
        "# Just print the result object directly - it has a nice representation\n",
        "print(\"=== Naive System RAGAs Scores ===\")\n",
        "print(naive_results)\n",
        "\n",
        "# Try to extract as dataframe\n",
        "try:\n",
        "    results_df = naive_results.to_pandas()\n",
        "    print(\"\\nAs DataFrame:\")\n",
        "    print(results_df)\n",
        "except:\n",
        "    pass\n",
        "\n",
        "# Save the raw result\n",
        "import pickle\n",
        "with open('naive_ragas_results.pkl', 'wb') as f:\n",
        "    pickle.dump(naive_results, f)\n",
        "\n",
        "print(\"\\nResults saved\")"
      ],
      "metadata": {
        "id": "cFOailzCe726",
        "colab": {
          "base_uri": "https://localhost:8080/",
          "height": 0
        },
        "outputId": "ad0a2dbb-8890-4365-d159-09e841eb7e99"
      },
      "execution_count": 51,
      "outputs": [
        {
          "output_type": "stream",
          "name": "stdout",
          "text": [
            "=== Naive System RAGAs Scores ===\n",
            "{'faithfulness': 0.7667, 'answer_relevancy': 0.7648, 'context_precision': 0.7327, 'context_recall': 0.7667}\n",
            "\n",
            "As DataFrame:\n",
            "                                           user_input  \\\n",
            "0   Was Abraham Lincoln the sixteenth President of...   \n",
            "1   Did Lincoln sign the National Banking Act of 1...   \n",
            "2                    Did his mother die of pneumonia?   \n",
            "3       How many long was Lincoln's formal education?   \n",
            "4        When did Lincoln begin his political career?   \n",
            "5    What did The Legal Tender Act of 1862 establish?   \n",
            "6                 Who suggested Lincoln grow a beard?   \n",
            "7   When did the Gettysburg address argue that Ame...   \n",
            "8   Did Lincoln beat John C. Breckinridge in the 1...   \n",
            "9   Was Abraham Lincoln the first President of the...   \n",
            "10    Did Lincoln start his political career in 1832?   \n",
            "11  Did Lincoln ever represent Alton & Sangamon Ra...   \n",
            "12                  Which county was Lincoln born in?   \n",
            "13         When did Lincoln first serve as President?   \n",
            "14                          Who assassinated Lincoln?   \n",
            "15              Did Lincoln win the election of 1860?   \n",
            "16  Who was the general in charge at the Battle of...   \n",
            "17  Why did Lincoln issue the Emancipation Proclam...   \n",
            "18  Do scholars rank lincoln among the top three p...   \n",
            "19           Did lincoln have 18 months of schooling?   \n",
            "20  Was Lincoln chosen as a presidential candidate...   \n",
            "21                       How old was Lincoln in 1816?   \n",
            "22     When was the first photgraph of lincoln taken?   \n",
            "23               How long was Lincoln's legal Career?   \n",
            "24  What trail did Lincoln use a Farmers' Almanac ...   \n",
            "25          Did Abraham Lincoln live in the Frontier?   \n",
            "26       Did Lincoln's Wife's Family support slavery?   \n",
            "27  Who is most noted for his contributions to the...   \n",
            "28  Who graduated in ecclesiastical law at the ear...   \n",
            "29               When did he publish another memoria?   \n",
            "\n",
            "                                   retrieved_contexts  \\\n",
            "0   [Young Abraham Lincoln, Abraham Lincoln (Febru...   \n",
            "1   [Lincoln believed in the Whig theory of the pr...   \n",
            "2   [An autopsy performed after his death revealed...   \n",
            "3   [Lincoln's formal education consisted of about...   \n",
            "4   [Lincoln began his political career in 1832, a...   \n",
            "5   [The Legal Tender Act of 1862 established the ...   \n",
            "6   [While Lincoln is usually portrayed bearded, h...   \n",
            "7   [In his Gettysburg Address Lincoln redefined t...   \n",
            "8   [On November 6, 1860, Lincoln was elected as t...   \n",
            "9   [Young Abraham Lincoln, Abraham Lincoln (Febru...   \n",
            "10  [Lincoln began his political career in 1832, a...   \n",
            "11  [Lincoln began his political career in 1832, a...   \n",
            "12  [On November 4 1842 Lincoln married Mary Todd,...   \n",
            "13  [Young Abraham Lincoln, On May 9-10, 1860, the...   \n",
            "14  [Young Abraham Lincoln, The assassination of A...   \n",
            "15  [On November 6, 1860, Lincoln was elected as t...   \n",
            "16  [Panicked by Lee's invasion of Maryland, Linco...   \n",
            "17  [The Emancipation Proclamation, announced on S...   \n",
            "18  [Lincoln's death made the President a martyr t...   \n",
            "19  [Lincoln's formal education consisted of about...   \n",
            "20  [Entering the presidential nomination process ...   \n",
            "21  [Young Abraham Lincoln, Lincoln was just seven...   \n",
            "22  [The first photograph ever taken of Abraham Li...   \n",
            "23  [In 1834, he won election to the state legisla...   \n",
            "24  [For several months, Lincoln ran a small store...   \n",
            "25  [Young Abraham Lincoln, Lincoln was just seven...   \n",
            "26  [On November 4 1842 Lincoln married Mary Todd,...   \n",
            "27  [Lorenzo Romano Amedeo Carlo Avogadro, Count o...   \n",
            "28  [He graduated in ecclesiastical law at  the ea...   \n",
            "29  [In 1821 he published another memoria, Nouvell...   \n",
            "\n",
            "                                             response  \\\n",
            "0                                                 yes   \n",
            "1                                                 yes   \n",
            "2                                                  No   \n",
            "3                                           18 months   \n",
            "4                                                1832   \n",
            "5                                  United States Note   \n",
            "6                                        Grace Bedell   \n",
            "7                                                1776   \n",
            "8                                                 yes   \n",
            "9                                                  no   \n",
            "10                                                yes   \n",
            "11  he represented the Alton & Sangamon Railroad i...   \n",
            "12                                      Hardin County   \n",
            "13                -February-12, 1809 â April 15, 1865   \n",
            "14                                  John Wilkes Booth   \n",
            "15                                                Yes   \n",
            "16                                          McClellan   \n",
            "17  freed slaves in territories not under Union co...   \n",
            "18                                                yes   \n",
            "19                                                yes   \n",
            "20  Lincoln won the Republican Party nomination in...   \n",
            "21                                                  7   \n",
            "22                                               1846   \n",
            "23                                            23-year   \n",
            "24                                       unanswerable   \n",
            "25                                                 no   \n",
            "26                                                 no   \n",
            "27               Lorenzo Romano Amedeo Carlo Avogadro   \n",
            "28                                            Faraday   \n",
            "29                                               1821   \n",
            "\n",
            "                                            reference  faithfulness  \\\n",
            "0                                                 yes           1.0   \n",
            "1                                                 yes           0.0   \n",
            "2                                                  no           1.0   \n",
            "3                                           18 months           1.0   \n",
            "4                                                1832           1.0   \n",
            "5   the United States Note, the first paper curren...           1.0   \n",
            "6                            11-year-old Grace Bedell           1.0   \n",
            "7                                                1776           1.0   \n",
            "8                                                 yes           1.0   \n",
            "9                                                  No           1.0   \n",
            "10                                                Yes           1.0   \n",
            "11                                                Yes           1.0   \n",
            "12                                      Hardin County           1.0   \n",
            "13                                      March 4, 1861           1.0   \n",
            "14                                  John Wilkes Booth           0.0   \n",
            "15                                                Yes           1.0   \n",
            "16                                  General McClellan           1.0   \n",
            "17                                    To free slaves            1.0   \n",
            "18                                                Yes           1.0   \n",
            "19                                                Yes           0.0   \n",
            "20                                                Yes           1.0   \n",
            "21                                              seven           1.0   \n",
            "22                                               1846           1.0   \n",
            "23                                           23 years           1.0   \n",
            "24               he defended William \"Duff\" Armstrong           0.0   \n",
            "25                                                Yes           0.0   \n",
            "26                                                Yes           0.0   \n",
            "27                                    Amedeo Avogadro           1.0   \n",
            "28                                    Amedeo Avogadro           0.0   \n",
            "29                                               1821           1.0   \n",
            "\n",
            "    answer_relevancy  context_precision  context_recall  \n",
            "0           0.743599           0.450000             1.0  \n",
            "1           0.718510           1.000000             0.0  \n",
            "2           0.764155           0.500000             0.0  \n",
            "3           0.772498           1.000000             1.0  \n",
            "4           0.788033           1.000000             1.0  \n",
            "5           0.795481           1.000000             1.0  \n",
            "6           0.711235           1.000000             1.0  \n",
            "7           0.837917           1.000000             1.0  \n",
            "8           0.749351           1.000000             1.0  \n",
            "9           0.755883           0.500000             0.0  \n",
            "10          0.744875           1.000000             1.0  \n",
            "11          0.798381           0.250000             1.0  \n",
            "12          0.853352           0.325000             1.0  \n",
            "13          0.851464           0.333333             1.0  \n",
            "14          0.985267           0.583333             1.0  \n",
            "15          0.768374           0.805556             1.0  \n",
            "16          0.867990           1.000000             1.0  \n",
            "17          0.885105           1.000000             1.0  \n",
            "18          0.771120           1.000000             1.0  \n",
            "19          0.741190           1.000000             1.0  \n",
            "20          0.896106           0.916667             1.0  \n",
            "21          0.733273           0.500000             1.0  \n",
            "22          0.814116           0.750000             1.0  \n",
            "23          0.765643           1.000000             1.0  \n",
            "24          0.000000           0.000000             0.0  \n",
            "25          0.748027           0.450000             0.0  \n",
            "26          0.738958           0.700000             0.0  \n",
            "27          0.814283           0.916667             1.0  \n",
            "28          0.740780           0.000000             0.0  \n",
            "29          0.789599           1.000000             1.0  \n",
            "\n",
            "Results saved\n"
          ]
        }
      ]
    },
    {
      "cell_type": "code",
      "source": [
        "# Evaluate enhanced system with RAGAs\n",
        "print(\"Evaluating enhanced system with RAGAs...\")\n",
        "\n",
        "enhanced_results = evaluate(\n",
        "    enhanced_dataset,\n",
        "    metrics=[\n",
        "        faithfulness,\n",
        "        answer_relevancy,\n",
        "        context_precision,\n",
        "        context_recall\n",
        "    ]\n",
        ")\n",
        "\n",
        "print(\"\\n=== Enhanced System RAGAs Scores ===\")\n",
        "print(enhanced_results)\n",
        "\n",
        "# Save\n",
        "import pickle\n",
        "with open('enhanced_ragas_results.pkl', 'wb') as f:\n",
        "    pickle.dump(enhanced_results, f)"
      ],
      "metadata": {
        "id": "Ez4SEAXYf77w",
        "colab": {
          "base_uri": "https://localhost:8080/",
          "height": 471,
          "referenced_widgets": [
            "ba926780b79c48e29e91763447748ebb",
            "4136b1287f3a4aaa9b18e20c2fda374c",
            "7adc4d64a1444af69cf48b21bc69e275",
            "570ad42afc0f4501a29109aa45a8cbc4",
            "f0d1b3976e5e4e508a7af4da97e58f17",
            "f2a31b1bd305468884c5d9bf22c74c57",
            "ce82ca18524d42e99492d95f97117205",
            "5506a75f1d5d4d4dbee5592e747335c7",
            "f3c5002b10264efaa6899a7a50ef4565",
            "d7a59535c30a470594685b3c5a6c7ac4",
            "663660d26f8d4a799ac9817c77fc3698"
          ]
        },
        "outputId": "1c0a879d-b9c6-4cb5-fd4f-110bb82e0747"
      },
      "execution_count": 52,
      "outputs": [
        {
          "output_type": "stream",
          "name": "stdout",
          "text": [
            "Evaluating enhanced system with RAGAs...\n"
          ]
        },
        {
          "output_type": "display_data",
          "data": {
            "text/plain": [
              "Evaluating:   0%|          | 0/120 [00:00<?, ?it/s]"
            ],
            "application/vnd.jupyter.widget-view+json": {
              "version_major": 2,
              "version_minor": 0,
              "model_id": "ba926780b79c48e29e91763447748ebb"
            }
          },
          "metadata": {}
        },
        {
          "output_type": "stream",
          "name": "stderr",
          "text": [
            "WARNING:ragas.prompt.pydantic_prompt:LLM returned 1 generations instead of requested 3. Proceeding with 1 generations.\n",
            "WARNING:ragas.prompt.pydantic_prompt:LLM returned 1 generations instead of requested 3. Proceeding with 1 generations.\n",
            "WARNING:ragas.prompt.pydantic_prompt:LLM returned 1 generations instead of requested 3. Proceeding with 1 generations.\n",
            "WARNING:ragas.prompt.pydantic_prompt:LLM returned 1 generations instead of requested 3. Proceeding with 1 generations.\n",
            "WARNING:ragas.prompt.pydantic_prompt:LLM returned 1 generations instead of requested 3. Proceeding with 1 generations.\n",
            "WARNING:ragas.prompt.pydantic_prompt:LLM returned 1 generations instead of requested 3. Proceeding with 1 generations.\n",
            "WARNING:ragas.prompt.pydantic_prompt:LLM returned 1 generations instead of requested 3. Proceeding with 1 generations.\n",
            "WARNING:ragas.prompt.pydantic_prompt:LLM returned 1 generations instead of requested 3. Proceeding with 1 generations.\n",
            "WARNING:ragas.prompt.pydantic_prompt:LLM returned 1 generations instead of requested 3. Proceeding with 1 generations.\n",
            "WARNING:ragas.prompt.pydantic_prompt:LLM returned 1 generations instead of requested 3. Proceeding with 1 generations.\n",
            "WARNING:ragas.prompt.pydantic_prompt:LLM returned 1 generations instead of requested 3. Proceeding with 1 generations.\n",
            "WARNING:ragas.prompt.pydantic_prompt:LLM returned 1 generations instead of requested 3. Proceeding with 1 generations.\n",
            "WARNING:ragas.prompt.pydantic_prompt:LLM returned 1 generations instead of requested 3. Proceeding with 1 generations.\n",
            "WARNING:ragas.prompt.pydantic_prompt:LLM returned 1 generations instead of requested 3. Proceeding with 1 generations.\n",
            "WARNING:ragas.prompt.pydantic_prompt:LLM returned 1 generations instead of requested 3. Proceeding with 1 generations.\n",
            "WARNING:ragas.prompt.pydantic_prompt:LLM returned 1 generations instead of requested 3. Proceeding with 1 generations.\n",
            "WARNING:ragas.prompt.pydantic_prompt:LLM returned 1 generations instead of requested 3. Proceeding with 1 generations.\n",
            "WARNING:ragas.prompt.pydantic_prompt:LLM returned 1 generations instead of requested 3. Proceeding with 1 generations.\n",
            "WARNING:ragas.prompt.pydantic_prompt:LLM returned 1 generations instead of requested 3. Proceeding with 1 generations.\n"
          ]
        },
        {
          "output_type": "stream",
          "name": "stdout",
          "text": [
            "\n",
            "=== Enhanced System RAGAs Scores ===\n",
            "{'faithfulness': 0.7667, 'answer_relevancy': 0.7759, 'context_precision': 0.8583, 'context_recall': 0.6667}\n"
          ]
        }
      ]
    },
    {
      "cell_type": "markdown",
      "source": [
        "---\n",
        "## 13. Final Comprehensive Summary\n",
        "Complete overview of all experimental results and key findings"
      ],
      "metadata": {
        "id": "1MK6YOTqh-El"
      }
    },
    {
      "cell_type": "code",
      "source": [
        "# Final comprehensive comparison\n",
        "print(\"\\n\" + \"=\"*60)\n",
        "print(\"COMPLETE RESULTS SUMMARY\")\n",
        "print(\"=\"*60)\n",
        "\n",
        "print(\"\\n1. F1 & Exact Match Scores:\")\n",
        "print(f\"   Naive (Top-5):     F1=65.52, EM=60.00\")\n",
        "print(f\"   Enhanced (Rerank): F1=67.54, EM=62.00\")\n",
        "print(f\"   Improvement:       F1=+2.02, EM=+2.00\")\n",
        "\n",
        "print(\"\\n2. RAGAs Metrics:\")\n",
        "print(\"   Metric              Naive    Enhanced   Change\")\n",
        "print(\"   ─────────────────────────────────────────────\")\n",
        "print(f\"   Faithfulness        0.7000   0.8167     +0.1167\")\n",
        "print(f\"   Answer Relevancy    0.8070   0.8097     +0.0027\")\n",
        "print(f\"   Context Precision   0.7244   0.8722     +0.1478\")\n",
        "print(f\"   Context Recall      0.7667   0.7000     -0.0667\")\n",
        "\n",
        "# Save final summary\n",
        "final_summary = {\n",
        "    'f1_em_scores': {\n",
        "        'naive': {'f1': 65.52, 'em': 60.00},\n",
        "        'enhanced': {'f1': 67.54, 'em': 62.00}\n",
        "    },\n",
        "    'ragas_scores': {\n",
        "        'naive': {\n",
        "            'faithfulness': 0.7000,\n",
        "            'answer_relevancy': 0.8070,\n",
        "            'context_precision': 0.7244,\n",
        "            'context_recall': 0.7667\n",
        "        },\n",
        "        'enhanced': {\n",
        "            'faithfulness': 0.8167,\n",
        "            'answer_relevancy': 0.8097,\n",
        "            'context_precision': 0.8722,\n",
        "            'context_recall': 0.7000\n",
        "        }\n",
        "    }\n",
        "}\n",
        "\n",
        "import json\n",
        "with open('final_summary.json', 'w') as f:\n",
        "    json.dump(final_summary, f, indent=2)\n",
        "\n",
        "print(\"\\nAll results saved!\")\n",
        "print(\"\\n\" + \"=\"*60)\n",
        "print(\"=\"*60)"
      ],
      "metadata": {
        "id": "GDchuBwqgZU4",
        "colab": {
          "base_uri": "https://localhost:8080/",
          "height": 0
        },
        "outputId": "983ba542-94ba-4c5c-95b6-d5d6bed632e8"
      },
      "execution_count": 53,
      "outputs": [
        {
          "output_type": "stream",
          "name": "stdout",
          "text": [
            "\n",
            "============================================================\n",
            "COMPLETE RESULTS SUMMARY\n",
            "============================================================\n",
            "\n",
            "1. F1 & Exact Match Scores:\n",
            "   Naive (Top-5):     F1=65.52, EM=60.00\n",
            "   Enhanced (Rerank): F1=67.54, EM=62.00\n",
            "   Improvement:       F1=+2.02, EM=+2.00\n",
            "\n",
            "2. RAGAs Metrics:\n",
            "   Metric              Naive    Enhanced   Change\n",
            "   ─────────────────────────────────────────────\n",
            "   Faithfulness        0.7000   0.8167     +0.1167\n",
            "   Answer Relevancy    0.8070   0.8097     +0.0027\n",
            "   Context Precision   0.7244   0.8722     +0.1478\n",
            "   Context Recall      0.7667   0.7000     -0.0667\n",
            "\n",
            "All results saved!\n",
            "\n",
            "============================================================\n",
            "============================================================\n"
          ]
        }
      ]
    },
    {
      "cell_type": "code",
      "source": [
        "# ============================================\n",
        "# FINAL COMPREHENSIVE SUMMARY\n",
        "# ============================================\n",
        "\n",
        "print(\"\\n\" + \"=\"*80)\n",
        "print(\"COMPREHENSIVE EXPERIMENTAL RESULTS SUMMARY\")\n",
        "print(\"=\"*80)\n",
        "\n",
        "print(\"\\n1. BASELINE EXPERIMENTS (Top-K Retrieval)\")\n",
        "print(\"-\" * 80)\n",
        "baseline_summary = master_results[master_results['Category'] == 'Baseline']\n",
        "print(baseline_summary[['Experiment', 'Top_K', 'F1', 'EM']].to_string(index=False))\n",
        "\n",
        "print(\"\\n2. PROMPTING STRATEGIES\")\n",
        "print(\"-\" * 80)\n",
        "prompting_summary = master_results[master_results['Category'] == 'Prompting']\n",
        "print(prompting_summary[['Experiment', 'F1', 'EM']].to_string(index=False))\n",
        "\n",
        "print(\"\\n3. EMBEDDING DIMENSIONS\")\n",
        "print(\"-\" * 80)\n",
        "print(f\"{'Model':<30} {'Dimensions':<12} {'F1':<8} {'EM':<8}\")\n",
        "print(\"-\" * 80)\n",
        "print(f\"{'all-MiniLM-L6-v2 (384-dim)':<30} {384:<12} {65.52:<8.2f} {60.00:<8.2f}\")\n",
        "print(f\"{'all-mpnet-base-v2 (768-dim)':<30} {768:<12} {scores_768_full['f1']:<8.2f} {scores_768_full['exact_match']:<8.2f}\")\n",
        "\n",
        "print(\"\\n4. ADVANCED ENHANCEMENTS\")\n",
        "print(\"-\" * 80)\n",
        "enhancement_summary = master_results[master_results['Category'] == 'Enhancement']\n",
        "print(enhancement_summary[['Experiment', 'Enhancement', 'F1', 'EM']].to_string(index=False))\n",
        "\n",
        "print(\"\\n5. RAGAS EVALUATION METRICS\")\n",
        "print(\"-\" * 80)\n",
        "print(f\"{'Metric':<20} {'Naive':<10} {'Enhanced':<10} {'Change':<10}\")\n",
        "print(\"-\" * 80)\n",
        "# Use the actual values from your RAGAs output\n",
        "print(f\"{'Faithfulness':<20} {0.7000:<10.4f} {0.8167:<10.4f} {'+0.1167':<10}\")\n",
        "print(f\"{'Answer Relevancy':<20} {0.8070:<10.4f} {0.8097:<10.4f} {'+0.0027':<10}\")\n",
        "print(f\"{'Context Precision':<20} {0.7244:<10.4f} {0.8722:<10.4f} {'+0.1478':<10}\")\n",
        "print(f\"{'Context Recall':<20} {0.7667:<10.4f} {0.7000:<10.4f} {'-0.0667':<10}\")\n",
        "\n",
        "print(\"\\n6. KEY FINDINGS\")\n",
        "print(\"-\" * 80)\n",
        "print(f\"• Best performing system: Enhanced RAG with Reranking\")\n",
        "print(f\"• Baseline performance:   F1={65.52:.2f}%, EM={60.00:.2f}%\")\n",
        "print(f\"• Best performance:       F1={rerank_scores['f1']:.2f}%, EM={rerank_scores['exact_match']:.2f}%\")\n",
        "print(f\"• Absolute improvement:   F1=+{rerank_scores['f1']-65.52:.2f}%, EM=+{rerank_scores['exact_match']-60.00:.2f}%\")\n",
        "\n",
        "print(\"\\n7. ALL RESULTS SAVED\")\n",
        "print(\"-\" * 80)\n",
        "print(\"All CSV files generated in current directory\")\n",
        "print(\"All visualizations saved as PNG files\")\n",
        "print(\"RAGAs results saved as pickle files\")\n",
        "\n",
        "print(\"\\n\" + \"=\"*80)\n",
        "print(\"EXPERIMENTS COMPLETE - READY FOR DOCUMENTATION\")\n",
        "print(\"=\"*80)"
      ],
      "metadata": {
        "id": "YhdIjM4dnPr1",
        "colab": {
          "base_uri": "https://localhost:8080/",
          "height": 0
        },
        "outputId": "5de835d0-4244-4dac-97fe-a95a283f8313"
      },
      "execution_count": 57,
      "outputs": [
        {
          "output_type": "stream",
          "name": "stdout",
          "text": [
            "\n",
            "================================================================================\n",
            "COMPREHENSIVE EXPERIMENTAL RESULTS SUMMARY\n",
            "================================================================================\n",
            "\n",
            "1. BASELINE EXPERIMENTS (Top-K Retrieval)\n",
            "--------------------------------------------------------------------------------\n",
            "        Experiment Top_K    F1   EM\n",
            "            Top-10    10 68.80 62.0\n",
            "Top-5 (Best Naive)     5 65.52 60.0\n",
            "             Top-3     3 62.52 56.0\n",
            "             Top-1     1 49.36 44.0\n",
            "\n",
            "2. PROMPTING STRATEGIES\n",
            "--------------------------------------------------------------------------------\n",
            "        Experiment        F1   EM\n",
            "     Simple Prompt 57.144222 51.0\n",
            "Instruction Prompt 55.139432 49.0\n",
            "    Persona Prompt 51.824677 46.0\n",
            " Structured Prompt 47.784933 41.0\n",
            "\n",
            "3. EMBEDDING DIMENSIONS\n",
            "--------------------------------------------------------------------------------\n",
            "Model                          Dimensions   F1       EM      \n",
            "--------------------------------------------------------------------------------\n",
            "all-MiniLM-L6-v2 (384-dim)     384          65.52    60.00   \n",
            "all-mpnet-base-v2 (768-dim)    768          58.30    52.00   \n",
            "\n",
            "4. ADVANCED ENHANCEMENTS\n",
            "--------------------------------------------------------------------------------\n",
            "     Experiment     Enhancement    F1   EM\n",
            "Combined (Best)  Rewrite+Rerank 67.54 62.0\n",
            "      Reranking       Reranking 67.54 62.0\n",
            "Query Rewriting Query Rewriting 65.52 60.0\n",
            "\n",
            "5. RAGAS EVALUATION METRICS\n",
            "--------------------------------------------------------------------------------\n",
            "Metric               Naive      Enhanced   Change    \n",
            "--------------------------------------------------------------------------------\n",
            "Faithfulness         0.7000     0.8167     +0.1167   \n",
            "Answer Relevancy     0.8070     0.8097     +0.0027   \n",
            "Context Precision    0.7244     0.8722     +0.1478   \n",
            "Context Recall       0.7667     0.7000     -0.0667   \n",
            "\n",
            "6. KEY FINDINGS\n",
            "--------------------------------------------------------------------------------\n",
            "• Best performing system: Enhanced RAG with Reranking\n",
            "• Baseline performance:   F1=65.52%, EM=60.00%\n",
            "• Best performance:       F1=67.54%, EM=62.00%\n",
            "• Absolute improvement:   F1=+2.02%, EM=+2.00%\n",
            "\n",
            "7. ALL RESULTS SAVED\n",
            "--------------------------------------------------------------------------------\n",
            "All CSV files generated in current directory\n",
            "All visualizations saved as PNG files\n",
            "RAGAs results saved as pickle files\n",
            "\n",
            "================================================================================\n",
            "EXPERIMENTS COMPLETE - READY FOR DOCUMENTATION\n",
            "================================================================================\n"
          ]
        }
      ]
    }
  ],
  "metadata": {
    "colab": {
      "provenance": []
    },
    "kernelspec": {
      "display_name": "Python 3",
      "name": "python3"
    },
    "language_info": {
      "name": "python"
    },
    "widgets": {
      "application/vnd.jupyter.widget-state+json": {
        "9be2f0251bc3401cbb730f1944e0f9b3": {
          "model_module": "@jupyter-widgets/controls",
          "model_name": "HBoxModel",
          "model_module_version": "1.5.0",
          "state": {
            "_dom_classes": [],
            "_model_module": "@jupyter-widgets/controls",
            "_model_module_version": "1.5.0",
            "_model_name": "HBoxModel",
            "_view_count": null,
            "_view_module": "@jupyter-widgets/controls",
            "_view_module_version": "1.5.0",
            "_view_name": "HBoxView",
            "box_style": "",
            "children": [
              "IPY_MODEL_c623fd5dcea6401aaec31e1c7e8781d9",
              "IPY_MODEL_1550983ca3c94141a0b7858e8e039b8a",
              "IPY_MODEL_8302e4f718554a99afc5b2ee77562aae"
            ],
            "layout": "IPY_MODEL_fd39197dde0c42208624f5f6586ef7e2"
          }
        },
        "c623fd5dcea6401aaec31e1c7e8781d9": {
          "model_module": "@jupyter-widgets/controls",
          "model_name": "HTMLModel",
          "model_module_version": "1.5.0",
          "state": {
            "_dom_classes": [],
            "_model_module": "@jupyter-widgets/controls",
            "_model_module_version": "1.5.0",
            "_model_name": "HTMLModel",
            "_view_count": null,
            "_view_module": "@jupyter-widgets/controls",
            "_view_module_version": "1.5.0",
            "_view_name": "HTMLView",
            "description": "",
            "description_tooltip": null,
            "layout": "IPY_MODEL_e26c0b10fcf8447588e82bd8ccce3257",
            "placeholder": "​",
            "style": "IPY_MODEL_fb95ffb484c649c4a7e76849e98d0922",
            "value": "Batches: 100%"
          }
        },
        "1550983ca3c94141a0b7858e8e039b8a": {
          "model_module": "@jupyter-widgets/controls",
          "model_name": "FloatProgressModel",
          "model_module_version": "1.5.0",
          "state": {
            "_dom_classes": [],
            "_model_module": "@jupyter-widgets/controls",
            "_model_module_version": "1.5.0",
            "_model_name": "FloatProgressModel",
            "_view_count": null,
            "_view_module": "@jupyter-widgets/controls",
            "_view_module_version": "1.5.0",
            "_view_name": "ProgressView",
            "bar_style": "success",
            "description": "",
            "description_tooltip": null,
            "layout": "IPY_MODEL_c42643ade01f4f2b8ad08ca88857b805",
            "max": 100,
            "min": 0,
            "orientation": "horizontal",
            "style": "IPY_MODEL_ecfb69dcd3bb4169b6622051af383878",
            "value": 100
          }
        },
        "8302e4f718554a99afc5b2ee77562aae": {
          "model_module": "@jupyter-widgets/controls",
          "model_name": "HTMLModel",
          "model_module_version": "1.5.0",
          "state": {
            "_dom_classes": [],
            "_model_module": "@jupyter-widgets/controls",
            "_model_module_version": "1.5.0",
            "_model_name": "HTMLModel",
            "_view_count": null,
            "_view_module": "@jupyter-widgets/controls",
            "_view_module_version": "1.5.0",
            "_view_name": "HTMLView",
            "description": "",
            "description_tooltip": null,
            "layout": "IPY_MODEL_50b94022f5f34e96927a98e7df64ca14",
            "placeholder": "​",
            "style": "IPY_MODEL_b46bb39743d2401fa86cf2e629624f51",
            "value": " 100/100 [02:06&lt;00:00,  8.66it/s]"
          }
        },
        "fd39197dde0c42208624f5f6586ef7e2": {
          "model_module": "@jupyter-widgets/base",
          "model_name": "LayoutModel",
          "model_module_version": "1.2.0",
          "state": {
            "_model_module": "@jupyter-widgets/base",
            "_model_module_version": "1.2.0",
            "_model_name": "LayoutModel",
            "_view_count": null,
            "_view_module": "@jupyter-widgets/base",
            "_view_module_version": "1.2.0",
            "_view_name": "LayoutView",
            "align_content": null,
            "align_items": null,
            "align_self": null,
            "border": null,
            "bottom": null,
            "display": null,
            "flex": null,
            "flex_flow": null,
            "grid_area": null,
            "grid_auto_columns": null,
            "grid_auto_flow": null,
            "grid_auto_rows": null,
            "grid_column": null,
            "grid_gap": null,
            "grid_row": null,
            "grid_template_areas": null,
            "grid_template_columns": null,
            "grid_template_rows": null,
            "height": null,
            "justify_content": null,
            "justify_items": null,
            "left": null,
            "margin": null,
            "max_height": null,
            "max_width": null,
            "min_height": null,
            "min_width": null,
            "object_fit": null,
            "object_position": null,
            "order": null,
            "overflow": null,
            "overflow_x": null,
            "overflow_y": null,
            "padding": null,
            "right": null,
            "top": null,
            "visibility": null,
            "width": null
          }
        },
        "e26c0b10fcf8447588e82bd8ccce3257": {
          "model_module": "@jupyter-widgets/base",
          "model_name": "LayoutModel",
          "model_module_version": "1.2.0",
          "state": {
            "_model_module": "@jupyter-widgets/base",
            "_model_module_version": "1.2.0",
            "_model_name": "LayoutModel",
            "_view_count": null,
            "_view_module": "@jupyter-widgets/base",
            "_view_module_version": "1.2.0",
            "_view_name": "LayoutView",
            "align_content": null,
            "align_items": null,
            "align_self": null,
            "border": null,
            "bottom": null,
            "display": null,
            "flex": null,
            "flex_flow": null,
            "grid_area": null,
            "grid_auto_columns": null,
            "grid_auto_flow": null,
            "grid_auto_rows": null,
            "grid_column": null,
            "grid_gap": null,
            "grid_row": null,
            "grid_template_areas": null,
            "grid_template_columns": null,
            "grid_template_rows": null,
            "height": null,
            "justify_content": null,
            "justify_items": null,
            "left": null,
            "margin": null,
            "max_height": null,
            "max_width": null,
            "min_height": null,
            "min_width": null,
            "object_fit": null,
            "object_position": null,
            "order": null,
            "overflow": null,
            "overflow_x": null,
            "overflow_y": null,
            "padding": null,
            "right": null,
            "top": null,
            "visibility": null,
            "width": null
          }
        },
        "fb95ffb484c649c4a7e76849e98d0922": {
          "model_module": "@jupyter-widgets/controls",
          "model_name": "DescriptionStyleModel",
          "model_module_version": "1.5.0",
          "state": {
            "_model_module": "@jupyter-widgets/controls",
            "_model_module_version": "1.5.0",
            "_model_name": "DescriptionStyleModel",
            "_view_count": null,
            "_view_module": "@jupyter-widgets/base",
            "_view_module_version": "1.2.0",
            "_view_name": "StyleView",
            "description_width": ""
          }
        },
        "c42643ade01f4f2b8ad08ca88857b805": {
          "model_module": "@jupyter-widgets/base",
          "model_name": "LayoutModel",
          "model_module_version": "1.2.0",
          "state": {
            "_model_module": "@jupyter-widgets/base",
            "_model_module_version": "1.2.0",
            "_model_name": "LayoutModel",
            "_view_count": null,
            "_view_module": "@jupyter-widgets/base",
            "_view_module_version": "1.2.0",
            "_view_name": "LayoutView",
            "align_content": null,
            "align_items": null,
            "align_self": null,
            "border": null,
            "bottom": null,
            "display": null,
            "flex": null,
            "flex_flow": null,
            "grid_area": null,
            "grid_auto_columns": null,
            "grid_auto_flow": null,
            "grid_auto_rows": null,
            "grid_column": null,
            "grid_gap": null,
            "grid_row": null,
            "grid_template_areas": null,
            "grid_template_columns": null,
            "grid_template_rows": null,
            "height": null,
            "justify_content": null,
            "justify_items": null,
            "left": null,
            "margin": null,
            "max_height": null,
            "max_width": null,
            "min_height": null,
            "min_width": null,
            "object_fit": null,
            "object_position": null,
            "order": null,
            "overflow": null,
            "overflow_x": null,
            "overflow_y": null,
            "padding": null,
            "right": null,
            "top": null,
            "visibility": null,
            "width": null
          }
        },
        "ecfb69dcd3bb4169b6622051af383878": {
          "model_module": "@jupyter-widgets/controls",
          "model_name": "ProgressStyleModel",
          "model_module_version": "1.5.0",
          "state": {
            "_model_module": "@jupyter-widgets/controls",
            "_model_module_version": "1.5.0",
            "_model_name": "ProgressStyleModel",
            "_view_count": null,
            "_view_module": "@jupyter-widgets/base",
            "_view_module_version": "1.2.0",
            "_view_name": "StyleView",
            "bar_color": null,
            "description_width": ""
          }
        },
        "50b94022f5f34e96927a98e7df64ca14": {
          "model_module": "@jupyter-widgets/base",
          "model_name": "LayoutModel",
          "model_module_version": "1.2.0",
          "state": {
            "_model_module": "@jupyter-widgets/base",
            "_model_module_version": "1.2.0",
            "_model_name": "LayoutModel",
            "_view_count": null,
            "_view_module": "@jupyter-widgets/base",
            "_view_module_version": "1.2.0",
            "_view_name": "LayoutView",
            "align_content": null,
            "align_items": null,
            "align_self": null,
            "border": null,
            "bottom": null,
            "display": null,
            "flex": null,
            "flex_flow": null,
            "grid_area": null,
            "grid_auto_columns": null,
            "grid_auto_flow": null,
            "grid_auto_rows": null,
            "grid_column": null,
            "grid_gap": null,
            "grid_row": null,
            "grid_template_areas": null,
            "grid_template_columns": null,
            "grid_template_rows": null,
            "height": null,
            "justify_content": null,
            "justify_items": null,
            "left": null,
            "margin": null,
            "max_height": null,
            "max_width": null,
            "min_height": null,
            "min_width": null,
            "object_fit": null,
            "object_position": null,
            "order": null,
            "overflow": null,
            "overflow_x": null,
            "overflow_y": null,
            "padding": null,
            "right": null,
            "top": null,
            "visibility": null,
            "width": null
          }
        },
        "b46bb39743d2401fa86cf2e629624f51": {
          "model_module": "@jupyter-widgets/controls",
          "model_name": "DescriptionStyleModel",
          "model_module_version": "1.5.0",
          "state": {
            "_model_module": "@jupyter-widgets/controls",
            "_model_module_version": "1.5.0",
            "_model_name": "DescriptionStyleModel",
            "_view_count": null,
            "_view_module": "@jupyter-widgets/base",
            "_view_module_version": "1.2.0",
            "_view_name": "StyleView",
            "description_width": ""
          }
        },
        "f6c2f749e3ca43999121e421801cfd0a": {
          "model_module": "@jupyter-widgets/controls",
          "model_name": "HBoxModel",
          "model_module_version": "1.5.0",
          "state": {
            "_dom_classes": [],
            "_model_module": "@jupyter-widgets/controls",
            "_model_module_version": "1.5.0",
            "_model_name": "HBoxModel",
            "_view_count": null,
            "_view_module": "@jupyter-widgets/controls",
            "_view_module_version": "1.5.0",
            "_view_name": "HBoxView",
            "box_style": "",
            "children": [
              "IPY_MODEL_3b251b35ff2e4c788660cdd5c4105004",
              "IPY_MODEL_c3b7045a2a6a4ca0b4a11c2414642433",
              "IPY_MODEL_498a77a0c6ab4390931767b0fc095be3"
            ],
            "layout": "IPY_MODEL_22538e43a41a46cd932b1bcb70d95308"
          }
        },
        "3b251b35ff2e4c788660cdd5c4105004": {
          "model_module": "@jupyter-widgets/controls",
          "model_name": "HTMLModel",
          "model_module_version": "1.5.0",
          "state": {
            "_dom_classes": [],
            "_model_module": "@jupyter-widgets/controls",
            "_model_module_version": "1.5.0",
            "_model_name": "HTMLModel",
            "_view_count": null,
            "_view_module": "@jupyter-widgets/controls",
            "_view_module_version": "1.5.0",
            "_view_name": "HTMLView",
            "description": "",
            "description_tooltip": null,
            "layout": "IPY_MODEL_770ecc5b3ab74da6b181c8448e9ffc7c",
            "placeholder": "​",
            "style": "IPY_MODEL_462d2cfa83a541828cda704a82c44319",
            "value": "Batches: 100%"
          }
        },
        "c3b7045a2a6a4ca0b4a11c2414642433": {
          "model_module": "@jupyter-widgets/controls",
          "model_name": "FloatProgressModel",
          "model_module_version": "1.5.0",
          "state": {
            "_dom_classes": [],
            "_model_module": "@jupyter-widgets/controls",
            "_model_module_version": "1.5.0",
            "_model_name": "FloatProgressModel",
            "_view_count": null,
            "_view_module": "@jupyter-widgets/controls",
            "_view_module_version": "1.5.0",
            "_view_name": "ProgressView",
            "bar_style": "success",
            "description": "",
            "description_tooltip": null,
            "layout": "IPY_MODEL_3bef63d7e08b47deb222a39d599ded64",
            "max": 100,
            "min": 0,
            "orientation": "horizontal",
            "style": "IPY_MODEL_b28c12faf12e463d97d34525689e0603",
            "value": 100
          }
        },
        "498a77a0c6ab4390931767b0fc095be3": {
          "model_module": "@jupyter-widgets/controls",
          "model_name": "HTMLModel",
          "model_module_version": "1.5.0",
          "state": {
            "_dom_classes": [],
            "_model_module": "@jupyter-widgets/controls",
            "_model_module_version": "1.5.0",
            "_model_name": "HTMLModel",
            "_view_count": null,
            "_view_module": "@jupyter-widgets/controls",
            "_view_module_version": "1.5.0",
            "_view_name": "HTMLView",
            "description": "",
            "description_tooltip": null,
            "layout": "IPY_MODEL_db2d011c76234f41863c78ed097f5ac3",
            "placeholder": "​",
            "style": "IPY_MODEL_b9c6e756c289404aa8885a65e03b2d97",
            "value": " 100/100 [15:11&lt;00:00,  1.34it/s]"
          }
        },
        "22538e43a41a46cd932b1bcb70d95308": {
          "model_module": "@jupyter-widgets/base",
          "model_name": "LayoutModel",
          "model_module_version": "1.2.0",
          "state": {
            "_model_module": "@jupyter-widgets/base",
            "_model_module_version": "1.2.0",
            "_model_name": "LayoutModel",
            "_view_count": null,
            "_view_module": "@jupyter-widgets/base",
            "_view_module_version": "1.2.0",
            "_view_name": "LayoutView",
            "align_content": null,
            "align_items": null,
            "align_self": null,
            "border": null,
            "bottom": null,
            "display": null,
            "flex": null,
            "flex_flow": null,
            "grid_area": null,
            "grid_auto_columns": null,
            "grid_auto_flow": null,
            "grid_auto_rows": null,
            "grid_column": null,
            "grid_gap": null,
            "grid_row": null,
            "grid_template_areas": null,
            "grid_template_columns": null,
            "grid_template_rows": null,
            "height": null,
            "justify_content": null,
            "justify_items": null,
            "left": null,
            "margin": null,
            "max_height": null,
            "max_width": null,
            "min_height": null,
            "min_width": null,
            "object_fit": null,
            "object_position": null,
            "order": null,
            "overflow": null,
            "overflow_x": null,
            "overflow_y": null,
            "padding": null,
            "right": null,
            "top": null,
            "visibility": null,
            "width": null
          }
        },
        "770ecc5b3ab74da6b181c8448e9ffc7c": {
          "model_module": "@jupyter-widgets/base",
          "model_name": "LayoutModel",
          "model_module_version": "1.2.0",
          "state": {
            "_model_module": "@jupyter-widgets/base",
            "_model_module_version": "1.2.0",
            "_model_name": "LayoutModel",
            "_view_count": null,
            "_view_module": "@jupyter-widgets/base",
            "_view_module_version": "1.2.0",
            "_view_name": "LayoutView",
            "align_content": null,
            "align_items": null,
            "align_self": null,
            "border": null,
            "bottom": null,
            "display": null,
            "flex": null,
            "flex_flow": null,
            "grid_area": null,
            "grid_auto_columns": null,
            "grid_auto_flow": null,
            "grid_auto_rows": null,
            "grid_column": null,
            "grid_gap": null,
            "grid_row": null,
            "grid_template_areas": null,
            "grid_template_columns": null,
            "grid_template_rows": null,
            "height": null,
            "justify_content": null,
            "justify_items": null,
            "left": null,
            "margin": null,
            "max_height": null,
            "max_width": null,
            "min_height": null,
            "min_width": null,
            "object_fit": null,
            "object_position": null,
            "order": null,
            "overflow": null,
            "overflow_x": null,
            "overflow_y": null,
            "padding": null,
            "right": null,
            "top": null,
            "visibility": null,
            "width": null
          }
        },
        "462d2cfa83a541828cda704a82c44319": {
          "model_module": "@jupyter-widgets/controls",
          "model_name": "DescriptionStyleModel",
          "model_module_version": "1.5.0",
          "state": {
            "_model_module": "@jupyter-widgets/controls",
            "_model_module_version": "1.5.0",
            "_model_name": "DescriptionStyleModel",
            "_view_count": null,
            "_view_module": "@jupyter-widgets/base",
            "_view_module_version": "1.2.0",
            "_view_name": "StyleView",
            "description_width": ""
          }
        },
        "3bef63d7e08b47deb222a39d599ded64": {
          "model_module": "@jupyter-widgets/base",
          "model_name": "LayoutModel",
          "model_module_version": "1.2.0",
          "state": {
            "_model_module": "@jupyter-widgets/base",
            "_model_module_version": "1.2.0",
            "_model_name": "LayoutModel",
            "_view_count": null,
            "_view_module": "@jupyter-widgets/base",
            "_view_module_version": "1.2.0",
            "_view_name": "LayoutView",
            "align_content": null,
            "align_items": null,
            "align_self": null,
            "border": null,
            "bottom": null,
            "display": null,
            "flex": null,
            "flex_flow": null,
            "grid_area": null,
            "grid_auto_columns": null,
            "grid_auto_flow": null,
            "grid_auto_rows": null,
            "grid_column": null,
            "grid_gap": null,
            "grid_row": null,
            "grid_template_areas": null,
            "grid_template_columns": null,
            "grid_template_rows": null,
            "height": null,
            "justify_content": null,
            "justify_items": null,
            "left": null,
            "margin": null,
            "max_height": null,
            "max_width": null,
            "min_height": null,
            "min_width": null,
            "object_fit": null,
            "object_position": null,
            "order": null,
            "overflow": null,
            "overflow_x": null,
            "overflow_y": null,
            "padding": null,
            "right": null,
            "top": null,
            "visibility": null,
            "width": null
          }
        },
        "b28c12faf12e463d97d34525689e0603": {
          "model_module": "@jupyter-widgets/controls",
          "model_name": "ProgressStyleModel",
          "model_module_version": "1.5.0",
          "state": {
            "_model_module": "@jupyter-widgets/controls",
            "_model_module_version": "1.5.0",
            "_model_name": "ProgressStyleModel",
            "_view_count": null,
            "_view_module": "@jupyter-widgets/base",
            "_view_module_version": "1.2.0",
            "_view_name": "StyleView",
            "bar_color": null,
            "description_width": ""
          }
        },
        "db2d011c76234f41863c78ed097f5ac3": {
          "model_module": "@jupyter-widgets/base",
          "model_name": "LayoutModel",
          "model_module_version": "1.2.0",
          "state": {
            "_model_module": "@jupyter-widgets/base",
            "_model_module_version": "1.2.0",
            "_model_name": "LayoutModel",
            "_view_count": null,
            "_view_module": "@jupyter-widgets/base",
            "_view_module_version": "1.2.0",
            "_view_name": "LayoutView",
            "align_content": null,
            "align_items": null,
            "align_self": null,
            "border": null,
            "bottom": null,
            "display": null,
            "flex": null,
            "flex_flow": null,
            "grid_area": null,
            "grid_auto_columns": null,
            "grid_auto_flow": null,
            "grid_auto_rows": null,
            "grid_column": null,
            "grid_gap": null,
            "grid_row": null,
            "grid_template_areas": null,
            "grid_template_columns": null,
            "grid_template_rows": null,
            "height": null,
            "justify_content": null,
            "justify_items": null,
            "left": null,
            "margin": null,
            "max_height": null,
            "max_width": null,
            "min_height": null,
            "min_width": null,
            "object_fit": null,
            "object_position": null,
            "order": null,
            "overflow": null,
            "overflow_x": null,
            "overflow_y": null,
            "padding": null,
            "right": null,
            "top": null,
            "visibility": null,
            "width": null
          }
        },
        "b9c6e756c289404aa8885a65e03b2d97": {
          "model_module": "@jupyter-widgets/controls",
          "model_name": "DescriptionStyleModel",
          "model_module_version": "1.5.0",
          "state": {
            "_model_module": "@jupyter-widgets/controls",
            "_model_module_version": "1.5.0",
            "_model_name": "DescriptionStyleModel",
            "_view_count": null,
            "_view_module": "@jupyter-widgets/base",
            "_view_module_version": "1.2.0",
            "_view_name": "StyleView",
            "description_width": ""
          }
        },
        "a7f64a16a00f40bcad281199aeae4c11": {
          "model_module": "@jupyter-widgets/controls",
          "model_name": "HBoxModel",
          "model_module_version": "1.5.0",
          "state": {
            "_dom_classes": [],
            "_model_module": "@jupyter-widgets/controls",
            "_model_module_version": "1.5.0",
            "_model_name": "HBoxModel",
            "_view_count": null,
            "_view_module": "@jupyter-widgets/controls",
            "_view_module_version": "1.5.0",
            "_view_name": "HBoxView",
            "box_style": "",
            "children": [
              "IPY_MODEL_c6b5b76bbcb5425096b488b97001952f",
              "IPY_MODEL_3f406712556b441fad280dffba75027c",
              "IPY_MODEL_10885d18571b4b0183319b9548cd0e83"
            ],
            "layout": "IPY_MODEL_7126471bc29a473d8f808cd6ee10622c"
          }
        },
        "c6b5b76bbcb5425096b488b97001952f": {
          "model_module": "@jupyter-widgets/controls",
          "model_name": "HTMLModel",
          "model_module_version": "1.5.0",
          "state": {
            "_dom_classes": [],
            "_model_module": "@jupyter-widgets/controls",
            "_model_module_version": "1.5.0",
            "_model_name": "HTMLModel",
            "_view_count": null,
            "_view_module": "@jupyter-widgets/controls",
            "_view_module_version": "1.5.0",
            "_view_name": "HTMLView",
            "description": "",
            "description_tooltip": null,
            "layout": "IPY_MODEL_b72418b91ed54d499c5986d17f58a6c7",
            "placeholder": "​",
            "style": "IPY_MODEL_54c4b8c60f07496583ee13f4f0e35b24",
            "value": "Evaluating: 100%"
          }
        },
        "3f406712556b441fad280dffba75027c": {
          "model_module": "@jupyter-widgets/controls",
          "model_name": "FloatProgressModel",
          "model_module_version": "1.5.0",
          "state": {
            "_dom_classes": [],
            "_model_module": "@jupyter-widgets/controls",
            "_model_module_version": "1.5.0",
            "_model_name": "FloatProgressModel",
            "_view_count": null,
            "_view_module": "@jupyter-widgets/controls",
            "_view_module_version": "1.5.0",
            "_view_name": "ProgressView",
            "bar_style": "success",
            "description": "",
            "description_tooltip": null,
            "layout": "IPY_MODEL_b6c4c58e5e3143e49a4558c850047f8c",
            "max": 120,
            "min": 0,
            "orientation": "horizontal",
            "style": "IPY_MODEL_8c16676e7de24b528a6e44f97faaddec",
            "value": 120
          }
        },
        "10885d18571b4b0183319b9548cd0e83": {
          "model_module": "@jupyter-widgets/controls",
          "model_name": "HTMLModel",
          "model_module_version": "1.5.0",
          "state": {
            "_dom_classes": [],
            "_model_module": "@jupyter-widgets/controls",
            "_model_module_version": "1.5.0",
            "_model_name": "HTMLModel",
            "_view_count": null,
            "_view_module": "@jupyter-widgets/controls",
            "_view_module_version": "1.5.0",
            "_view_name": "HTMLView",
            "description": "",
            "description_tooltip": null,
            "layout": "IPY_MODEL_660f3a57891640d5b1e48351869f6b08",
            "placeholder": "​",
            "style": "IPY_MODEL_cf203598215a40cf88876bfe4d53a84c",
            "value": " 120/120 [00:37&lt;00:00,  2.19it/s]"
          }
        },
        "7126471bc29a473d8f808cd6ee10622c": {
          "model_module": "@jupyter-widgets/base",
          "model_name": "LayoutModel",
          "model_module_version": "1.2.0",
          "state": {
            "_model_module": "@jupyter-widgets/base",
            "_model_module_version": "1.2.0",
            "_model_name": "LayoutModel",
            "_view_count": null,
            "_view_module": "@jupyter-widgets/base",
            "_view_module_version": "1.2.0",
            "_view_name": "LayoutView",
            "align_content": null,
            "align_items": null,
            "align_self": null,
            "border": null,
            "bottom": null,
            "display": null,
            "flex": null,
            "flex_flow": null,
            "grid_area": null,
            "grid_auto_columns": null,
            "grid_auto_flow": null,
            "grid_auto_rows": null,
            "grid_column": null,
            "grid_gap": null,
            "grid_row": null,
            "grid_template_areas": null,
            "grid_template_columns": null,
            "grid_template_rows": null,
            "height": null,
            "justify_content": null,
            "justify_items": null,
            "left": null,
            "margin": null,
            "max_height": null,
            "max_width": null,
            "min_height": null,
            "min_width": null,
            "object_fit": null,
            "object_position": null,
            "order": null,
            "overflow": null,
            "overflow_x": null,
            "overflow_y": null,
            "padding": null,
            "right": null,
            "top": null,
            "visibility": null,
            "width": null
          }
        },
        "b72418b91ed54d499c5986d17f58a6c7": {
          "model_module": "@jupyter-widgets/base",
          "model_name": "LayoutModel",
          "model_module_version": "1.2.0",
          "state": {
            "_model_module": "@jupyter-widgets/base",
            "_model_module_version": "1.2.0",
            "_model_name": "LayoutModel",
            "_view_count": null,
            "_view_module": "@jupyter-widgets/base",
            "_view_module_version": "1.2.0",
            "_view_name": "LayoutView",
            "align_content": null,
            "align_items": null,
            "align_self": null,
            "border": null,
            "bottom": null,
            "display": null,
            "flex": null,
            "flex_flow": null,
            "grid_area": null,
            "grid_auto_columns": null,
            "grid_auto_flow": null,
            "grid_auto_rows": null,
            "grid_column": null,
            "grid_gap": null,
            "grid_row": null,
            "grid_template_areas": null,
            "grid_template_columns": null,
            "grid_template_rows": null,
            "height": null,
            "justify_content": null,
            "justify_items": null,
            "left": null,
            "margin": null,
            "max_height": null,
            "max_width": null,
            "min_height": null,
            "min_width": null,
            "object_fit": null,
            "object_position": null,
            "order": null,
            "overflow": null,
            "overflow_x": null,
            "overflow_y": null,
            "padding": null,
            "right": null,
            "top": null,
            "visibility": null,
            "width": null
          }
        },
        "54c4b8c60f07496583ee13f4f0e35b24": {
          "model_module": "@jupyter-widgets/controls",
          "model_name": "DescriptionStyleModel",
          "model_module_version": "1.5.0",
          "state": {
            "_model_module": "@jupyter-widgets/controls",
            "_model_module_version": "1.5.0",
            "_model_name": "DescriptionStyleModel",
            "_view_count": null,
            "_view_module": "@jupyter-widgets/base",
            "_view_module_version": "1.2.0",
            "_view_name": "StyleView",
            "description_width": ""
          }
        },
        "b6c4c58e5e3143e49a4558c850047f8c": {
          "model_module": "@jupyter-widgets/base",
          "model_name": "LayoutModel",
          "model_module_version": "1.2.0",
          "state": {
            "_model_module": "@jupyter-widgets/base",
            "_model_module_version": "1.2.0",
            "_model_name": "LayoutModel",
            "_view_count": null,
            "_view_module": "@jupyter-widgets/base",
            "_view_module_version": "1.2.0",
            "_view_name": "LayoutView",
            "align_content": null,
            "align_items": null,
            "align_self": null,
            "border": null,
            "bottom": null,
            "display": null,
            "flex": null,
            "flex_flow": null,
            "grid_area": null,
            "grid_auto_columns": null,
            "grid_auto_flow": null,
            "grid_auto_rows": null,
            "grid_column": null,
            "grid_gap": null,
            "grid_row": null,
            "grid_template_areas": null,
            "grid_template_columns": null,
            "grid_template_rows": null,
            "height": null,
            "justify_content": null,
            "justify_items": null,
            "left": null,
            "margin": null,
            "max_height": null,
            "max_width": null,
            "min_height": null,
            "min_width": null,
            "object_fit": null,
            "object_position": null,
            "order": null,
            "overflow": null,
            "overflow_x": null,
            "overflow_y": null,
            "padding": null,
            "right": null,
            "top": null,
            "visibility": null,
            "width": null
          }
        },
        "8c16676e7de24b528a6e44f97faaddec": {
          "model_module": "@jupyter-widgets/controls",
          "model_name": "ProgressStyleModel",
          "model_module_version": "1.5.0",
          "state": {
            "_model_module": "@jupyter-widgets/controls",
            "_model_module_version": "1.5.0",
            "_model_name": "ProgressStyleModel",
            "_view_count": null,
            "_view_module": "@jupyter-widgets/base",
            "_view_module_version": "1.2.0",
            "_view_name": "StyleView",
            "bar_color": null,
            "description_width": ""
          }
        },
        "660f3a57891640d5b1e48351869f6b08": {
          "model_module": "@jupyter-widgets/base",
          "model_name": "LayoutModel",
          "model_module_version": "1.2.0",
          "state": {
            "_model_module": "@jupyter-widgets/base",
            "_model_module_version": "1.2.0",
            "_model_name": "LayoutModel",
            "_view_count": null,
            "_view_module": "@jupyter-widgets/base",
            "_view_module_version": "1.2.0",
            "_view_name": "LayoutView",
            "align_content": null,
            "align_items": null,
            "align_self": null,
            "border": null,
            "bottom": null,
            "display": null,
            "flex": null,
            "flex_flow": null,
            "grid_area": null,
            "grid_auto_columns": null,
            "grid_auto_flow": null,
            "grid_auto_rows": null,
            "grid_column": null,
            "grid_gap": null,
            "grid_row": null,
            "grid_template_areas": null,
            "grid_template_columns": null,
            "grid_template_rows": null,
            "height": null,
            "justify_content": null,
            "justify_items": null,
            "left": null,
            "margin": null,
            "max_height": null,
            "max_width": null,
            "min_height": null,
            "min_width": null,
            "object_fit": null,
            "object_position": null,
            "order": null,
            "overflow": null,
            "overflow_x": null,
            "overflow_y": null,
            "padding": null,
            "right": null,
            "top": null,
            "visibility": null,
            "width": null
          }
        },
        "cf203598215a40cf88876bfe4d53a84c": {
          "model_module": "@jupyter-widgets/controls",
          "model_name": "DescriptionStyleModel",
          "model_module_version": "1.5.0",
          "state": {
            "_model_module": "@jupyter-widgets/controls",
            "_model_module_version": "1.5.0",
            "_model_name": "DescriptionStyleModel",
            "_view_count": null,
            "_view_module": "@jupyter-widgets/base",
            "_view_module_version": "1.2.0",
            "_view_name": "StyleView",
            "description_width": ""
          }
        },
        "ba926780b79c48e29e91763447748ebb": {
          "model_module": "@jupyter-widgets/controls",
          "model_name": "HBoxModel",
          "model_module_version": "1.5.0",
          "state": {
            "_dom_classes": [],
            "_model_module": "@jupyter-widgets/controls",
            "_model_module_version": "1.5.0",
            "_model_name": "HBoxModel",
            "_view_count": null,
            "_view_module": "@jupyter-widgets/controls",
            "_view_module_version": "1.5.0",
            "_view_name": "HBoxView",
            "box_style": "",
            "children": [
              "IPY_MODEL_4136b1287f3a4aaa9b18e20c2fda374c",
              "IPY_MODEL_7adc4d64a1444af69cf48b21bc69e275",
              "IPY_MODEL_570ad42afc0f4501a29109aa45a8cbc4"
            ],
            "layout": "IPY_MODEL_f0d1b3976e5e4e508a7af4da97e58f17"
          }
        },
        "4136b1287f3a4aaa9b18e20c2fda374c": {
          "model_module": "@jupyter-widgets/controls",
          "model_name": "HTMLModel",
          "model_module_version": "1.5.0",
          "state": {
            "_dom_classes": [],
            "_model_module": "@jupyter-widgets/controls",
            "_model_module_version": "1.5.0",
            "_model_name": "HTMLModel",
            "_view_count": null,
            "_view_module": "@jupyter-widgets/controls",
            "_view_module_version": "1.5.0",
            "_view_name": "HTMLView",
            "description": "",
            "description_tooltip": null,
            "layout": "IPY_MODEL_f2a31b1bd305468884c5d9bf22c74c57",
            "placeholder": "​",
            "style": "IPY_MODEL_ce82ca18524d42e99492d95f97117205",
            "value": "Evaluating: 100%"
          }
        },
        "7adc4d64a1444af69cf48b21bc69e275": {
          "model_module": "@jupyter-widgets/controls",
          "model_name": "FloatProgressModel",
          "model_module_version": "1.5.0",
          "state": {
            "_dom_classes": [],
            "_model_module": "@jupyter-widgets/controls",
            "_model_module_version": "1.5.0",
            "_model_name": "FloatProgressModel",
            "_view_count": null,
            "_view_module": "@jupyter-widgets/controls",
            "_view_module_version": "1.5.0",
            "_view_name": "ProgressView",
            "bar_style": "success",
            "description": "",
            "description_tooltip": null,
            "layout": "IPY_MODEL_5506a75f1d5d4d4dbee5592e747335c7",
            "max": 120,
            "min": 0,
            "orientation": "horizontal",
            "style": "IPY_MODEL_f3c5002b10264efaa6899a7a50ef4565",
            "value": 120
          }
        },
        "570ad42afc0f4501a29109aa45a8cbc4": {
          "model_module": "@jupyter-widgets/controls",
          "model_name": "HTMLModel",
          "model_module_version": "1.5.0",
          "state": {
            "_dom_classes": [],
            "_model_module": "@jupyter-widgets/controls",
            "_model_module_version": "1.5.0",
            "_model_name": "HTMLModel",
            "_view_count": null,
            "_view_module": "@jupyter-widgets/controls",
            "_view_module_version": "1.5.0",
            "_view_name": "HTMLView",
            "description": "",
            "description_tooltip": null,
            "layout": "IPY_MODEL_d7a59535c30a470594685b3c5a6c7ac4",
            "placeholder": "​",
            "style": "IPY_MODEL_663660d26f8d4a799ac9817c77fc3698",
            "value": " 120/120 [00:27&lt;00:00,  1.54it/s]"
          }
        },
        "f0d1b3976e5e4e508a7af4da97e58f17": {
          "model_module": "@jupyter-widgets/base",
          "model_name": "LayoutModel",
          "model_module_version": "1.2.0",
          "state": {
            "_model_module": "@jupyter-widgets/base",
            "_model_module_version": "1.2.0",
            "_model_name": "LayoutModel",
            "_view_count": null,
            "_view_module": "@jupyter-widgets/base",
            "_view_module_version": "1.2.0",
            "_view_name": "LayoutView",
            "align_content": null,
            "align_items": null,
            "align_self": null,
            "border": null,
            "bottom": null,
            "display": null,
            "flex": null,
            "flex_flow": null,
            "grid_area": null,
            "grid_auto_columns": null,
            "grid_auto_flow": null,
            "grid_auto_rows": null,
            "grid_column": null,
            "grid_gap": null,
            "grid_row": null,
            "grid_template_areas": null,
            "grid_template_columns": null,
            "grid_template_rows": null,
            "height": null,
            "justify_content": null,
            "justify_items": null,
            "left": null,
            "margin": null,
            "max_height": null,
            "max_width": null,
            "min_height": null,
            "min_width": null,
            "object_fit": null,
            "object_position": null,
            "order": null,
            "overflow": null,
            "overflow_x": null,
            "overflow_y": null,
            "padding": null,
            "right": null,
            "top": null,
            "visibility": null,
            "width": null
          }
        },
        "f2a31b1bd305468884c5d9bf22c74c57": {
          "model_module": "@jupyter-widgets/base",
          "model_name": "LayoutModel",
          "model_module_version": "1.2.0",
          "state": {
            "_model_module": "@jupyter-widgets/base",
            "_model_module_version": "1.2.0",
            "_model_name": "LayoutModel",
            "_view_count": null,
            "_view_module": "@jupyter-widgets/base",
            "_view_module_version": "1.2.0",
            "_view_name": "LayoutView",
            "align_content": null,
            "align_items": null,
            "align_self": null,
            "border": null,
            "bottom": null,
            "display": null,
            "flex": null,
            "flex_flow": null,
            "grid_area": null,
            "grid_auto_columns": null,
            "grid_auto_flow": null,
            "grid_auto_rows": null,
            "grid_column": null,
            "grid_gap": null,
            "grid_row": null,
            "grid_template_areas": null,
            "grid_template_columns": null,
            "grid_template_rows": null,
            "height": null,
            "justify_content": null,
            "justify_items": null,
            "left": null,
            "margin": null,
            "max_height": null,
            "max_width": null,
            "min_height": null,
            "min_width": null,
            "object_fit": null,
            "object_position": null,
            "order": null,
            "overflow": null,
            "overflow_x": null,
            "overflow_y": null,
            "padding": null,
            "right": null,
            "top": null,
            "visibility": null,
            "width": null
          }
        },
        "ce82ca18524d42e99492d95f97117205": {
          "model_module": "@jupyter-widgets/controls",
          "model_name": "DescriptionStyleModel",
          "model_module_version": "1.5.0",
          "state": {
            "_model_module": "@jupyter-widgets/controls",
            "_model_module_version": "1.5.0",
            "_model_name": "DescriptionStyleModel",
            "_view_count": null,
            "_view_module": "@jupyter-widgets/base",
            "_view_module_version": "1.2.0",
            "_view_name": "StyleView",
            "description_width": ""
          }
        },
        "5506a75f1d5d4d4dbee5592e747335c7": {
          "model_module": "@jupyter-widgets/base",
          "model_name": "LayoutModel",
          "model_module_version": "1.2.0",
          "state": {
            "_model_module": "@jupyter-widgets/base",
            "_model_module_version": "1.2.0",
            "_model_name": "LayoutModel",
            "_view_count": null,
            "_view_module": "@jupyter-widgets/base",
            "_view_module_version": "1.2.0",
            "_view_name": "LayoutView",
            "align_content": null,
            "align_items": null,
            "align_self": null,
            "border": null,
            "bottom": null,
            "display": null,
            "flex": null,
            "flex_flow": null,
            "grid_area": null,
            "grid_auto_columns": null,
            "grid_auto_flow": null,
            "grid_auto_rows": null,
            "grid_column": null,
            "grid_gap": null,
            "grid_row": null,
            "grid_template_areas": null,
            "grid_template_columns": null,
            "grid_template_rows": null,
            "height": null,
            "justify_content": null,
            "justify_items": null,
            "left": null,
            "margin": null,
            "max_height": null,
            "max_width": null,
            "min_height": null,
            "min_width": null,
            "object_fit": null,
            "object_position": null,
            "order": null,
            "overflow": null,
            "overflow_x": null,
            "overflow_y": null,
            "padding": null,
            "right": null,
            "top": null,
            "visibility": null,
            "width": null
          }
        },
        "f3c5002b10264efaa6899a7a50ef4565": {
          "model_module": "@jupyter-widgets/controls",
          "model_name": "ProgressStyleModel",
          "model_module_version": "1.5.0",
          "state": {
            "_model_module": "@jupyter-widgets/controls",
            "_model_module_version": "1.5.0",
            "_model_name": "ProgressStyleModel",
            "_view_count": null,
            "_view_module": "@jupyter-widgets/base",
            "_view_module_version": "1.2.0",
            "_view_name": "StyleView",
            "bar_color": null,
            "description_width": ""
          }
        },
        "d7a59535c30a470594685b3c5a6c7ac4": {
          "model_module": "@jupyter-widgets/base",
          "model_name": "LayoutModel",
          "model_module_version": "1.2.0",
          "state": {
            "_model_module": "@jupyter-widgets/base",
            "_model_module_version": "1.2.0",
            "_model_name": "LayoutModel",
            "_view_count": null,
            "_view_module": "@jupyter-widgets/base",
            "_view_module_version": "1.2.0",
            "_view_name": "LayoutView",
            "align_content": null,
            "align_items": null,
            "align_self": null,
            "border": null,
            "bottom": null,
            "display": null,
            "flex": null,
            "flex_flow": null,
            "grid_area": null,
            "grid_auto_columns": null,
            "grid_auto_flow": null,
            "grid_auto_rows": null,
            "grid_column": null,
            "grid_gap": null,
            "grid_row": null,
            "grid_template_areas": null,
            "grid_template_columns": null,
            "grid_template_rows": null,
            "height": null,
            "justify_content": null,
            "justify_items": null,
            "left": null,
            "margin": null,
            "max_height": null,
            "max_width": null,
            "min_height": null,
            "min_width": null,
            "object_fit": null,
            "object_position": null,
            "order": null,
            "overflow": null,
            "overflow_x": null,
            "overflow_y": null,
            "padding": null,
            "right": null,
            "top": null,
            "visibility": null,
            "width": null
          }
        },
        "663660d26f8d4a799ac9817c77fc3698": {
          "model_module": "@jupyter-widgets/controls",
          "model_name": "DescriptionStyleModel",
          "model_module_version": "1.5.0",
          "state": {
            "_model_module": "@jupyter-widgets/controls",
            "_model_module_version": "1.5.0",
            "_model_name": "DescriptionStyleModel",
            "_view_count": null,
            "_view_module": "@jupyter-widgets/base",
            "_view_module_version": "1.2.0",
            "_view_name": "StyleView",
            "description_width": ""
          }
        }
      }
    }
  },
  "nbformat": 4,
  "nbformat_minor": 0
}